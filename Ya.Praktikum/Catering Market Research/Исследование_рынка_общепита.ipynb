{
 "cells": [
  {
   "cell_type": "markdown",
   "metadata": {},
   "source": [
    "# Рынок заведений общественного питания Москвы"
   ]
  },
  {
   "cell_type": "markdown",
   "metadata": {},
   "source": [
    "### Описание данных"
   ]
  },
  {
   "cell_type": "markdown",
   "metadata": {},
   "source": [
    "Нам доступны открытые данные о различных сетевых и не сетевых объектах общественного питания в Москве."
   ]
  },
  {
   "cell_type": "markdown",
   "metadata": {},
   "source": [
    "### План по выполнению проекта:\n",
    "1. Загрузить данные и изучить общую информацию.\n",
    "1. Оптимизировать данные для анализа (проверить типы данных, обработать пропуски и дубликаты).\n",
    "1. Проанализировать рынок общественного питания в Москве.\n",
    "    1. Общий анализ всех заведений\n",
    "    1. Анализ топ-10 улиц с самым большим количеством заведений\n",
    "1. Написать общий вывод."
   ]
  },
  {
   "cell_type": "code",
   "execution_count": 1,
   "metadata": {},
   "outputs": [],
   "source": [
    "import matplotlib.pyplot as plt\n",
    "import seaborn as sns\n",
    "import pandas as pd\n",
    "import warnings\n",
    "import numpy as np\n",
    "import requests\n",
    "from IPython.display import display\n",
    "from io import BytesIO\n",
    "warnings.filterwarnings('ignore')"
   ]
  },
  {
   "cell_type": "markdown",
   "metadata": {},
   "source": [
    "### Шаг 1. Знакомство с данными "
   ]
  },
  {
   "cell_type": "code",
   "execution_count": 2,
   "metadata": {},
   "outputs": [],
   "source": [
    "df = pd.read_csv('/datasets/rest_data.csv')"
   ]
  },
  {
   "cell_type": "code",
   "execution_count": 3,
   "metadata": {},
   "outputs": [
    {
     "data": {
      "text/html": [
       "<div>\n",
       "<style scoped>\n",
       "    .dataframe tbody tr th:only-of-type {\n",
       "        vertical-align: middle;\n",
       "    }\n",
       "\n",
       "    .dataframe tbody tr th {\n",
       "        vertical-align: top;\n",
       "    }\n",
       "\n",
       "    .dataframe thead th {\n",
       "        text-align: right;\n",
       "    }\n",
       "</style>\n",
       "<table border=\"1\" class=\"dataframe\">\n",
       "  <thead>\n",
       "    <tr style=\"text-align: right;\">\n",
       "      <th></th>\n",
       "      <th>id</th>\n",
       "      <th>object_name</th>\n",
       "      <th>chain</th>\n",
       "      <th>object_type</th>\n",
       "      <th>address</th>\n",
       "      <th>number</th>\n",
       "    </tr>\n",
       "  </thead>\n",
       "  <tbody>\n",
       "    <tr>\n",
       "      <td>10463</td>\n",
       "      <td>185867</td>\n",
       "      <td>Ламбик</td>\n",
       "      <td>нет</td>\n",
       "      <td>кафе</td>\n",
       "      <td>город Москва, Страстной бульвар, дом 7, строен...</td>\n",
       "      <td>25</td>\n",
       "    </tr>\n",
       "    <tr>\n",
       "      <td>5877</td>\n",
       "      <td>26579</td>\n",
       "      <td>Царица Востока</td>\n",
       "      <td>нет</td>\n",
       "      <td>ресторан</td>\n",
       "      <td>город Москва, Рязанский проспект, дом 24, корп...</td>\n",
       "      <td>168</td>\n",
       "    </tr>\n",
       "    <tr>\n",
       "      <td>8005</td>\n",
       "      <td>154087</td>\n",
       "      <td>Eat and talk</td>\n",
       "      <td>нет</td>\n",
       "      <td>ресторан</td>\n",
       "      <td>город Москва, улица Воздвиженка, дом 4/7, стро...</td>\n",
       "      <td>10</td>\n",
       "    </tr>\n",
       "    <tr>\n",
       "      <td>7311</td>\n",
       "      <td>148115</td>\n",
       "      <td>Кафе «Венахи»</td>\n",
       "      <td>нет</td>\n",
       "      <td>ресторан</td>\n",
       "      <td>город Москва, улица Ленинская Слобода, дом 19,...</td>\n",
       "      <td>98</td>\n",
       "    </tr>\n",
       "    <tr>\n",
       "      <td>13498</td>\n",
       "      <td>195769</td>\n",
       "      <td>Шоколадница</td>\n",
       "      <td>да</td>\n",
       "      <td>кафе</td>\n",
       "      <td>город Москва, Профсоюзная улица, дом 102, стро...</td>\n",
       "      <td>75</td>\n",
       "    </tr>\n",
       "  </tbody>\n",
       "</table>\n",
       "</div>"
      ],
      "text/plain": [
       "           id     object_name chain object_type  \\\n",
       "10463  185867          Ламбик   нет        кафе   \n",
       "5877    26579  Царица Востока   нет    ресторан   \n",
       "8005   154087    Eat and talk   нет    ресторан   \n",
       "7311   148115   Кафе «Венахи»   нет    ресторан   \n",
       "13498  195769     Шоколадница    да        кафе   \n",
       "\n",
       "                                                 address  number  \n",
       "10463  город Москва, Страстной бульвар, дом 7, строен...      25  \n",
       "5877   город Москва, Рязанский проспект, дом 24, корп...     168  \n",
       "8005   город Москва, улица Воздвиженка, дом 4/7, стро...      10  \n",
       "7311   город Москва, улица Ленинская Слобода, дом 19,...      98  \n",
       "13498  город Москва, Профсоюзная улица, дом 102, стро...      75  "
      ]
     },
     "metadata": {},
     "output_type": "display_data"
    }
   ],
   "source": [
    "display(df.sample(5))"
   ]
  },
  {
   "cell_type": "code",
   "execution_count": 4,
   "metadata": {},
   "outputs": [
    {
     "name": "stdout",
     "output_type": "stream",
     "text": [
      "<class 'pandas.core.frame.DataFrame'>\n",
      "RangeIndex: 15366 entries, 0 to 15365\n",
      "Data columns (total 6 columns):\n",
      "id             15366 non-null int64\n",
      "object_name    15366 non-null object\n",
      "chain          15366 non-null object\n",
      "object_type    15366 non-null object\n",
      "address        15366 non-null object\n",
      "number         15366 non-null int64\n",
      "dtypes: int64(2), object(4)\n",
      "memory usage: 720.4+ KB\n"
     ]
    }
   ],
   "source": [
    "df.info()"
   ]
  },
  {
   "cell_type": "markdown",
   "metadata": {},
   "source": [
    "**Вывод шага 1:**"
   ]
  },
  {
   "cell_type": "markdown",
   "metadata": {},
   "source": [
    "Первый взгляд на данные сделан:\n",
    "- явных пропусков в данных нет\n",
    "- в целом типы данных правильные\n",
    "- нужно проверить данные на наличие дубликатов\n",
    "\n",
    "Дополнительно:\n",
    "- выведем уникальные значения в столбцах `chain` и `object_type`, чтобы отловить возможные ошибки\n",
    "- проверим столбцы с количеством посадочных мест на неотрицательность\n",
    "- сделаем названия столбцов более понятными\n",
    "- заменим значения в столбце `chain` на True и False (приведём к типу `bool`) для удобства"
   ]
  },
  {
   "cell_type": "markdown",
   "metadata": {},
   "source": [
    "### Шаг 2. Подготовка данных "
   ]
  },
  {
   "cell_type": "markdown",
   "metadata": {},
   "source": [
    "- ищем дубликаты"
   ]
  },
  {
   "cell_type": "code",
   "execution_count": 5,
   "metadata": {},
   "outputs": [
    {
     "data": {
      "text/plain": [
       "0"
      ]
     },
     "execution_count": 5,
     "metadata": {},
     "output_type": "execute_result"
    }
   ],
   "source": [
    "df.duplicated().sum()"
   ]
  },
  {
   "cell_type": "markdown",
   "metadata": {},
   "source": [
    "В явном виде дубликаты не найдены"
   ]
  },
  {
   "cell_type": "markdown",
   "metadata": {},
   "source": [
    "Приведём названия заведений к нижнему регистру, чтобы исключить часть скрытых дубликатов"
   ]
  },
  {
   "cell_type": "code",
   "execution_count": 6,
   "metadata": {},
   "outputs": [],
   "source": [
    "df['object_name'] = df['object_name'].str.lower()"
   ]
  },
  {
   "cell_type": "markdown",
   "metadata": {},
   "source": [
    "Исключим столбец `id` и посмотрим, появятся ли дубли"
   ]
  },
  {
   "cell_type": "code",
   "execution_count": 7,
   "metadata": {
    "scrolled": true
   },
   "outputs": [
    {
     "data": {
      "text/html": [
       "<div>\n",
       "<style scoped>\n",
       "    .dataframe tbody tr th:only-of-type {\n",
       "        vertical-align: middle;\n",
       "    }\n",
       "\n",
       "    .dataframe tbody tr th {\n",
       "        vertical-align: top;\n",
       "    }\n",
       "\n",
       "    .dataframe thead th {\n",
       "        text-align: right;\n",
       "    }\n",
       "</style>\n",
       "<table border=\"1\" class=\"dataframe\">\n",
       "  <thead>\n",
       "    <tr style=\"text-align: right;\">\n",
       "      <th></th>\n",
       "      <th>object_name</th>\n",
       "      <th>chain</th>\n",
       "      <th>object_type</th>\n",
       "      <th>address</th>\n",
       "      <th>number</th>\n",
       "    </tr>\n",
       "  </thead>\n",
       "  <tbody>\n",
       "    <tr>\n",
       "      <td>2381</td>\n",
       "      <td>комбинат питания мгту им.н.э.баумана</td>\n",
       "      <td>нет</td>\n",
       "      <td>столовая</td>\n",
       "      <td>город Москва, 2-я Бауманская улица, дом 5, стр...</td>\n",
       "      <td>100</td>\n",
       "    </tr>\n",
       "    <tr>\n",
       "      <td>3397</td>\n",
       "      <td>буфет «коникс-школьник»</td>\n",
       "      <td>нет</td>\n",
       "      <td>буфет</td>\n",
       "      <td>город Москва, улица Удальцова, дом 21</td>\n",
       "      <td>100</td>\n",
       "    </tr>\n",
       "    <tr>\n",
       "      <td>3481</td>\n",
       "      <td>буфет мади</td>\n",
       "      <td>нет</td>\n",
       "      <td>буфет</td>\n",
       "      <td>город Москва, Ленинградский проспект, дом 64</td>\n",
       "      <td>40</td>\n",
       "    </tr>\n",
       "    <tr>\n",
       "      <td>4431</td>\n",
       "      <td>столовая гбоу города москвы № 384</td>\n",
       "      <td>нет</td>\n",
       "      <td>буфет</td>\n",
       "      <td>город Москва, Беловежская улица, дом 67</td>\n",
       "      <td>100</td>\n",
       "    </tr>\n",
       "    <tr>\n",
       "      <td>4537</td>\n",
       "      <td>столовая «комбинат питания космос»</td>\n",
       "      <td>нет</td>\n",
       "      <td>столовая</td>\n",
       "      <td>город Москва, Новозаводская улица, дом 12/11</td>\n",
       "      <td>15</td>\n",
       "    </tr>\n",
       "    <tr>\n",
       "      <td>...</td>\n",
       "      <td>...</td>\n",
       "      <td>...</td>\n",
       "      <td>...</td>\n",
       "      <td>...</td>\n",
       "      <td>...</td>\n",
       "    </tr>\n",
       "    <tr>\n",
       "      <td>14578</td>\n",
       "      <td>старый баку</td>\n",
       "      <td>нет</td>\n",
       "      <td>кафе</td>\n",
       "      <td>город Москва, Кировоградская улица, владение 15А</td>\n",
       "      <td>120</td>\n",
       "    </tr>\n",
       "    <tr>\n",
       "      <td>14596</td>\n",
       "      <td>буфет при кинотеатре</td>\n",
       "      <td>нет</td>\n",
       "      <td>буфет</td>\n",
       "      <td>город Москва, Ореховый бульвар, дом 22А</td>\n",
       "      <td>0</td>\n",
       "    </tr>\n",
       "    <tr>\n",
       "      <td>14844</td>\n",
       "      <td>sushi-make</td>\n",
       "      <td>нет</td>\n",
       "      <td>предприятие быстрого обслуживания</td>\n",
       "      <td>город Москва, Ярцевская улица, дом 19</td>\n",
       "      <td>0</td>\n",
       "    </tr>\n",
       "    <tr>\n",
       "      <td>15173</td>\n",
       "      <td>кофе с собой</td>\n",
       "      <td>да</td>\n",
       "      <td>предприятие быстрого обслуживания</td>\n",
       "      <td>город Москва, Алтуфьевское шоссе, дом 70, корп...</td>\n",
       "      <td>0</td>\n",
       "    </tr>\n",
       "    <tr>\n",
       "      <td>15217</td>\n",
       "      <td>макдоналдс</td>\n",
       "      <td>да</td>\n",
       "      <td>предприятие быстрого обслуживания</td>\n",
       "      <td>город Москва, Кировоградская улица, дом 13А</td>\n",
       "      <td>0</td>\n",
       "    </tr>\n",
       "  </tbody>\n",
       "</table>\n",
       "<p>85 rows × 5 columns</p>\n",
       "</div>"
      ],
      "text/plain": [
       "                                object_name chain  \\\n",
       "2381   комбинат питания мгту им.н.э.баумана   нет   \n",
       "3397                буфет «коникс-школьник»   нет   \n",
       "3481                             буфет мади   нет   \n",
       "4431      столовая гбоу города москвы № 384   нет   \n",
       "4537     столовая «комбинат питания космос»   нет   \n",
       "...                                     ...   ...   \n",
       "14578                           старый баку   нет   \n",
       "14596                  буфет при кинотеатре   нет   \n",
       "14844                            sushi-make   нет   \n",
       "15173                          кофе с собой    да   \n",
       "15217                            макдоналдс    да   \n",
       "\n",
       "                             object_type  \\\n",
       "2381                            столовая   \n",
       "3397                               буфет   \n",
       "3481                               буфет   \n",
       "4431                               буфет   \n",
       "4537                            столовая   \n",
       "...                                  ...   \n",
       "14578                               кафе   \n",
       "14596                              буфет   \n",
       "14844  предприятие быстрого обслуживания   \n",
       "15173  предприятие быстрого обслуживания   \n",
       "15217  предприятие быстрого обслуживания   \n",
       "\n",
       "                                                 address  number  \n",
       "2381   город Москва, 2-я Бауманская улица, дом 5, стр...     100  \n",
       "3397               город Москва, улица Удальцова, дом 21     100  \n",
       "3481        город Москва, Ленинградский проспект, дом 64      40  \n",
       "4431             город Москва, Беловежская улица, дом 67     100  \n",
       "4537        город Москва, Новозаводская улица, дом 12/11      15  \n",
       "...                                                  ...     ...  \n",
       "14578   город Москва, Кировоградская улица, владение 15А     120  \n",
       "14596            город Москва, Ореховый бульвар, дом 22А       0  \n",
       "14844              город Москва, Ярцевская улица, дом 19       0  \n",
       "15173  город Москва, Алтуфьевское шоссе, дом 70, корп...       0  \n",
       "15217        город Москва, Кировоградская улица, дом 13А       0  \n",
       "\n",
       "[85 rows x 5 columns]"
      ]
     },
     "execution_count": 7,
     "metadata": {},
     "output_type": "execute_result"
    }
   ],
   "source": [
    "df_check = df.drop('id', axis = 1)\n",
    "df_check[df_check.duplicated()]"
   ]
  },
  {
   "cell_type": "markdown",
   "metadata": {},
   "source": [
    "Появилось 85 дубликатов, их очень мало, просто удаляем их "
   ]
  },
  {
   "cell_type": "code",
   "execution_count": 8,
   "metadata": {},
   "outputs": [],
   "source": [
    "dupl = df_check[df_check.duplicated()].index\n",
    "df.drop(labels = dupl, inplace = True)"
   ]
  },
  {
   "cell_type": "markdown",
   "metadata": {},
   "source": [
    "- проверяем уникальные значения"
   ]
  },
  {
   "cell_type": "code",
   "execution_count": 9,
   "metadata": {},
   "outputs": [
    {
     "data": {
      "text/plain": [
       "нет    12317\n",
       "да      2964\n",
       "Name: chain, dtype: int64"
      ]
     },
     "execution_count": 9,
     "metadata": {},
     "output_type": "execute_result"
    }
   ],
   "source": [
    "df['chain'].value_counts()"
   ]
  },
  {
   "cell_type": "markdown",
   "metadata": {},
   "source": [
    "С этим столбцом всё в порядке - только два значения, как и предполагалось"
   ]
  },
  {
   "cell_type": "code",
   "execution_count": 10,
   "metadata": {},
   "outputs": [
    {
     "data": {
      "text/plain": [
       "кафе                                 6071\n",
       "столовая                             2584\n",
       "ресторан                             2282\n",
       "предприятие быстрого обслуживания    1897\n",
       "бар                                   855\n",
       "буфет                                 576\n",
       "кафетерий                             395\n",
       "закусочная                            348\n",
       "магазин (отдел кулинарии)             273\n",
       "Name: object_type, dtype: int64"
      ]
     },
     "execution_count": 10,
     "metadata": {},
     "output_type": "execute_result"
    }
   ],
   "source": [
    "df['object_type'].value_counts()"
   ]
  },
  {
   "cell_type": "markdown",
   "metadata": {},
   "source": [
    "Этот столбец тоже сомнений не вызывает. У нас не появились более мелкие группы из-за опечаток в названии"
   ]
  },
  {
   "cell_type": "markdown",
   "metadata": {},
   "source": [
    "- проверяем столбец `number` на неотрицательность"
   ]
  },
  {
   "cell_type": "code",
   "execution_count": 11,
   "metadata": {},
   "outputs": [
    {
     "data": {
      "text/plain": [
       "count    15281.000000\n",
       "mean        59.788234\n",
       "std         74.843042\n",
       "min          0.000000\n",
       "25%         14.000000\n",
       "50%         40.000000\n",
       "75%         80.000000\n",
       "max       1700.000000\n",
       "Name: number, dtype: float64"
      ]
     },
     "execution_count": 11,
     "metadata": {},
     "output_type": "execute_result"
    }
   ],
   "source": [
    "df['number'].describe()"
   ]
  },
  {
   "cell_type": "markdown",
   "metadata": {},
   "source": [
    "Отрицательного количества мест нет, но есть заведения, в которых нельзя присесть. Посмотрим на них детальнее"
   ]
  },
  {
   "cell_type": "code",
   "execution_count": 12,
   "metadata": {},
   "outputs": [
    {
     "data": {
      "text/html": [
       "<div>\n",
       "<style scoped>\n",
       "    .dataframe tbody tr th:only-of-type {\n",
       "        vertical-align: middle;\n",
       "    }\n",
       "\n",
       "    .dataframe tbody tr th {\n",
       "        vertical-align: top;\n",
       "    }\n",
       "\n",
       "    .dataframe thead th {\n",
       "        text-align: right;\n",
       "    }\n",
       "</style>\n",
       "<table border=\"1\" class=\"dataframe\">\n",
       "  <thead>\n",
       "    <tr style=\"text-align: right;\">\n",
       "      <th></th>\n",
       "      <th>id</th>\n",
       "      <th>object_name</th>\n",
       "      <th>chain</th>\n",
       "      <th>object_type</th>\n",
       "      <th>address</th>\n",
       "      <th>number</th>\n",
       "    </tr>\n",
       "  </thead>\n",
       "  <tbody>\n",
       "    <tr>\n",
       "      <td>680</td>\n",
       "      <td>153361</td>\n",
       "      <td>донер-кебаб</td>\n",
       "      <td>нет</td>\n",
       "      <td>предприятие быстрого обслуживания</td>\n",
       "      <td>город Москва, улица Академика Миллионщикова, д...</td>\n",
       "      <td>0</td>\n",
       "    </tr>\n",
       "    <tr>\n",
       "      <td>14284</td>\n",
       "      <td>214375</td>\n",
       "      <td>вьет лотос</td>\n",
       "      <td>нет</td>\n",
       "      <td>закусочная</td>\n",
       "      <td>город Москва, Поречная улица, дом 10</td>\n",
       "      <td>0</td>\n",
       "    </tr>\n",
       "    <tr>\n",
       "      <td>15085</td>\n",
       "      <td>210711</td>\n",
       "      <td>my box</td>\n",
       "      <td>да</td>\n",
       "      <td>предприятие быстрого обслуживания</td>\n",
       "      <td>город Москва, город Московский, улица Хабарова...</td>\n",
       "      <td>0</td>\n",
       "    </tr>\n",
       "    <tr>\n",
       "      <td>12243</td>\n",
       "      <td>191304</td>\n",
       "      <td>кофе с собой и кулинария</td>\n",
       "      <td>нет</td>\n",
       "      <td>кафетерий</td>\n",
       "      <td>город Москва, Шмитовский проезд, дом 12</td>\n",
       "      <td>0</td>\n",
       "    </tr>\n",
       "    <tr>\n",
       "      <td>11382</td>\n",
       "      <td>186109</td>\n",
       "      <td>хотдоги</td>\n",
       "      <td>нет</td>\n",
       "      <td>магазин (отдел кулинарии)</td>\n",
       "      <td>город Москва, Пятницкое шоссе, дом 18</td>\n",
       "      <td>0</td>\n",
       "    </tr>\n",
       "  </tbody>\n",
       "</table>\n",
       "</div>"
      ],
      "text/plain": [
       "           id               object_name chain  \\\n",
       "680    153361               донер-кебаб   нет   \n",
       "14284  214375                вьет лотос   нет   \n",
       "15085  210711                    my box    да   \n",
       "12243  191304  кофе с собой и кулинария   нет   \n",
       "11382  186109                   хотдоги   нет   \n",
       "\n",
       "                             object_type  \\\n",
       "680    предприятие быстрого обслуживания   \n",
       "14284                         закусочная   \n",
       "15085  предприятие быстрого обслуживания   \n",
       "12243                          кафетерий   \n",
       "11382          магазин (отдел кулинарии)   \n",
       "\n",
       "                                                 address  number  \n",
       "680    город Москва, улица Академика Миллионщикова, д...       0  \n",
       "14284               город Москва, Поречная улица, дом 10       0  \n",
       "15085  город Москва, город Московский, улица Хабарова...       0  \n",
       "12243            город Москва, Шмитовский проезд, дом 12       0  \n",
       "11382              город Москва, Пятницкое шоссе, дом 18       0  "
      ]
     },
     "execution_count": 12,
     "metadata": {},
     "output_type": "execute_result"
    }
   ],
   "source": [
    "df[df['number'] == 0].sample(5)"
   ]
  },
  {
   "cell_type": "markdown",
   "metadata": {},
   "source": [
    "Теперь понятно - это закусочные, шаурмичные и отделы кулинарии в магазинах. Это проходные места, в которых действительно часто не бывает сидячих мест"
   ]
  },
  {
   "cell_type": "markdown",
   "metadata": {},
   "source": [
    "- улучшаем названия столбцов"
   ]
  },
  {
   "cell_type": "code",
   "execution_count": 13,
   "metadata": {},
   "outputs": [],
   "source": [
    "df.rename({'chain': 'is_chain', 'number': 'seats'}, axis = 1, inplace = True)"
   ]
  },
  {
   "cell_type": "markdown",
   "metadata": {},
   "source": [
    "- обрабатываем столбец `is_chain`"
   ]
  },
  {
   "cell_type": "code",
   "execution_count": 14,
   "metadata": {},
   "outputs": [],
   "source": [
    "df['is_chain'] = df['is_chain'].apply(lambda x: 1 if x == 'да' else 0).astype('bool')"
   ]
  },
  {
   "cell_type": "code",
   "execution_count": 15,
   "metadata": {},
   "outputs": [
    {
     "name": "stdout",
     "output_type": "stream",
     "text": [
      "<class 'pandas.core.frame.DataFrame'>\n",
      "Int64Index: 15281 entries, 0 to 15365\n",
      "Data columns (total 6 columns):\n",
      "id             15281 non-null int64\n",
      "object_name    15281 non-null object\n",
      "is_chain       15281 non-null bool\n",
      "object_type    15281 non-null object\n",
      "address        15281 non-null object\n",
      "seats          15281 non-null int64\n",
      "dtypes: bool(1), int64(2), object(3)\n",
      "memory usage: 731.2+ KB\n"
     ]
    }
   ],
   "source": [
    "df.info()"
   ]
  },
  {
   "cell_type": "markdown",
   "metadata": {},
   "source": [
    "Теперь у нас столбец стал булевого типа. Мне кажется, что с ним удобнее работать, да и памяти таблица теперь занимает меньше!"
   ]
  },
  {
   "cell_type": "markdown",
   "metadata": {},
   "source": [
    "**Вывод шага 2:**"
   ]
  },
  {
   "cell_type": "markdown",
   "metadata": {},
   "source": [
    "Были изменён тип данных для столбца `is_chain`, улучшены названия столбцов, удалены дубликаты. Произведена проверка данных на корректность (отсутствие пропусков, отрицательного числа посадочных мест). \n",
    "\n",
    "Датасеты предобработаны, можно приступать к анализу."
   ]
  },
  {
   "cell_type": "markdown",
   "metadata": {},
   "source": [
    "### Шаг 3. Анализ рынка общепита Москвы"
   ]
  },
  {
   "cell_type": "markdown",
   "metadata": {},
   "source": [
    "- ### 3.1. Общий анализ "
   ]
  },
  {
   "cell_type": "markdown",
   "metadata": {},
   "source": [
    "- Исследуем соотношение видов объектов общественного питания по количеству"
   ]
  },
  {
   "cell_type": "code",
   "execution_count": 16,
   "metadata": {},
   "outputs": [
    {
     "data": {
      "text/html": [
       "<div>\n",
       "<style scoped>\n",
       "    .dataframe tbody tr th:only-of-type {\n",
       "        vertical-align: middle;\n",
       "    }\n",
       "\n",
       "    .dataframe tbody tr th {\n",
       "        vertical-align: top;\n",
       "    }\n",
       "\n",
       "    .dataframe thead th {\n",
       "        text-align: right;\n",
       "    }\n",
       "</style>\n",
       "<table border=\"1\" class=\"dataframe\">\n",
       "  <thead>\n",
       "    <tr style=\"text-align: right;\">\n",
       "      <th></th>\n",
       "      <th>id</th>\n",
       "    </tr>\n",
       "    <tr>\n",
       "      <th>object_type</th>\n",
       "      <th></th>\n",
       "    </tr>\n",
       "  </thead>\n",
       "  <tbody>\n",
       "    <tr>\n",
       "      <td>кафе</td>\n",
       "      <td>6071</td>\n",
       "    </tr>\n",
       "    <tr>\n",
       "      <td>столовая</td>\n",
       "      <td>2584</td>\n",
       "    </tr>\n",
       "    <tr>\n",
       "      <td>ресторан</td>\n",
       "      <td>2282</td>\n",
       "    </tr>\n",
       "    <tr>\n",
       "      <td>предприятие быстрого обслуживания</td>\n",
       "      <td>1897</td>\n",
       "    </tr>\n",
       "    <tr>\n",
       "      <td>бар</td>\n",
       "      <td>855</td>\n",
       "    </tr>\n",
       "    <tr>\n",
       "      <td>буфет</td>\n",
       "      <td>576</td>\n",
       "    </tr>\n",
       "    <tr>\n",
       "      <td>кафетерий</td>\n",
       "      <td>395</td>\n",
       "    </tr>\n",
       "    <tr>\n",
       "      <td>закусочная</td>\n",
       "      <td>348</td>\n",
       "    </tr>\n",
       "    <tr>\n",
       "      <td>магазин (отдел кулинарии)</td>\n",
       "      <td>273</td>\n",
       "    </tr>\n",
       "  </tbody>\n",
       "</table>\n",
       "</div>"
      ],
      "text/plain": [
       "                                     id\n",
       "object_type                            \n",
       "кафе                               6071\n",
       "столовая                           2584\n",
       "ресторан                           2282\n",
       "предприятие быстрого обслуживания  1897\n",
       "бар                                 855\n",
       "буфет                               576\n",
       "кафетерий                           395\n",
       "закусочная                          348\n",
       "магазин (отдел кулинарии)           273"
      ]
     },
     "metadata": {},
     "output_type": "display_data"
    }
   ],
   "source": [
    "cnt_type = df.groupby('object_type').agg({'id': 'nunique'}).sort_values(by = 'id', ascending = False)\n",
    "display(cnt_type)"
   ]
  },
  {
   "cell_type": "code",
   "execution_count": 17,
   "metadata": {},
   "outputs": [],
   "source": [
    "cnt_type.reset_index(inplace = True)\n",
    "cnt_type['object_type_label'] = cnt_type['object_type'].str.replace(' ', '\\n')"
   ]
  },
  {
   "cell_type": "code",
   "execution_count": 18,
   "metadata": {},
   "outputs": [],
   "source": [
    "#функция для построения столбчатой гистограммы\n",
    "#на вход подаются данные по которым строим, столбец для оси х, столбец для оси у\n",
    "#rot - угол поворота подписей оси х, width - ширина графика\n",
    "def standart_graf(data, x, y, rot, width):\n",
    "    dims = (width, 6)\n",
    "    fig, ax = plt.subplots(figsize = dims)\n",
    "    sns.barplot(data = data, x = x, y = y, color = '#51adcf')\n",
    "    plt.xticks(rotation = rot)\n",
    "    ax.spines['top'].set_visible(False) #убираем правую границу графика\n",
    "    ax.spines['right'].set_visible(False) #убираем левую границу графика\n",
    "    plt.tight_layout() #включаем подписи графиков в сохраненную картинку\n",
    "    plt.subplots_adjust(top = 0.95) #добавляем немного места наверх, чтобы не обрезать title"
   ]
  },
  {
   "cell_type": "code",
   "execution_count": 19,
   "metadata": {},
   "outputs": [
    {
     "data": {
      "image/png": "[encoded data removed]",
      "text/plain": [
       "<Figure size 864x432 with 1 Axes>"
      ]
     },
     "metadata": {
      "needs_background": "light"
     },
     "output_type": "display_data"
    }
   ],
   "source": [
    "standart_graf(cnt_type, 'object_type_label', 'id', 0, 12)\n",
    "\n",
    "plt.title('Количество заведений каждого типа', fontsize = 16)\n",
    "plt.xlabel('Тип заведения', fontsize = 12)\n",
    "plt.ylabel('Количество заведений', fontsize = 12)\n",
    "\n",
    "\n",
    "plt.savefig('Количество_заведений_каждого_типа.png')\n",
    "plt.show()"
   ]
  },
  {
   "cell_type": "markdown",
   "metadata": {},
   "source": [
    "Больше всего в Москве кафе, столовых и ресторанов. Видимо люди хотят не только подкрепиться, но и посидеть."
   ]
  },
  {
   "cell_type": "markdown",
   "metadata": {},
   "source": [
    "- Исследуем соотношение сетевых и несетевых заведений по количеству"
   ]
  },
  {
   "cell_type": "code",
   "execution_count": 20,
   "metadata": {},
   "outputs": [],
   "source": [
    "amount = df.groupby('is_chain').agg({'id': 'nunique'}).sort_values(by = 'id', ascending = False).reset_index()\n",
    "amount['is_chain'] = amount['is_chain'].apply(lambda x: 'Несетевые' if x == 0 else 'Сетевые')"
   ]
  },
  {
   "cell_type": "code",
   "execution_count": 21,
   "metadata": {},
   "outputs": [
    {
     "data": {
      "image/png": "[encoded data removed]",
      "text/plain": [
       "<Figure size 432x432 with 1 Axes>"
      ]
     },
     "metadata": {
      "needs_background": "light"
     },
     "output_type": "display_data"
    }
   ],
   "source": [
    "standart_graf(amount, 'is_chain', 'id', 0, 6)\n",
    "\n",
    "plt.title('Количество заведений каждого типа', fontsize = 16)\n",
    "plt.xlabel('Тип заведения', fontsize = 12)\n",
    "plt.ylabel('Количество заведений', fontsize = 12)\n",
    "\n",
    "plt.savefig('Количество_заведений_сетевых_несетевых.png')\n",
    "plt.show()"
   ]
  },
  {
   "cell_type": "markdown",
   "metadata": {},
   "source": [
    "Почти в 4 раза больше несетевых заведений! Скорее всего это из-за того, что содержание нескольких точек требует больших вложений или большой популярности (чтобы открывались франшизы), и владельцам проще направить усилия на развитие 1 заведения."
   ]
  },
  {
   "cell_type": "markdown",
   "metadata": {},
   "source": [
    "- Ответим на вопрос: \"Для какого вида объекта общественного питания характерно сетевое распространение?\""
   ]
  },
  {
   "cell_type": "markdown",
   "metadata": {},
   "source": [
    "Посмотрим на процент сетевых заведений для каждого типа."
   ]
  },
  {
   "cell_type": "code",
   "execution_count": 22,
   "metadata": {},
   "outputs": [
    {
     "data": {
      "text/html": [
       "<div>\n",
       "<style scoped>\n",
       "    .dataframe tbody tr th:only-of-type {\n",
       "        vertical-align: middle;\n",
       "    }\n",
       "\n",
       "    .dataframe tbody tr th {\n",
       "        vertical-align: top;\n",
       "    }\n",
       "\n",
       "    .dataframe thead tr th {\n",
       "        text-align: left;\n",
       "    }\n",
       "</style>\n",
       "<table border=\"1\" class=\"dataframe\">\n",
       "  <thead>\n",
       "    <tr>\n",
       "      <th></th>\n",
       "      <th>object_type</th>\n",
       "      <th>chain_%</th>\n",
       "    </tr>\n",
       "    <tr>\n",
       "      <th></th>\n",
       "      <th></th>\n",
       "      <th></th>\n",
       "    </tr>\n",
       "  </thead>\n",
       "  <tbody>\n",
       "    <tr>\n",
       "      <td>0</td>\n",
       "      <td>предприятие быстрого обслуживания</td>\n",
       "      <td>0.42</td>\n",
       "    </tr>\n",
       "    <tr>\n",
       "      <td>1</td>\n",
       "      <td>магазин (отдел кулинарии)</td>\n",
       "      <td>0.29</td>\n",
       "    </tr>\n",
       "    <tr>\n",
       "      <td>2</td>\n",
       "      <td>ресторан</td>\n",
       "      <td>0.24</td>\n",
       "    </tr>\n",
       "    <tr>\n",
       "      <td>3</td>\n",
       "      <td>кафе</td>\n",
       "      <td>0.23</td>\n",
       "    </tr>\n",
       "    <tr>\n",
       "      <td>4</td>\n",
       "      <td>закусочная</td>\n",
       "      <td>0.16</td>\n",
       "    </tr>\n",
       "    <tr>\n",
       "      <td>5</td>\n",
       "      <td>кафетерий</td>\n",
       "      <td>0.13</td>\n",
       "    </tr>\n",
       "    <tr>\n",
       "      <td>6</td>\n",
       "      <td>бар</td>\n",
       "      <td>0.04</td>\n",
       "    </tr>\n",
       "    <tr>\n",
       "      <td>7</td>\n",
       "      <td>буфет</td>\n",
       "      <td>0.02</td>\n",
       "    </tr>\n",
       "    <tr>\n",
       "      <td>8</td>\n",
       "      <td>столовая</td>\n",
       "      <td>0.00</td>\n",
       "    </tr>\n",
       "  </tbody>\n",
       "</table>\n",
       "</div>"
      ],
      "text/plain": [
       "                         object_type chain_%\n",
       "                                            \n",
       "0  предприятие быстрого обслуживания    0.42\n",
       "1          магазин (отдел кулинарии)    0.29\n",
       "2                           ресторан    0.24\n",
       "3                               кафе    0.23\n",
       "4                         закусочная    0.16\n",
       "5                          кафетерий    0.13\n",
       "6                                бар    0.04\n",
       "7                              буфет    0.02\n",
       "8                           столовая    0.00"
      ]
     },
     "execution_count": 22,
     "metadata": {},
     "output_type": "execute_result"
    }
   ],
   "source": [
    "pivot = df.groupby('object_type').agg({'is_chain': ['sum', 'count']}).reset_index()\n",
    "pivot['object_type_label'] = pivot['object_type'].str.replace(' ', '\\n')\n",
    "pivot['chain_%'] = (pivot['is_chain']['sum'] / pivot['is_chain']['count']).round(2)\n",
    "pivot = pivot.sort_values(by = 'chain_%', ascending = False)\n",
    "pivot[['object_type', 'chain_%']].reset_index(drop = True)"
   ]
  },
  {
   "cell_type": "code",
   "execution_count": 23,
   "metadata": {},
   "outputs": [
    {
     "data": {
      "image/png": "[encoded data removed]",
      "text/plain": [
       "<Figure size 864x432 with 1 Axes>"
      ]
     },
     "metadata": {
      "needs_background": "light"
     },
     "output_type": "display_data"
    }
   ],
   "source": [
    "standart_graf(pivot, 'object_type_label', 'chain_%', 0, 12)\n",
    "\n",
    "plt.title('Процент сетевых заведений каждого типа', fontsize = 16)\n",
    "plt.xlabel('Тип заведения', fontsize = 12)\n",
    "plt.ylabel('Процент', fontsize = 12)\n",
    "\n",
    "plt.savefig('Процент_сетевых_заведений_каждого_типа.png')\n",
    "plt.show()"
   ]
  },
  {
   "cell_type": "markdown",
   "metadata": {},
   "source": [
    "Предприятия быстрого обслуживания почти поровну представлены и сетями и одиночными заведениями. На то они и быстрые, что там нет кухни с 10 поварами и 30 официантами. Такие точки можно легко открыть в нескольких местах даже не по франшизе. \n",
    "\n",
    "Сетевых столовых почти нет, возможно, они все находятся при каких-то заводах или университетах и обслуживают только конекретных рабочих и студентов. Тогда для владельцев важна ни столько прибыль и расширение сети, сколько качество и удобство клиентов."
   ]
  },
  {
   "cell_type": "markdown",
   "metadata": {},
   "source": [
    "- Определим, что характерно для сетевых заведений: много заведений с небольшим числом посадочных мест в каждом или мало заведений с большим количеством посадочных мест? "
   ]
  },
  {
   "cell_type": "markdown",
   "metadata": {},
   "source": [
    "Выберем из основных данных только сетевые заведения, посчитаем количество точек в каждой сети и среднее количество посадочных мест"
   ]
  },
  {
   "cell_type": "code",
   "execution_count": 24,
   "metadata": {},
   "outputs": [],
   "source": [
    "chain = df[df['is_chain']]\n",
    "chain_seats = (chain\n",
    "               .groupby('object_name')\n",
    "               .agg({'seats': 'sum', 'id': 'count'})\n",
    "               .sort_values(by = 'id', ascending = False)\n",
    "              )\n",
    "chain_seats['seats_mean'] = (chain_seats['seats'] / chain_seats['id']).astype(int)\n",
    "chain_seats.rename({'id': 'places'}, axis = 1, inplace = True)"
   ]
  },
  {
   "cell_type": "code",
   "execution_count": 25,
   "metadata": {},
   "outputs": [
    {
     "data": {
      "image/png": "[encoded data removed]",
      "text/plain": [
       "<Figure size 504x504 with 1 Axes>"
      ]
     },
     "metadata": {
      "needs_background": "light"
     },
     "output_type": "display_data"
    }
   ],
   "source": [
    "dims = (7, 7)\n",
    "fig, ax = plt.subplots(figsize = dims)\n",
    "\n",
    "plt.scatter(x ='seats_mean', y ='places', data = chain_seats, c = '#51adcf')\n",
    "\n",
    "plt.title('Среднее число мест и количество точек для сетей', fontsize = 16)\n",
    "plt.xlabel('Среднее число мест', fontsize = 12)\n",
    "plt.ylabel('Число заведений', fontsize = 12)\n",
    "plt.show()"
   ]
  },
  {
   "cell_type": "markdown",
   "metadata": {},
   "source": [
    "Из-за аномальных данных график плохо читается. Отсечём 5% сетей с аномально большим числом заведений"
   ]
  },
  {
   "cell_type": "code",
   "execution_count": 26,
   "metadata": {},
   "outputs": [],
   "source": [
    "places95 = np.percentile(chain_seats['places'], 95)\n",
    "clean_chs = chain_seats[chain_seats['places'] <= places95]"
   ]
  },
  {
   "cell_type": "code",
   "execution_count": 27,
   "metadata": {},
   "outputs": [
    {
     "data": {
      "image/png": "[encoded data removed]",
      "text/plain": [
       "<Figure size 504x504 with 1 Axes>"
      ]
     },
     "metadata": {
      "needs_background": "light"
     },
     "output_type": "display_data"
    }
   ],
   "source": [
    "dims = (7, 7)\n",
    "fig, ax = plt.subplots(figsize = dims)\n",
    "plt.scatter(x ='seats_mean', y ='places', data = clean_chs, c = '#51adcf')\n",
    "\n",
    "ax.spines['top'].set_visible(False) #убираем правую границу графика\n",
    "ax.spines['right'].set_visible(False) #убираем левую границу графика\n",
    "plt.tight_layout() #включаем подписи графиков в сохраненную картинку\n",
    "plt.subplots_adjust(top = 0.95, bottom = 0.10, left = 0.10) \n",
    "\n",
    "plt.title('Среднее число мест и количество точек для сетей', fontsize = 16)\n",
    "plt.xlabel('Среднее число мест', fontsize = 12)\n",
    "plt.ylabel('Число заведений', fontsize = 12)\n",
    "\n",
    "plt.savefig('Среднее_число_мест_и_количество_точек_для_сетей.png')\n",
    "plt.show()"
   ]
  },
  {
   "cell_type": "markdown",
   "metadata": {},
   "source": [
    "Сетевым заведением уже считается заведение с двумя точками и больше. По графику совместного распределения видно, что в сети обычно не больше 6 точек и в каждой из этих точек в среднем от 0 (если это сеть быстрого питания) до 150 мест (если это сеть кафе или ресторанов).\n",
    "\n",
    "Отвечая на вопрос: для сетевых заведений более характерно мало заведений (2-6) с большим числом (до 150) посадочных мест"
   ]
  },
  {
   "cell_type": "markdown",
   "metadata": {},
   "source": [
    "- ### 3.2. Топ-10 улиц "
   ]
  },
  {
   "cell_type": "markdown",
   "metadata": {},
   "source": [
    "- Выделим в отдельный столбец информацию об улице из столбца address"
   ]
  },
  {
   "cell_type": "markdown",
   "metadata": {},
   "source": [
    "Посмотрим как записаны адреса"
   ]
  },
  {
   "cell_type": "code",
   "execution_count": 28,
   "metadata": {
    "scrolled": true
   },
   "outputs": [
    {
     "data": {
      "text/plain": [
       "5929     город Москва, Рязанский проспект, дом 32, корп...\n",
       "10742    город Москва, Гостиничный проезд, дом 8, корпус 1\n",
       "10562        город Москва, улица Адмирала Лазарева, дом 38\n",
       "9553               город Москва, Кустанайская улица, дом 6\n",
       "7672                   город Москва, улица Вавилова, дом 3\n",
       "Name: address, dtype: object"
      ]
     },
     "execution_count": 28,
     "metadata": {},
     "output_type": "execute_result"
    }
   ],
   "source": [
    "df['address'].sample(5)"
   ]
  },
  {
   "cell_type": "markdown",
   "metadata": {},
   "source": [
    "Выделим улицу, как все символы между двумя запятыми до слов дом или владение"
   ]
  },
  {
   "cell_type": "code",
   "execution_count": 29,
   "metadata": {},
   "outputs": [],
   "source": [
    "df['address'] = df['address'].str.lower()"
   ]
  },
  {
   "cell_type": "code",
   "execution_count": 30,
   "metadata": {},
   "outputs": [],
   "source": [
    "df['street'] = df['address'].str.extract(', (.*), [дом|владение]')"
   ]
  },
  {
   "cell_type": "code",
   "execution_count": 31,
   "metadata": {},
   "outputs": [
    {
     "data": {
      "text/html": [
       "<div>\n",
       "<style scoped>\n",
       "    .dataframe tbody tr th:only-of-type {\n",
       "        vertical-align: middle;\n",
       "    }\n",
       "\n",
       "    .dataframe tbody tr th {\n",
       "        vertical-align: top;\n",
       "    }\n",
       "\n",
       "    .dataframe thead th {\n",
       "        text-align: right;\n",
       "    }\n",
       "</style>\n",
       "<table border=\"1\" class=\"dataframe\">\n",
       "  <thead>\n",
       "    <tr style=\"text-align: right;\">\n",
       "      <th></th>\n",
       "      <th>id</th>\n",
       "      <th>object_name</th>\n",
       "      <th>is_chain</th>\n",
       "      <th>object_type</th>\n",
       "      <th>address</th>\n",
       "      <th>seats</th>\n",
       "      <th>street</th>\n",
       "    </tr>\n",
       "  </thead>\n",
       "  <tbody>\n",
       "    <tr>\n",
       "      <td>13786</td>\n",
       "      <td>217321</td>\n",
       "      <td>кальянная - компьютерный клуб</td>\n",
       "      <td>False</td>\n",
       "      <td>кафе</td>\n",
       "      <td>город москва, поселение десеновское, 3-я новов...</td>\n",
       "      <td>10</td>\n",
       "      <td>поселение десеновское, 3-я нововатутинская улица</td>\n",
       "    </tr>\n",
       "    <tr>\n",
       "      <td>3470</td>\n",
       "      <td>28452</td>\n",
       "      <td>столовая бабурова и.н.</td>\n",
       "      <td>False</td>\n",
       "      <td>столовая</td>\n",
       "      <td>город москва, ленинградский проспект, дом 47, ...</td>\n",
       "      <td>20</td>\n",
       "      <td>ленинградский проспект</td>\n",
       "    </tr>\n",
       "    <tr>\n",
       "      <td>13145</td>\n",
       "      <td>199139</td>\n",
       "      <td>«снек бар в кинотеатре «космик»»</td>\n",
       "      <td>False</td>\n",
       "      <td>кафетерий</td>\n",
       "      <td>город москва, варшавское шоссе, дом 160</td>\n",
       "      <td>6</td>\n",
       "      <td>варшавское шоссе</td>\n",
       "    </tr>\n",
       "  </tbody>\n",
       "</table>\n",
       "</div>"
      ],
      "text/plain": [
       "           id                       object_name  is_chain object_type  \\\n",
       "13786  217321     кальянная - компьютерный клуб     False        кафе   \n",
       "3470    28452            столовая бабурова и.н.     False    столовая   \n",
       "13145  199139  «снек бар в кинотеатре «космик»»     False   кафетерий   \n",
       "\n",
       "                                                 address  seats  \\\n",
       "13786  город москва, поселение десеновское, 3-я новов...     10   \n",
       "3470   город москва, ленинградский проспект, дом 47, ...     20   \n",
       "13145            город москва, варшавское шоссе, дом 160      6   \n",
       "\n",
       "                                                 street  \n",
       "13786  поселение десеновское, 3-я нововатутинская улица  \n",
       "3470                             ленинградский проспект  \n",
       "13145                                  варшавское шоссе  "
      ]
     },
     "execution_count": 31,
     "metadata": {},
     "output_type": "execute_result"
    }
   ],
   "source": [
    "df.sample(3)"
   ]
  },
  {
   "cell_type": "markdown",
   "metadata": {},
   "source": [
    "Проверим данные на пропуски и ошибки"
   ]
  },
  {
   "cell_type": "code",
   "execution_count": 32,
   "metadata": {},
   "outputs": [
    {
     "data": {
      "text/html": [
       "<div>\n",
       "<style scoped>\n",
       "    .dataframe tbody tr th:only-of-type {\n",
       "        vertical-align: middle;\n",
       "    }\n",
       "\n",
       "    .dataframe tbody tr th {\n",
       "        vertical-align: top;\n",
       "    }\n",
       "\n",
       "    .dataframe thead th {\n",
       "        text-align: right;\n",
       "    }\n",
       "</style>\n",
       "<table border=\"1\" class=\"dataframe\">\n",
       "  <thead>\n",
       "    <tr style=\"text-align: right;\">\n",
       "      <th></th>\n",
       "      <th>id</th>\n",
       "      <th>object_name</th>\n",
       "      <th>is_chain</th>\n",
       "      <th>object_type</th>\n",
       "      <th>address</th>\n",
       "      <th>seats</th>\n",
       "      <th>street</th>\n",
       "    </tr>\n",
       "  </thead>\n",
       "  <tbody>\n",
       "    <tr>\n",
       "      <td>859</td>\n",
       "      <td>23601</td>\n",
       "      <td>буфет - гбоу сош № 64</td>\n",
       "      <td>False</td>\n",
       "      <td>буфет</td>\n",
       "      <td>партизанская улица, дом 30</td>\n",
       "      <td>100</td>\n",
       "      <td>NaN</td>\n",
       "    </tr>\n",
       "    <tr>\n",
       "      <td>860</td>\n",
       "      <td>23604</td>\n",
       "      <td>буфет - гбоу 60</td>\n",
       "      <td>False</td>\n",
       "      <td>буфет</td>\n",
       "      <td>партизанская улица, дом 30</td>\n",
       "      <td>100</td>\n",
       "      <td>NaN</td>\n",
       "    </tr>\n",
       "    <tr>\n",
       "      <td>1405</td>\n",
       "      <td>20199</td>\n",
       "      <td>это</td>\n",
       "      <td>False</td>\n",
       "      <td>кафе</td>\n",
       "      <td>город москва, город зеленоград, корпус 401</td>\n",
       "      <td>35</td>\n",
       "      <td>NaN</td>\n",
       "    </tr>\n",
       "    <tr>\n",
       "      <td>1406</td>\n",
       "      <td>68113</td>\n",
       "      <td>френдс</td>\n",
       "      <td>False</td>\n",
       "      <td>кафе</td>\n",
       "      <td>город москва, город зеленоград, корпус 435</td>\n",
       "      <td>34</td>\n",
       "      <td>NaN</td>\n",
       "    </tr>\n",
       "    <tr>\n",
       "      <td>1407</td>\n",
       "      <td>20105</td>\n",
       "      <td>кафе «граф монте-кристо»</td>\n",
       "      <td>False</td>\n",
       "      <td>кафе</td>\n",
       "      <td>город москва, город зеленоград, корпус 436</td>\n",
       "      <td>40</td>\n",
       "      <td>NaN</td>\n",
       "    </tr>\n",
       "  </tbody>\n",
       "</table>\n",
       "</div>"
      ],
      "text/plain": [
       "         id               object_name  is_chain object_type  \\\n",
       "859   23601     буфет - гбоу сош № 64     False       буфет   \n",
       "860   23604           буфет - гбоу 60     False       буфет   \n",
       "1405  20199                       это     False        кафе   \n",
       "1406  68113                    френдс     False        кафе   \n",
       "1407  20105  кафе «граф монте-кристо»     False        кафе   \n",
       "\n",
       "                                         address  seats street  \n",
       "859                   партизанская улица, дом 30    100    NaN  \n",
       "860                   партизанская улица, дом 30    100    NaN  \n",
       "1405  город москва, город зеленоград, корпус 401     35    NaN  \n",
       "1406  город москва, город зеленоград, корпус 435     34    NaN  \n",
       "1407  город москва, город зеленоград, корпус 436     40    NaN  "
      ]
     },
     "execution_count": 32,
     "metadata": {},
     "output_type": "execute_result"
    }
   ],
   "source": [
    "df[df['street'].isna()].head(5)"
   ]
  },
  {
   "cell_type": "markdown",
   "metadata": {},
   "source": [
    "Ага, некоторые адреса сразу начинаются с улицы, поэтому условие не срабатывает. Возьмём тогда все символы до запятой и слов дом/владение"
   ]
  },
  {
   "cell_type": "code",
   "execution_count": 33,
   "metadata": {},
   "outputs": [],
   "source": [
    "df.loc[df['street'].isna(), 'street'] = df.loc[df['street'].isna(), 'address'].str.extract('(.*), [дом|владение]')[0]"
   ]
  },
  {
   "cell_type": "code",
   "execution_count": 34,
   "metadata": {},
   "outputs": [
    {
     "data": {
      "text/plain": [
       "город москва, город зеленоград, корпус 317а, строение 1    4\n",
       "город москва, город зеленоград, корпус 2309а               3\n",
       "город москва, город зеленоград, корпус 124, строение 1     3\n",
       "город москва, город зеленоград, корпус 1805                3\n",
       "город москва, город зеленоград, корпус 1543                2\n",
       "                                                          ..\n",
       "город москва, город зеленоград, корпус 314                 1\n",
       "город москва, город зеленоград, корпус 428а                1\n",
       "город москва, город зеленоград, корпус 126                 1\n",
       "город москва, город зеленоград, корпус 341а                1\n",
       "город москва, город зеленоград, корпус 929а                1\n",
       "Name: address, Length: 109, dtype: int64"
      ]
     },
     "execution_count": 34,
     "metadata": {},
     "output_type": "execute_result"
    }
   ],
   "source": [
    "df.loc[df['street'].isna(), 'address'].value_counts()"
   ]
  },
  {
   "cell_type": "markdown",
   "metadata": {},
   "source": [
    "Теперь пропуски остались только для 109 заведений Зеленограда. У них нет улицы, так что я думаю, будет проще их удалить."
   ]
  },
  {
   "cell_type": "code",
   "execution_count": 35,
   "metadata": {},
   "outputs": [],
   "source": [
    "df.dropna(inplace = True)"
   ]
  },
  {
   "cell_type": "markdown",
   "metadata": {},
   "source": [
    "Теперь пропусков нет, все улицы найдены"
   ]
  },
  {
   "cell_type": "markdown",
   "metadata": {},
   "source": [
    "- Найдём топ-10 улиц по количеству объектов общественного питания. И с помощью внешней информации определим в каких районах Москвы находятся эти улицы?"
   ]
  },
  {
   "cell_type": "code",
   "execution_count": 36,
   "metadata": {},
   "outputs": [],
   "source": [
    "street10 = (df\n",
    "            .groupby('street')\n",
    "            .agg({'id': 'nunique'})\n",
    "            .sort_values(by = 'id', ascending = False)\n",
    "            .head(10)\n",
    "            .reset_index()\n",
    "            .rename({'id': 'foodservices'}, axis = 1)\n",
    "           )"
   ]
  },
  {
   "cell_type": "code",
   "execution_count": 37,
   "metadata": {},
   "outputs": [],
   "source": [
    "street10['street_label'] = street10['street'].str.replace(' ', '\\n')"
   ]
  },
  {
   "cell_type": "code",
   "execution_count": 38,
   "metadata": {},
   "outputs": [
    {
     "data": {
      "image/png": "[encoded data removed]",
      "text/plain": [
       "<Figure size 864x432 with 1 Axes>"
      ]
     },
     "metadata": {
      "needs_background": "light"
     },
     "output_type": "display_data"
    }
   ],
   "source": [
    "standart_graf(street10, 'street_label', 'foodservices', 0, 12)\n",
    "\n",
    "plt.title('Количество заведений на топ-10 улицах', fontsize = 16)\n",
    "plt.xlabel('Улица', fontsize = 12)\n",
    "plt.ylabel('Количество заведений', fontsize = 12)\n",
    "\n",
    "plt.savefig('Количество_заведений_на_топ-10_улицах.png')\n",
    "plt.show()"
   ]
  },
  {
   "cell_type": "markdown",
   "metadata": {},
   "source": [
    "Добавим файл с районами по адресу"
   ]
  },
  {
   "cell_type": "code",
   "execution_count": 39,
   "metadata": {},
   "outputs": [],
   "source": [
    "spreadsheet_id = '1wt_EPR9Pnsnhn5V3t62y9XQoL9dPtUXWhffqeGfUc28'\n",
    "file_name = 'https://docs.google.com/spreadsheets/d/{}/export?format=csv'.format(spreadsheet_id)\n",
    "r = requests.get(file_name)\n",
    "districts = pd.read_csv(BytesIO(r.content))"
   ]
  },
  {
   "cell_type": "code",
   "execution_count": 40,
   "metadata": {},
   "outputs": [
    {
     "data": {
      "text/html": [
       "<div>\n",
       "<style scoped>\n",
       "    .dataframe tbody tr th:only-of-type {\n",
       "        vertical-align: middle;\n",
       "    }\n",
       "\n",
       "    .dataframe tbody tr th {\n",
       "        vertical-align: top;\n",
       "    }\n",
       "\n",
       "    .dataframe thead th {\n",
       "        text-align: right;\n",
       "    }\n",
       "</style>\n",
       "<table border=\"1\" class=\"dataframe\">\n",
       "  <thead>\n",
       "    <tr style=\"text-align: right;\">\n",
       "      <th></th>\n",
       "      <th>streetname</th>\n",
       "      <th>areaid</th>\n",
       "      <th>okrug</th>\n",
       "      <th>area</th>\n",
       "    </tr>\n",
       "  </thead>\n",
       "  <tbody>\n",
       "    <tr>\n",
       "      <td>348</td>\n",
       "      <td>улица Каретный Ряд</td>\n",
       "      <td>19</td>\n",
       "      <td>ЦАО</td>\n",
       "      <td>Тверской район</td>\n",
       "    </tr>\n",
       "    <tr>\n",
       "      <td>3391</td>\n",
       "      <td>улица Маршала Захарова</td>\n",
       "      <td>105</td>\n",
       "      <td>ЮАО</td>\n",
       "      <td>Район Орехово-Борисово Северное</td>\n",
       "    </tr>\n",
       "    <tr>\n",
       "      <td>1445</td>\n",
       "      <td>улица Федосьино</td>\n",
       "      <td>42</td>\n",
       "      <td>ЗАО</td>\n",
       "      <td>Район Ново-Переделкино</td>\n",
       "    </tr>\n",
       "  </tbody>\n",
       "</table>\n",
       "</div>"
      ],
      "text/plain": [
       "                  streetname  areaid okrug                             area\n",
       "348       улица Каретный Ряд      19   ЦАО                   Тверской район\n",
       "3391  улица Маршала Захарова     105   ЮАО  Район Орехово-Борисово Северное\n",
       "1445         улица Федосьино      42   ЗАО           Район Ново-Переделкино"
      ]
     },
     "execution_count": 40,
     "metadata": {},
     "output_type": "execute_result"
    }
   ],
   "source": [
    "districts.sample(3)"
   ]
  },
  {
   "cell_type": "markdown",
   "metadata": {},
   "source": [
    "Приводим данные к нижнему регистру для избежания ошибок при объединении"
   ]
  },
  {
   "cell_type": "code",
   "execution_count": 41,
   "metadata": {},
   "outputs": [],
   "source": [
    "for column in ['streetname', 'okrug', 'area']:\n",
    "    districts[column] = districts[column].str.lower()"
   ]
  },
  {
   "cell_type": "code",
   "execution_count": 42,
   "metadata": {},
   "outputs": [],
   "source": [
    "districts.rename({'streetname': 'street'}, axis = 1, inplace = True)"
   ]
  },
  {
   "cell_type": "markdown",
   "metadata": {},
   "source": [
    "Некоторым улицам соответствуют сразу несколько районов. Оставим только первый из них"
   ]
  },
  {
   "cell_type": "code",
   "execution_count": 43,
   "metadata": {},
   "outputs": [],
   "source": [
    "districts.drop_duplicates('street', inplace = True)"
   ]
  },
  {
   "cell_type": "code",
   "execution_count": 44,
   "metadata": {},
   "outputs": [],
   "source": [
    "street10 = street10.merge(districts, how = 'left', left_on = 'street', right_on = 'street')"
   ]
  },
  {
   "cell_type": "code",
   "execution_count": 45,
   "metadata": {},
   "outputs": [
    {
     "data": {
      "text/html": [
       "<div>\n",
       "<style scoped>\n",
       "    .dataframe tbody tr th:only-of-type {\n",
       "        vertical-align: middle;\n",
       "    }\n",
       "\n",
       "    .dataframe tbody tr th {\n",
       "        vertical-align: top;\n",
       "    }\n",
       "\n",
       "    .dataframe thead th {\n",
       "        text-align: right;\n",
       "    }\n",
       "</style>\n",
       "<table border=\"1\" class=\"dataframe\">\n",
       "  <thead>\n",
       "    <tr style=\"text-align: right;\">\n",
       "      <th></th>\n",
       "      <th>street</th>\n",
       "      <th>okrug</th>\n",
       "      <th>area</th>\n",
       "    </tr>\n",
       "  </thead>\n",
       "  <tbody>\n",
       "    <tr>\n",
       "      <td>0</td>\n",
       "      <td>проспект мира</td>\n",
       "      <td>свао</td>\n",
       "      <td>алексеевский район</td>\n",
       "    </tr>\n",
       "    <tr>\n",
       "      <td>1</td>\n",
       "      <td>профсоюзная улица</td>\n",
       "      <td>юзао</td>\n",
       "      <td>академический район</td>\n",
       "    </tr>\n",
       "    <tr>\n",
       "      <td>2</td>\n",
       "      <td>ленинградский проспект</td>\n",
       "      <td>сао</td>\n",
       "      <td>район аэропорт</td>\n",
       "    </tr>\n",
       "    <tr>\n",
       "      <td>3</td>\n",
       "      <td>пресненская набережная</td>\n",
       "      <td>цао</td>\n",
       "      <td>пресненский район</td>\n",
       "    </tr>\n",
       "    <tr>\n",
       "      <td>4</td>\n",
       "      <td>варшавское шоссе</td>\n",
       "      <td>юао</td>\n",
       "      <td>район чертаново центральное</td>\n",
       "    </tr>\n",
       "    <tr>\n",
       "      <td>5</td>\n",
       "      <td>ленинский проспект</td>\n",
       "      <td>зао</td>\n",
       "      <td>район проспект вернадского</td>\n",
       "    </tr>\n",
       "    <tr>\n",
       "      <td>6</td>\n",
       "      <td>проспект вернадского</td>\n",
       "      <td>зао</td>\n",
       "      <td>район проспект вернадского</td>\n",
       "    </tr>\n",
       "    <tr>\n",
       "      <td>7</td>\n",
       "      <td>кутузовский проспект</td>\n",
       "      <td>зао</td>\n",
       "      <td>район дорогомилово</td>\n",
       "    </tr>\n",
       "    <tr>\n",
       "      <td>8</td>\n",
       "      <td>каширское шоссе</td>\n",
       "      <td>юао</td>\n",
       "      <td>район москворечье-сабурово</td>\n",
       "    </tr>\n",
       "    <tr>\n",
       "      <td>9</td>\n",
       "      <td>кировоградская улица</td>\n",
       "      <td>юао</td>\n",
       "      <td>район чертаново центральное</td>\n",
       "    </tr>\n",
       "  </tbody>\n",
       "</table>\n",
       "</div>"
      ],
      "text/plain": [
       "                   street okrug                         area\n",
       "0           проспект мира  свао           алексеевский район\n",
       "1       профсоюзная улица  юзао          академический район\n",
       "2  ленинградский проспект   сао               район аэропорт\n",
       "3  пресненская набережная   цао            пресненский район\n",
       "4        варшавское шоссе   юао  район чертаново центральное\n",
       "5      ленинский проспект   зао   район проспект вернадского\n",
       "6    проспект вернадского   зао   район проспект вернадского\n",
       "7    кутузовский проспект   зао           район дорогомилово\n",
       "8         каширское шоссе   юао   район москворечье-сабурово\n",
       "9    кировоградская улица   юао  район чертаново центральное"
      ]
     },
     "execution_count": 45,
     "metadata": {},
     "output_type": "execute_result"
    }
   ],
   "source": [
    "street10[['street', 'okrug', 'area']]"
   ]
  },
  {
   "cell_type": "markdown",
   "metadata": {},
   "source": [
    "Все эти улицы достаточно длинные, поэтому на них конечно же будет очень много различных объектов общественного питания. К тому же до них легко добраться на автомобиле"
   ]
  },
  {
   "cell_type": "markdown",
   "metadata": {},
   "source": [
    "- Найдите число улиц с одним объектом общественного питания. Воспользуйтесь внешней информацией и ответьте на вопрос — в каких районах Москвы находятся эти улицы?"
   ]
  },
  {
   "cell_type": "code",
   "execution_count": 46,
   "metadata": {},
   "outputs": [],
   "source": [
    "only_object = (df\n",
    "               .groupby('street')\n",
    "               .agg({'id': 'nunique'})\n",
    "               .reset_index()\n",
    "              )\n",
    "only_object = only_object[only_object['id'] == 1]"
   ]
  },
  {
   "cell_type": "code",
   "execution_count": 47,
   "metadata": {},
   "outputs": [
    {
     "name": "stdout",
     "output_type": "stream",
     "text": [
      "Количество улиц Москвы с одним заведением: 634\n"
     ]
    }
   ],
   "source": [
    "print(f'Количество улиц Москвы с одним заведением: {len(only_object)}')"
   ]
  },
  {
   "cell_type": "code",
   "execution_count": 48,
   "metadata": {},
   "outputs": [],
   "source": [
    "only_object = only_object.merge(districts, how = 'left', left_on = 'street', right_on = 'street')"
   ]
  },
  {
   "cell_type": "code",
   "execution_count": 49,
   "metadata": {},
   "outputs": [
    {
     "data": {
      "text/html": [
       "<div>\n",
       "<style scoped>\n",
       "    .dataframe tbody tr th:only-of-type {\n",
       "        vertical-align: middle;\n",
       "    }\n",
       "\n",
       "    .dataframe tbody tr th {\n",
       "        vertical-align: top;\n",
       "    }\n",
       "\n",
       "    .dataframe thead th {\n",
       "        text-align: right;\n",
       "    }\n",
       "</style>\n",
       "<table border=\"1\" class=\"dataframe\">\n",
       "  <thead>\n",
       "    <tr style=\"text-align: right;\">\n",
       "      <th></th>\n",
       "      <th>streets with 1 object</th>\n",
       "    </tr>\n",
       "    <tr>\n",
       "      <th>area</th>\n",
       "      <th></th>\n",
       "    </tr>\n",
       "  </thead>\n",
       "  <tbody>\n",
       "    <tr>\n",
       "      <td>таганский район</td>\n",
       "      <td>27</td>\n",
       "    </tr>\n",
       "    <tr>\n",
       "      <td>басманный район</td>\n",
       "      <td>24</td>\n",
       "    </tr>\n",
       "    <tr>\n",
       "      <td>район хамовники</td>\n",
       "      <td>22</td>\n",
       "    </tr>\n",
       "    <tr>\n",
       "      <td>пресненский район</td>\n",
       "      <td>20</td>\n",
       "    </tr>\n",
       "    <tr>\n",
       "      <td>тверской район</td>\n",
       "      <td>20</td>\n",
       "    </tr>\n",
       "    <tr>\n",
       "      <td>район марьина роща</td>\n",
       "      <td>17</td>\n",
       "    </tr>\n",
       "    <tr>\n",
       "      <td>район сокольники</td>\n",
       "      <td>15</td>\n",
       "    </tr>\n",
       "    <tr>\n",
       "      <td>район арбат</td>\n",
       "      <td>14</td>\n",
       "    </tr>\n",
       "    <tr>\n",
       "      <td>район замоскворечье</td>\n",
       "      <td>14</td>\n",
       "    </tr>\n",
       "    <tr>\n",
       "      <td>район лефортово</td>\n",
       "      <td>12</td>\n",
       "    </tr>\n",
       "  </tbody>\n",
       "</table>\n",
       "</div>"
      ],
      "text/plain": [
       "                     streets with 1 object\n",
       "area                                      \n",
       "таганский район                         27\n",
       "басманный район                         24\n",
       "район хамовники                         22\n",
       "пресненский район                       20\n",
       "тверской район                          20\n",
       "район марьина роща                      17\n",
       "район сокольники                        15\n",
       "район арбат                             14\n",
       "район замоскворечье                     14\n",
       "район лефортово                         12"
      ]
     },
     "execution_count": 49,
     "metadata": {},
     "output_type": "execute_result"
    }
   ],
   "source": [
    "(only_object\n",
    "            .groupby('area')\n",
    "            .agg({'street': 'count'})\n",
    "            .sort_values(by = 'street', ascending = False)\n",
    "            .rename({'street': 'streets with 1 object'}, axis = 1)\n",
    "            .head(10)\n",
    ")"
   ]
  },
  {
   "cell_type": "markdown",
   "metadata": {},
   "source": [
    "Большая часть этих районов находится достаточно близко к центру или к какому-то популярному месту (как район Сокольники). \n",
    "Мои предположения: \n",
    "1. в этих районах очень много мелких улочек, на которых как раз размещается какой-нибудь один объект\n",
    "2. в этих районах дорогая аренда, поэтому открываются только очень прибыльные заведения, например, какой-нибудь большой ресторан "
   ]
  },
  {
   "cell_type": "markdown",
   "metadata": {},
   "source": [
    "- Посмотрите на распределение количества посадочных мест для улиц с большим количеством объектов общественного питания. Какие закономерности можно выявить?"
   ]
  },
  {
   "cell_type": "code",
   "execution_count": 50,
   "metadata": {},
   "outputs": [],
   "source": [
    "top_ids = street10['street']"
   ]
  },
  {
   "cell_type": "code",
   "execution_count": 51,
   "metadata": {},
   "outputs": [],
   "source": [
    "street10_seats = df[df['street'].isin(top_ids)]"
   ]
  },
  {
   "cell_type": "code",
   "execution_count": 52,
   "metadata": {},
   "outputs": [
    {
     "data": {
      "image/png": "[encoded data removed]",
      "text/plain": [
       "<Figure size 648x288 with 1 Axes>"
      ]
     },
     "metadata": {
      "needs_background": "light"
     },
     "output_type": "display_data"
    }
   ],
   "source": [
    "dims = (9, 4)\n",
    "fig, ax = plt.subplots(figsize = dims)\n",
    "\n",
    "sns.distplot(street10_seats['seats'], bins=100, color = '#51adcf')\n",
    "plt.title('Распределение количества посадочных мест для топ-10 улиц', fontsize = 16)\n",
    "plt.xlabel('Количество мест', fontsize = 12)\n",
    "plt.ylabel('Плотность распределения', fontsize = 12)\n",
    "plt.show()"
   ]
  },
  {
   "cell_type": "markdown",
   "metadata": {},
   "source": [
    "На графике распределения оказался очень длинный хвост из-за аномальных данных. Отсеим 5% выбивающихся заведений"
   ]
  },
  {
   "cell_type": "code",
   "execution_count": 53,
   "metadata": {},
   "outputs": [],
   "source": [
    "seats95 = np.percentile(street10_seats['seats'], 95)\n",
    "clean_s10s = street10_seats[street10_seats['seats'] <= seats95]"
   ]
  },
  {
   "cell_type": "code",
   "execution_count": 54,
   "metadata": {},
   "outputs": [
    {
     "data": {
      "image/png": "[encoded data removed]",
      "text/plain": [
       "<Figure size 864x432 with 1 Axes>"
      ]
     },
     "metadata": {
      "needs_background": "light"
     },
     "output_type": "display_data"
    }
   ],
   "source": [
    "dims = (12, 6)\n",
    "fig, ax = plt.subplots(figsize = dims)\n",
    "\n",
    "sns.distplot(clean_s10s['seats'], bins = 16, color = '#51adcf')\n",
    "plt.title('Распределение количества посадочных мест для топ-10 улиц', fontsize = 16)\n",
    "plt.xlabel('Количество мест', fontsize = 12)\n",
    "plt.ylabel('Плотность распределения', fontsize = 12)\n",
    "plt.xticks(np.arange(0, 225, step = 25))\n",
    "ax.spines['top'].set_visible(False) #убираем правую границу графика\n",
    "ax.spines['right'].set_visible(False) #убираем левую границу графика\n",
    "plt.tight_layout() #включаем подписи графиков в сохраненную картинку\n",
    "plt.subplots_adjust(top = 0.85) #добавляем немного места наверх, чтобы не обрезать title\n",
    "plt.savefig('Распределение_количества_мест_для_топ-10_улиц.png')\n",
    "plt.show()"
   ]
  },
  {
   "cell_type": "markdown",
   "metadata": {},
   "source": [
    "Это Пуассоновское распределение. Можно сказать, что очень много заведений не может разместить более 10 человек. Может посмотрим на это же распределение по типам объектов?"
   ]
  },
  {
   "cell_type": "code",
   "execution_count": 55,
   "metadata": {},
   "outputs": [
    {
     "data": {
      "image/png": "[encoded data removed]",
      "text/plain": [
       "<Figure size 648x288 with 1 Axes>"
      ]
     },
     "metadata": {
      "needs_background": "light"
     },
     "output_type": "display_data"
    },
    {
     "data": {
      "image/png": "[encoded data removed]",
      "text/plain": [
       "<Figure size 648x288 with 1 Axes>"
      ]
     },
     "metadata": {
      "needs_background": "light"
     },
     "output_type": "display_data"
    },
    {
     "data": {
      "image/png": "[encoded data removed]",
      "text/plain": [
       "<Figure size 648x288 with 1 Axes>"
      ]
     },
     "metadata": {
      "needs_background": "light"
     },
     "output_type": "display_data"
    },
    {
     "data": {
      "image/png": "[encoded data removed]",
      "text/plain": [
       "<Figure size 648x288 with 1 Axes>"
      ]
     },
     "metadata": {
      "needs_background": "light"
     },
     "output_type": "display_data"
    },
    {
     "data": {
      "image/png": "[encoded data removed]",
      "text/plain": [
       "<Figure size 648x288 with 1 Axes>"
      ]
     },
     "metadata": {
      "needs_background": "light"
     },
     "output_type": "display_data"
    },
    {
     "data": {
      "image/png": "[encoded data removed]",
      "text/plain": [
       "<Figure size 648x288 with 1 Axes>"
      ]
     },
     "metadata": {
      "needs_background": "light"
     },
     "output_type": "display_data"
    },
    {
     "data": {
      "image/png": "[encoded data removed]",
      "text/plain": [
       "<Figure size 648x288 with 1 Axes>"
      ]
     },
     "metadata": {
      "needs_background": "light"
     },
     "output_type": "display_data"
    },
    {
     "data": {
      "image/png": "[encoded data removed]",
      "text/plain": [
       "<Figure size 648x288 with 1 Axes>"
      ]
     },
     "metadata": {
      "needs_background": "light"
     },
     "output_type": "display_data"
    },
    {
     "data": {
      "image/png": "[encoded data removed]",
      "text/plain": [
       "<Figure size 648x288 with 1 Axes>"
      ]
     },
     "metadata": {
      "needs_background": "light"
     },
     "output_type": "display_data"
    }
   ],
   "source": [
    "for object_type in clean_s10s['object_type'].unique():\n",
    "    dims = (9, 4)\n",
    "    fig, ax = plt.subplots(figsize = dims)\n",
    "    data = clean_s10s[clean_s10s['object_type'] == object_type]['seats']\n",
    "    sns.distplot(data, bins = 16, color = '#51adcf')\n",
    "    plt.title(f'Распределение посадочных мест для \\n\"{object_type}\" на топ улицах', fontsize = 14)\n",
    "    plt.xlabel('Количество мест', fontsize = 12)\n",
    "    plt.ylabel('Плотность распределения', fontsize = 12)\n",
    "    plt.xticks(np.arange(0, 225, step = 25))\n",
    "    ax.spines['top'].set_visible(False) #убираем правую границу графика\n",
    "    ax.spines['right'].set_visible(False) #убираем левую границу графика\n",
    "    plt.tight_layout() #включаем подписи графиков в сохраненную картинку\n",
    "    plt.subplots_adjust(top = 0.85) #добавляем немного места наверх, чтобы не обрезать title\n",
    "    plt.savefig(f'{object_type}.png')\n",
    "    plt.show()"
   ]
  },
  {
   "cell_type": "markdown",
   "metadata": {},
   "source": [
    "Теперь распределения отличаются от общей картины:\n",
    "- для кафе, буфета, бара и столовой скорее характерно наличие 20-50 посадочных мест\n",
    "- для предприятия быстрого обслуживания, кафетерия, отдела кулинарии в магазине и закусочной много мест не нужно: достаточно от 0 до 10 мест\n",
    "- а распределение для ресторана уже больше похоже на нормальное: 50-100 мест это классика\n",
    "\n",
    "Выводы не противоречат логике: во вторую группу заведений забегают поесть и долго не задерживаются, в третьей приходят приятно провести весь вечер, а то и день, причем часто большой компанией, а первая группа - это нечто среднее, где можно и посидеть и быстро подкрепиться."
   ]
  },
  {
   "cell_type": "markdown",
   "metadata": {},
   "source": [
    "**Вывод шага 3:**"
   ]
  },
  {
   "cell_type": "markdown",
   "metadata": {},
   "source": [
    "Исходя из полученных выше данных можно сформировать рекомендацию для нового заведения:\n",
    "- сделать его в формате предприятия быстрого обслуживания: такие объекты часто становятся сетевыми (40% таких заведений - сетевые), простое и небольшое меню упростит задачу настройки роботов-поваров. К тому же люди не будут ожидать подачи еды к столику, поэтому не нужно задумываться о роботах-официантах и выборе их кратчайшего маршрута - всего лишь нужен робот, который будет находиться в зоне выдачи  \n",
    "- поставить небольшое количества сидячих мест (10-25), так как в таких заведениях большая проходимость и людям важнее быстрый перекус или еда с собой\n",
    "- начинать в каком-нибудь не центральном районе, около большой улицы. Например, в Алексеевском районе на улице Проспект мира, там и аренда будет недорогая, и людей будет достаточно много\n",
    "\n",
    "В дальнейшем можно открыть новые точки в других районах, этот тип заведений отлично подходит для сети."
   ]
  },
  {
   "cell_type": "markdown",
   "metadata": {},
   "source": [
    "### Шаг 4. Общий вывод "
   ]
  },
  {
   "cell_type": "markdown",
   "metadata": {},
   "source": [
    "1. Были проанализированные данные о рынке общественного питания в Москве. \n",
    "1. Данные оптимизированы, приведены к нужным типам и проверены на корректность.\n",
    "1. Проанализирован рынок общественного питания в Москве:\n",
    "\n",
    "    - Общий анализ рынка\n",
    "        - больше всего заведений типа кафе\n",
    "        - несетевых заведений почти в 4 раза больше сетевых\n",
    "        - для предприятий быстрого обслуживания характерно сетевое распространение\n",
    "        - определено, что у сетевых заведений мало точек (2-6), и достаточно много мест (от 0 до 150 в зависимости от типа заведения)\n",
    "    - Анализ улиц и районов    \n",
    "        - проанализированы 10 улиц с наибольшим количеством объектов общественного питания (широкие улицы, проспекты и шоссе)\n",
    "        - определены районы, в которых они находятся (нецентральные районы)\n",
    "        - аналогично определены районы, в которых больше всего улиц лишь с 1 заведением (большинство таких районов оказались центральными, из-за чего можно сделать вывод, что там не очень выгодно открывать заведения)\n",
    "    \n",
    "Сделана рекомендация по развитию сети: развивать сеть предприятий быстрого обслуживания с небольшим количеством мест (10-25) и открыть первую точку в Алексеевском районе."
   ]
  }
 ],
 "metadata": {
  "kernelspec": {
   "display_name": "Python 3",
   "language": "python",
   "name": "python3"
  },
  "language_info": {
   "codemirror_mode": {
    "name": "ipython",
    "version": 3
   },
   "file_extension": ".py",
   "mimetype": "text/x-python",
   "name": "python",
   "nbconvert_exporter": "python",
   "pygments_lexer": "ipython3",
   "version": "3.8.3"
  }
 },
 "nbformat": 4,
 "nbformat_minor": 2
}
