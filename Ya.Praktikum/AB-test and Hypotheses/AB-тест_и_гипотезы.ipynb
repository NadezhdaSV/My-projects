{
 "cells": [
  {
   "cell_type": "markdown",
   "metadata": {},
   "source": [
    "# A/B-тест и проверка маркетинговых гипотез"
   ]
  },
  {
   "cell_type": "markdown",
   "metadata": {},
   "source": [
    "Отдел маркетинга крупного интернет-магазина подготовил список гипотез для увеличения выручки.\n",
   ]
  },
  {
   "cell_type": "markdown",
   "metadata": {},
   "source": [
    "### Описание данных"
   ]
  },
  {
   "cell_type": "markdown",
   "metadata": {},
   "source": [
    "Файл с гипотезами `hypothesis`"
   ]
  },
  {
   "cell_type": "markdown",
   "metadata": {},
   "source": [
    "- `Hypothesis` — краткое описание гипотезы;\n",
    "- `Reach` — охват пользователей по 10-балльной шкале;\n",
    "- `Impact` — влияние на пользователей по 10-балльной шкале;\n",
    "- `Confidence` — уверенность в гипотезе по 10-балльной шкале;\n",
    "- `Efforts` — затраты ресурсов на проверку гипотезы по 10-балльной шкале. Чем больше значение Efforts, тем дороже проверка гипотезы."
   ]
  },
  {
   "cell_type": "markdown",
   "metadata": {},
   "source": [
    "Файл с данными о заказах в группах A и B `orders`"
   ]
  },
  {
   "cell_type": "markdown",
   "metadata": {},
   "source": [
    "- `transactionId` — идентификатор заказа;\n",
    "- `visitorId` — идентификатор пользователя, совершившего заказ;\n",
    "- `date` — дата, когда был совершён заказ;\n",
    "- `revenue` — выручка заказа;\n",
    "- `group` — группа A/B-теста, в которую попал заказ."
   ]
  },
  {
   "cell_type": "markdown",
   "metadata": {},
   "source": [
    "Файл с количеством пользователей каждой группы по датам `visitors`"
   ]
  },
  {
   "cell_type": "markdown",
   "metadata": {},
   "source": [
    "- `date` — дата;\n",
    "- `group` — группа A/B-теста;\n",
    "- `visitors` — количество пользователей в указанную дату в указанной группе A/B-теста."
   ]
  },
  {
   "cell_type": "markdown",
   "metadata": {},
   "source": [
    "### План по выполнению проекта: \n",
    "1. Загрузить данные из всех файлов и изучить общую информацию.\n",
    "1. Оптимизировать данные для анализа (проверить названия столбцов, типы данных, обработать пропуски).\n",
    "1. Выделить приоритетные гипотезы.\n",
    "1. Провести анализ A/B-теста.\n",
    "    1. Выполнить расчёт кумулятивных величин и вывести их графики\n",
    "    1. Выбрать границу определения аномальных клиентов и заказов\n",
    "    1. Провести статистические тесты\n",
    "1. Написать общий вывод."
   ]
  },
  {
   "cell_type": "code",
   "execution_count": 1,
   "metadata": {},
   "outputs": [],
   "source": [
    "import matplotlib.pyplot as plt\n",
    "import seaborn as sns\n",
    "import pandas as pd\n",
    "import warnings\n",
    "import numpy as np\n",
    "import math\n",
    "import scipy.stats as stats\n",
    "from IPython.display import display\n",
    "from scipy import stats as st\n",
    "from functools import reduce\n",
    "warnings.filterwarnings('ignore')\n",
    "pd.options.display.float_format = \"{:,.2f}\".format"
   ]
  },
  {
   "cell_type": "markdown",
   "metadata": {},
   "source": [
    "### Шаг 1. Знакомство с данными"
   ]
  },
  {
   "cell_type": "code",
   "execution_count": 2,
   "metadata": {},
   "outputs": [],
   "source": [
    "hypothesis = pd.read_csv('/datasets/hypothesis.csv')\n",
    "orders = pd.read_csv('/datasets/orders.csv')\n",
    "visitors = pd.read_csv('/datasets/visitors.csv')"
   ]
  },
  {
   "cell_type": "code",
   "execution_count": 3,
   "metadata": {
    "scrolled": false
   },
   "outputs": [
    {
     "name": "stdout",
     "output_type": "stream",
     "text": [
      "<class 'pandas.core.frame.DataFrame'>\n",
      "RangeIndex: 9 entries, 0 to 8\n",
      "Data columns (total 5 columns):\n",
      "Hypothesis    9 non-null object\n",
      "Reach         9 non-null int64\n",
      "Impact        9 non-null int64\n",
      "Confidence    9 non-null int64\n",
      "Efforts       9 non-null int64\n",
      "dtypes: int64(4), object(1)\n",
      "memory usage: 488.0+ bytes\n"
     ]
    },
    {
     "data": {
      "text/html": [
       "<div>\n",
       "<style scoped>\n",
       "    .dataframe tbody tr th:only-of-type {\n",
       "        vertical-align: middle;\n",
       "    }\n",
       "\n",
       "    .dataframe tbody tr th {\n",
       "        vertical-align: top;\n",
       "    }\n",
       "\n",
       "    .dataframe thead th {\n",
       "        text-align: right;\n",
       "    }\n",
       "</style>\n",
       "<table border=\"1\" class=\"dataframe\">\n",
       "  <thead>\n",
       "    <tr style=\"text-align: right;\">\n",
       "      <th></th>\n",
       "      <th>Hypothesis</th>\n",
       "      <th>Reach</th>\n",
       "      <th>Impact</th>\n",
       "      <th>Confidence</th>\n",
       "      <th>Efforts</th>\n",
       "    </tr>\n",
       "  </thead>\n",
       "  <tbody>\n",
       "    <tr>\n",
       "      <td>0</td>\n",
       "      <td>Добавить два новых канала привлечения трафика,...</td>\n",
       "      <td>3</td>\n",
       "      <td>10</td>\n",
       "      <td>8</td>\n",
       "      <td>6</td>\n",
       "    </tr>\n",
       "    <tr>\n",
       "      <td>1</td>\n",
       "      <td>Запустить собственную службу доставки, что сок...</td>\n",
       "      <td>2</td>\n",
       "      <td>5</td>\n",
       "      <td>4</td>\n",
       "      <td>10</td>\n",
       "    </tr>\n",
       "    <tr>\n",
       "      <td>2</td>\n",
       "      <td>Добавить блоки рекомендаций товаров на сайт ин...</td>\n",
       "      <td>8</td>\n",
       "      <td>3</td>\n",
       "      <td>7</td>\n",
       "      <td>3</td>\n",
       "    </tr>\n",
       "    <tr>\n",
       "      <td>3</td>\n",
       "      <td>Изменить структура категорий, что увеличит кон...</td>\n",
       "      <td>8</td>\n",
       "      <td>3</td>\n",
       "      <td>3</td>\n",
       "      <td>8</td>\n",
       "    </tr>\n",
       "    <tr>\n",
       "      <td>4</td>\n",
       "      <td>Изменить цвет фона главной страницы, чтобы уве...</td>\n",
       "      <td>3</td>\n",
       "      <td>1</td>\n",
       "      <td>1</td>\n",
       "      <td>1</td>\n",
       "    </tr>\n",
       "    <tr>\n",
       "      <td>5</td>\n",
       "      <td>Добавить страницу отзывов клиентов о магазине,...</td>\n",
       "      <td>3</td>\n",
       "      <td>2</td>\n",
       "      <td>2</td>\n",
       "      <td>3</td>\n",
       "    </tr>\n",
       "    <tr>\n",
       "      <td>6</td>\n",
       "      <td>Показать на главной странице баннеры с актуаль...</td>\n",
       "      <td>5</td>\n",
       "      <td>3</td>\n",
       "      <td>8</td>\n",
       "      <td>3</td>\n",
       "    </tr>\n",
       "    <tr>\n",
       "      <td>7</td>\n",
       "      <td>Добавить форму подписки на все основные страни...</td>\n",
       "      <td>10</td>\n",
       "      <td>7</td>\n",
       "      <td>8</td>\n",
       "      <td>5</td>\n",
       "    </tr>\n",
       "    <tr>\n",
       "      <td>8</td>\n",
       "      <td>Запустить акцию, дающую скидку на товар в день...</td>\n",
       "      <td>1</td>\n",
       "      <td>9</td>\n",
       "      <td>9</td>\n",
       "      <td>5</td>\n",
       "    </tr>\n",
       "  </tbody>\n",
       "</table>\n",
       "</div>"
      ],
      "text/plain": [
       "                                          Hypothesis  Reach  Impact  \\\n",
       "0  Добавить два новых канала привлечения трафика,...      3      10   \n",
       "1  Запустить собственную службу доставки, что сок...      2       5   \n",
       "2  Добавить блоки рекомендаций товаров на сайт ин...      8       3   \n",
       "3  Изменить структура категорий, что увеличит кон...      8       3   \n",
       "4  Изменить цвет фона главной страницы, чтобы уве...      3       1   \n",
       "5  Добавить страницу отзывов клиентов о магазине,...      3       2   \n",
       "6  Показать на главной странице баннеры с актуаль...      5       3   \n",
       "7  Добавить форму подписки на все основные страни...     10       7   \n",
       "8  Запустить акцию, дающую скидку на товар в день...      1       9   \n",
       "\n",
       "   Confidence  Efforts  \n",
       "0           8        6  \n",
       "1           4       10  \n",
       "2           7        3  \n",
       "3           3        8  \n",
       "4           1        1  \n",
       "5           2        3  \n",
       "6           8        3  \n",
       "7           8        5  \n",
       "8           9        5  "
      ]
     },
     "metadata": {},
     "output_type": "display_data"
    }
   ],
   "source": [
    "hypothesis.info()\n",
    "display(hypothesis)"
   ]
  },
  {
   "cell_type": "code",
   "execution_count": 4,
   "metadata": {},
   "outputs": [
    {
     "name": "stdout",
     "output_type": "stream",
     "text": [
      "<class 'pandas.core.frame.DataFrame'>\n",
      "RangeIndex: 1197 entries, 0 to 1196\n",
      "Data columns (total 5 columns):\n",
      "transactionId    1197 non-null int64\n",
      "visitorId        1197 non-null int64\n",
      "date             1197 non-null object\n",
      "revenue          1197 non-null int64\n",
      "group            1197 non-null object\n",
      "dtypes: int64(3), object(2)\n",
      "memory usage: 46.9+ KB\n"
     ]
    },
    {
     "data": {
      "text/html": [
       "<div>\n",
       "<style scoped>\n",
       "    .dataframe tbody tr th:only-of-type {\n",
       "        vertical-align: middle;\n",
       "    }\n",
       "\n",
       "    .dataframe tbody tr th {\n",
       "        vertical-align: top;\n",
       "    }\n",
       "\n",
       "    .dataframe thead th {\n",
       "        text-align: right;\n",
       "    }\n",
       "</style>\n",
       "<table border=\"1\" class=\"dataframe\">\n",
       "  <thead>\n",
       "    <tr style=\"text-align: right;\">\n",
       "      <th></th>\n",
       "      <th>transactionId</th>\n",
       "      <th>visitorId</th>\n",
       "      <th>date</th>\n",
       "      <th>revenue</th>\n",
       "      <th>group</th>\n",
       "    </tr>\n",
       "  </thead>\n",
       "  <tbody>\n",
       "    <tr>\n",
       "      <td>1187</td>\n",
       "      <td>2274188238</td>\n",
       "      <td>132143192</td>\n",
       "      <td>2019-08-14</td>\n",
       "      <td>750</td>\n",
       "      <td>A</td>\n",
       "    </tr>\n",
       "    <tr>\n",
       "      <td>239</td>\n",
       "      <td>3083858710</td>\n",
       "      <td>3469608676</td>\n",
       "      <td>2019-08-02</td>\n",
       "      <td>10590</td>\n",
       "      <td>A</td>\n",
       "    </tr>\n",
       "    <tr>\n",
       "      <td>1079</td>\n",
       "      <td>4044267042</td>\n",
       "      <td>997945223</td>\n",
       "      <td>2019-08-12</td>\n",
       "      <td>9300</td>\n",
       "      <td>A</td>\n",
       "    </tr>\n",
       "    <tr>\n",
       "      <td>252</td>\n",
       "      <td>473864496</td>\n",
       "      <td>3803269165</td>\n",
       "      <td>2019-08-23</td>\n",
       "      <td>2360</td>\n",
       "      <td>B</td>\n",
       "    </tr>\n",
       "    <tr>\n",
       "      <td>106</td>\n",
       "      <td>3152444021</td>\n",
       "      <td>1460891116</td>\n",
       "      <td>2019-08-16</td>\n",
       "      <td>5365</td>\n",
       "      <td>A</td>\n",
       "    </tr>\n",
       "  </tbody>\n",
       "</table>\n",
       "</div>"
      ],
      "text/plain": [
       "      transactionId   visitorId        date  revenue group\n",
       "1187     2274188238   132143192  2019-08-14      750     A\n",
       "239      3083858710  3469608676  2019-08-02    10590     A\n",
       "1079     4044267042   997945223  2019-08-12     9300     A\n",
       "252       473864496  3803269165  2019-08-23     2360     B\n",
       "106      3152444021  1460891116  2019-08-16     5365     A"
      ]
     },
     "metadata": {},
     "output_type": "display_data"
    }
   ],
   "source": [
    "orders.info()\n",
    "display(orders.sample(5))"
   ]
  },
  {
   "cell_type": "code",
   "execution_count": 5,
   "metadata": {},
   "outputs": [
    {
     "name": "stdout",
     "output_type": "stream",
     "text": [
      "<class 'pandas.core.frame.DataFrame'>\n",
      "RangeIndex: 62 entries, 0 to 61\n",
      "Data columns (total 3 columns):\n",
      "date        62 non-null object\n",
      "group       62 non-null object\n",
      "visitors    62 non-null int64\n",
      "dtypes: int64(1), object(2)\n",
      "memory usage: 1.6+ KB\n"
     ]
    },
    {
     "data": {
      "text/html": [
       "<div>\n",
       "<style scoped>\n",
       "    .dataframe tbody tr th:only-of-type {\n",
       "        vertical-align: middle;\n",
       "    }\n",
       "\n",
       "    .dataframe tbody tr th {\n",
       "        vertical-align: top;\n",
       "    }\n",
       "\n",
       "    .dataframe thead th {\n",
       "        text-align: right;\n",
       "    }\n",
       "</style>\n",
       "<table border=\"1\" class=\"dataframe\">\n",
       "  <thead>\n",
       "    <tr style=\"text-align: right;\">\n",
       "      <th></th>\n",
       "      <th>date</th>\n",
       "      <th>group</th>\n",
       "      <th>visitors</th>\n",
       "    </tr>\n",
       "  </thead>\n",
       "  <tbody>\n",
       "    <tr>\n",
       "      <td>46</td>\n",
       "      <td>2019-08-16</td>\n",
       "      <td>B</td>\n",
       "      <td>413</td>\n",
       "    </tr>\n",
       "    <tr>\n",
       "      <td>21</td>\n",
       "      <td>2019-08-22</td>\n",
       "      <td>A</td>\n",
       "      <td>609</td>\n",
       "    </tr>\n",
       "    <tr>\n",
       "      <td>55</td>\n",
       "      <td>2019-08-25</td>\n",
       "      <td>B</td>\n",
       "      <td>679</td>\n",
       "    </tr>\n",
       "    <tr>\n",
       "      <td>54</td>\n",
       "      <td>2019-08-24</td>\n",
       "      <td>B</td>\n",
       "      <td>378</td>\n",
       "    </tr>\n",
       "    <tr>\n",
       "      <td>35</td>\n",
       "      <td>2019-08-05</td>\n",
       "      <td>B</td>\n",
       "      <td>707</td>\n",
       "    </tr>\n",
       "  </tbody>\n",
       "</table>\n",
       "</div>"
      ],
      "text/plain": [
       "          date group  visitors\n",
       "46  2019-08-16     B       413\n",
       "21  2019-08-22     A       609\n",
       "55  2019-08-25     B       679\n",
       "54  2019-08-24     B       378\n",
       "35  2019-08-05     B       707"
      ]
     },
     "metadata": {},
     "output_type": "display_data"
    }
   ],
   "source": [
    "visitors.info()\n",
    "display(visitors.sample(5))"
   ]
  },
  {
   "cell_type": "markdown",
   "metadata": {},
   "source": [
    "**Вывод шага 1:**"
   ]
  },
  {
   "cell_type": "markdown",
   "metadata": {},
   "source": [
    "Первый взгляд на данные сделан:\n",
    "\n",
    "- явных пропусков в данных нет\n",
    "- нужно изменить типы данных: для столбцов с датой `object` -> `datetime64[ns]`\n",
    "- нужно унифицировать названия столбцов: привести к нижнему регистру и заменить camelCase в столбцах с id на _ для удобства\n",
    "\n",
    "Дополнительно:\n",
    "- проверим данные на дубликаты\n",
    "- выведем уникальные значения групп, чтобы отловить возможные ошибки\n",
    "- проверим столбцы с выручкой на неотрицательность"
   ]
  },
  {
   "cell_type": "markdown",
   "metadata": {},
   "source": [
    "### Шаг 2. Подготовка данных"
   ]
  },
  {
   "cell_type": "markdown",
   "metadata": {},
   "source": [
    "- преобразуем тип для дат"
   ]
  },
  {
   "cell_type": "code",
   "execution_count": 6,
   "metadata": {},
   "outputs": [],
   "source": [
    "for df in [orders, visitors]:\n",
    "    df['date'] = pd.to_datetime(df['date'], format = '%Y-%m-%d')"
   ]
  },
  {
   "cell_type": "markdown",
   "metadata": {},
   "source": [
    "- обрабатываем названия столбцов"
   ]
  },
  {
   "cell_type": "code",
   "execution_count": 7,
   "metadata": {},
   "outputs": [],
   "source": [
    "hypothesis.columns = hypothesis.columns.str.lower()\n",
    "orders.columns = orders.columns.str.replace('Id', '_id')"
   ]
  },
  {
   "cell_type": "markdown",
   "metadata": {},
   "source": [
    "- поиск дубликатов"
   ]
  },
  {
   "cell_type": "code",
   "execution_count": 8,
   "metadata": {},
   "outputs": [
    {
     "name": "stdout",
     "output_type": "stream",
     "text": [
      "Количество дубликатов: 0\n",
      "Количество дубликатов: 0\n"
     ]
    }
   ],
   "source": [
    "for df in [orders, visitors]:\n",
    "    print('Количество дубликатов:', df.duplicated().sum())"
   ]
  },
  {
   "cell_type": "markdown",
   "metadata": {},
   "source": [
    "- проверка значений в столбцах групп"
   ]
  },
  {
   "cell_type": "code",
   "execution_count": 9,
   "metadata": {},
   "outputs": [
    {
     "data": {
      "text/plain": [
       "B    640\n",
       "A    557\n",
       "Name: group, dtype: int64"
      ]
     },
     "metadata": {},
     "output_type": "display_data"
    },
    {
     "data": {
      "text/plain": [
       "B    31\n",
       "A    31\n",
       "Name: group, dtype: int64"
      ]
     },
     "metadata": {},
     "output_type": "display_data"
    }
   ],
   "source": [
    "for df in [orders, visitors]:\n",
    "    display(df['group'].value_counts())"
   ]
  },
  {
   "cell_type": "markdown",
   "metadata": {},
   "source": [
    "- проверка выручки на неотрицательность"
   ]
  },
  {
   "cell_type": "code",
   "execution_count": 10,
   "metadata": {},
   "outputs": [
    {
     "data": {
      "text/plain": [
       "count       1,197.00\n",
       "mean        8,348.01\n",
       "std        39,191.13\n",
       "min            50.00\n",
       "25%         1,220.00\n",
       "50%         2,978.00\n",
       "75%         8,290.00\n",
       "max     1,294,500.00\n",
       "Name: revenue, dtype: float64"
      ]
     },
     "execution_count": 10,
     "metadata": {},
     "output_type": "execute_result"
    }
   ],
   "source": [
    "orders['revenue'].describe()"
   ]
  },
  {
   "cell_type": "markdown",
   "metadata": {},
   "source": [
    "**Вывод шага 2:**"
   ]
  },
  {
   "cell_type": "markdown",
   "metadata": {},
   "source": [
    "Были изменены типы данных для дат, изменены названия столбцов. Произведена проверка данных на корректность (отсутствие дубликатов, ошибочных названий групп, отрицательной выручки). \n",
    "\n",
    "Можно заметить, что есть аномальные значения выручки (1.3 миллиона), на которые нужно обратить внимание в дальнейшем исследовании.\n",
    "\n",
    "Датасеты предобработаны, можно приступать к исследованию."
   ]
  },
  {
   "cell_type": "markdown",
   "metadata": {},
   "source": [
    "### Шаг 3. Приоритизация гипотез"
   ]
  },
  {
   "cell_type": "markdown",
   "metadata": {},
   "source": [
    "- Используем фреймворк ICE для приоритизации гипотез (в порядке убывания)"
   ]
  },
  {
   "cell_type": "code",
   "execution_count": 11,
   "metadata": {},
   "outputs": [
    {
     "data": {
      "text/html": [
       "<div>\n",
       "<style scoped>\n",
       "    .dataframe tbody tr th:only-of-type {\n",
       "        vertical-align: middle;\n",
       "    }\n",
       "\n",
       "    .dataframe tbody tr th {\n",
       "        vertical-align: top;\n",
       "    }\n",
       "\n",
       "    .dataframe thead th {\n",
       "        text-align: right;\n",
       "    }\n",
       "</style>\n",
       "<table border=\"1\" class=\"dataframe\">\n",
       "  <thead>\n",
       "    <tr style=\"text-align: right;\">\n",
       "      <th></th>\n",
       "      <th>hypothesis</th>\n",
       "      <th>reach</th>\n",
       "      <th>impact</th>\n",
       "      <th>confidence</th>\n",
       "      <th>efforts</th>\n",
       "      <th>ice</th>\n",
       "    </tr>\n",
       "  </thead>\n",
       "  <tbody>\n",
       "    <tr>\n",
       "      <td>8</td>\n",
       "      <td>Запустить акцию, дающую скидку на товар в день...</td>\n",
       "      <td>1</td>\n",
       "      <td>9</td>\n",
       "      <td>9</td>\n",
       "      <td>5</td>\n",
       "      <td>16.20</td>\n",
       "    </tr>\n",
       "    <tr>\n",
       "      <td>0</td>\n",
       "      <td>Добавить два новых канала привлечения трафика,...</td>\n",
       "      <td>3</td>\n",
       "      <td>10</td>\n",
       "      <td>8</td>\n",
       "      <td>6</td>\n",
       "      <td>13.33</td>\n",
       "    </tr>\n",
       "    <tr>\n",
       "      <td>7</td>\n",
       "      <td>Добавить форму подписки на все основные страни...</td>\n",
       "      <td>10</td>\n",
       "      <td>7</td>\n",
       "      <td>8</td>\n",
       "      <td>5</td>\n",
       "      <td>11.20</td>\n",
       "    </tr>\n",
       "    <tr>\n",
       "      <td>6</td>\n",
       "      <td>Показать на главной странице баннеры с актуаль...</td>\n",
       "      <td>5</td>\n",
       "      <td>3</td>\n",
       "      <td>8</td>\n",
       "      <td>3</td>\n",
       "      <td>8.00</td>\n",
       "    </tr>\n",
       "    <tr>\n",
       "      <td>2</td>\n",
       "      <td>Добавить блоки рекомендаций товаров на сайт ин...</td>\n",
       "      <td>8</td>\n",
       "      <td>3</td>\n",
       "      <td>7</td>\n",
       "      <td>3</td>\n",
       "      <td>7.00</td>\n",
       "    </tr>\n",
       "    <tr>\n",
       "      <td>1</td>\n",
       "      <td>Запустить собственную службу доставки, что сок...</td>\n",
       "      <td>2</td>\n",
       "      <td>5</td>\n",
       "      <td>4</td>\n",
       "      <td>10</td>\n",
       "      <td>2.00</td>\n",
       "    </tr>\n",
       "    <tr>\n",
       "      <td>5</td>\n",
       "      <td>Добавить страницу отзывов клиентов о магазине,...</td>\n",
       "      <td>3</td>\n",
       "      <td>2</td>\n",
       "      <td>2</td>\n",
       "      <td>3</td>\n",
       "      <td>1.33</td>\n",
       "    </tr>\n",
       "    <tr>\n",
       "      <td>3</td>\n",
       "      <td>Изменить структура категорий, что увеличит кон...</td>\n",
       "      <td>8</td>\n",
       "      <td>3</td>\n",
       "      <td>3</td>\n",
       "      <td>8</td>\n",
       "      <td>1.12</td>\n",
       "    </tr>\n",
       "    <tr>\n",
       "      <td>4</td>\n",
       "      <td>Изменить цвет фона главной страницы, чтобы уве...</td>\n",
       "      <td>3</td>\n",
       "      <td>1</td>\n",
       "      <td>1</td>\n",
       "      <td>1</td>\n",
       "      <td>1.00</td>\n",
       "    </tr>\n",
       "  </tbody>\n",
       "</table>\n",
       "</div>"
      ],
      "text/plain": [
       "                                          hypothesis  reach  impact  \\\n",
       "8  Запустить акцию, дающую скидку на товар в день...      1       9   \n",
       "0  Добавить два новых канала привлечения трафика,...      3      10   \n",
       "7  Добавить форму подписки на все основные страни...     10       7   \n",
       "6  Показать на главной странице баннеры с актуаль...      5       3   \n",
       "2  Добавить блоки рекомендаций товаров на сайт ин...      8       3   \n",
       "1  Запустить собственную службу доставки, что сок...      2       5   \n",
       "5  Добавить страницу отзывов клиентов о магазине,...      3       2   \n",
       "3  Изменить структура категорий, что увеличит кон...      8       3   \n",
       "4  Изменить цвет фона главной страницы, чтобы уве...      3       1   \n",
       "\n",
       "   confidence  efforts   ice  \n",
       "8           9        5 16.20  \n",
       "0           8        6 13.33  \n",
       "7           8        5 11.20  \n",
       "6           8        3  8.00  \n",
       "2           7        3  7.00  \n",
       "1           4       10  2.00  \n",
       "5           2        3  1.33  \n",
       "3           3        8  1.12  \n",
       "4           1        1  1.00  "
      ]
     },
     "metadata": {},
     "output_type": "display_data"
    }
   ],
   "source": [
    "hypothesis['ice'] = hypothesis['impact'] * hypothesis['confidence'] / hypothesis['efforts']\n",
    "display(hypothesis.sort_values(by = 'ice', ascending = False))"
   ]
  },
  {
   "cell_type": "markdown",
   "metadata": {},
   "source": [
    "- Используем фреймворк RICE для приоритизации гипотез (в порядке убывания)"
   ]
  },
  {
   "cell_type": "code",
   "execution_count": 12,
   "metadata": {},
   "outputs": [
    {
     "data": {
      "text/html": [
       "<div>\n",
       "<style scoped>\n",
       "    .dataframe tbody tr th:only-of-type {\n",
       "        vertical-align: middle;\n",
       "    }\n",
       "\n",
       "    .dataframe tbody tr th {\n",
       "        vertical-align: top;\n",
       "    }\n",
       "\n",
       "    .dataframe thead th {\n",
       "        text-align: right;\n",
       "    }\n",
       "</style>\n",
       "<table border=\"1\" class=\"dataframe\">\n",
       "  <thead>\n",
       "    <tr style=\"text-align: right;\">\n",
       "      <th></th>\n",
       "      <th>hypothesis</th>\n",
       "      <th>reach</th>\n",
       "      <th>impact</th>\n",
       "      <th>confidence</th>\n",
       "      <th>efforts</th>\n",
       "      <th>ice</th>\n",
       "      <th>rice</th>\n",
       "    </tr>\n",
       "  </thead>\n",
       "  <tbody>\n",
       "    <tr>\n",
       "      <td>7</td>\n",
       "      <td>Добавить форму подписки на все основные страни...</td>\n",
       "      <td>10</td>\n",
       "      <td>7</td>\n",
       "      <td>8</td>\n",
       "      <td>5</td>\n",
       "      <td>11.20</td>\n",
       "      <td>112.00</td>\n",
       "    </tr>\n",
       "    <tr>\n",
       "      <td>2</td>\n",
       "      <td>Добавить блоки рекомендаций товаров на сайт ин...</td>\n",
       "      <td>8</td>\n",
       "      <td>3</td>\n",
       "      <td>7</td>\n",
       "      <td>3</td>\n",
       "      <td>7.00</td>\n",
       "      <td>56.00</td>\n",
       "    </tr>\n",
       "    <tr>\n",
       "      <td>0</td>\n",
       "      <td>Добавить два новых канала привлечения трафика,...</td>\n",
       "      <td>3</td>\n",
       "      <td>10</td>\n",
       "      <td>8</td>\n",
       "      <td>6</td>\n",
       "      <td>13.33</td>\n",
       "      <td>40.00</td>\n",
       "    </tr>\n",
       "    <tr>\n",
       "      <td>6</td>\n",
       "      <td>Показать на главной странице баннеры с актуаль...</td>\n",
       "      <td>5</td>\n",
       "      <td>3</td>\n",
       "      <td>8</td>\n",
       "      <td>3</td>\n",
       "      <td>8.00</td>\n",
       "      <td>40.00</td>\n",
       "    </tr>\n",
       "    <tr>\n",
       "      <td>8</td>\n",
       "      <td>Запустить акцию, дающую скидку на товар в день...</td>\n",
       "      <td>1</td>\n",
       "      <td>9</td>\n",
       "      <td>9</td>\n",
       "      <td>5</td>\n",
       "      <td>16.20</td>\n",
       "      <td>16.20</td>\n",
       "    </tr>\n",
       "    <tr>\n",
       "      <td>3</td>\n",
       "      <td>Изменить структура категорий, что увеличит кон...</td>\n",
       "      <td>8</td>\n",
       "      <td>3</td>\n",
       "      <td>3</td>\n",
       "      <td>8</td>\n",
       "      <td>1.12</td>\n",
       "      <td>9.00</td>\n",
       "    </tr>\n",
       "    <tr>\n",
       "      <td>1</td>\n",
       "      <td>Запустить собственную службу доставки, что сок...</td>\n",
       "      <td>2</td>\n",
       "      <td>5</td>\n",
       "      <td>4</td>\n",
       "      <td>10</td>\n",
       "      <td>2.00</td>\n",
       "      <td>4.00</td>\n",
       "    </tr>\n",
       "    <tr>\n",
       "      <td>5</td>\n",
       "      <td>Добавить страницу отзывов клиентов о магазине,...</td>\n",
       "      <td>3</td>\n",
       "      <td>2</td>\n",
       "      <td>2</td>\n",
       "      <td>3</td>\n",
       "      <td>1.33</td>\n",
       "      <td>4.00</td>\n",
       "    </tr>\n",
       "    <tr>\n",
       "      <td>4</td>\n",
       "      <td>Изменить цвет фона главной страницы, чтобы уве...</td>\n",
       "      <td>3</td>\n",
       "      <td>1</td>\n",
       "      <td>1</td>\n",
       "      <td>1</td>\n",
       "      <td>1.00</td>\n",
       "      <td>3.00</td>\n",
       "    </tr>\n",
       "  </tbody>\n",
       "</table>\n",
       "</div>"
      ],
      "text/plain": [
       "                                          hypothesis  reach  impact  \\\n",
       "7  Добавить форму подписки на все основные страни...     10       7   \n",
       "2  Добавить блоки рекомендаций товаров на сайт ин...      8       3   \n",
       "0  Добавить два новых канала привлечения трафика,...      3      10   \n",
       "6  Показать на главной странице баннеры с актуаль...      5       3   \n",
       "8  Запустить акцию, дающую скидку на товар в день...      1       9   \n",
       "3  Изменить структура категорий, что увеличит кон...      8       3   \n",
       "1  Запустить собственную службу доставки, что сок...      2       5   \n",
       "5  Добавить страницу отзывов клиентов о магазине,...      3       2   \n",
       "4  Изменить цвет фона главной страницы, чтобы уве...      3       1   \n",
       "\n",
       "   confidence  efforts   ice   rice  \n",
       "7           8        5 11.20 112.00  \n",
       "2           7        3  7.00  56.00  \n",
       "0           8        6 13.33  40.00  \n",
       "6           8        3  8.00  40.00  \n",
       "8           9        5 16.20  16.20  \n",
       "3           3        8  1.12   9.00  \n",
       "1           4       10  2.00   4.00  \n",
       "5           2        3  1.33   4.00  \n",
       "4           1        1  1.00   3.00  "
      ]
     },
     "metadata": {},
     "output_type": "display_data"
    }
   ],
   "source": [
    "hypothesis['rice'] = hypothesis['reach'] * hypothesis['ice']\n",
    "display(hypothesis.sort_values(by = 'rice', ascending = False))"
   ]
  },
  {
   "cell_type": "markdown",
   "metadata": {},
   "source": [
    "**Вывод шага 3:**"
   ]
  },
  {
   "cell_type": "markdown",
   "metadata": {},
   "source": [
    "Были получены приоритеты гипотез с помощью 2 фреймворков.\n",
    "\n",
    "По ICE самыми приоритетными являются 8, 0 и 7 гипотезы: в них есть уверенность, они не очень затратные и окажут большое влияние на пользователей.\n",
    "\n",
    "По RICE приоритетнее всего 7, 2 и 0 гипотезы: помимо всего прочего, они имеют больший охват пользователей.\n",
    "\n",
    "7 гипотеза оказалась самой приоритетной, так как она охватит всех пользователей сайта (каждый посетитель увидит возможность подписки на все нужные ему страницы). А 8 гипотеза не вошла в топ-3 гипотез по RICE, так как она охватит лишь малую часть клиентов (количество людей, у которых в день посещения магазина будет день рождения, достаточно маленькое, хоть эта акция и окажет на них большое влияние).\n",
    "\n",
    "К тому же в обоих рейтингах первые 5 мест занимают гипотезы 0, 2, 6, 7 и 8. Значит именно на них стоит обратить внимание, а остальные отбросить или отложить."
   ]
  },
  {
   "cell_type": "markdown",
   "metadata": {},
   "source": [
    "### Шаг 4. Анализ A/B-теста"
   ]
  },
  {
   "cell_type": "markdown",
   "metadata": {},
   "source": [
    "#### 4.1. Расчёт кумулятивных величин и вывод графиков"
   ]
  },
  {
   "cell_type": "markdown",
   "metadata": {},
   "source": [
    "- Построим график кумулятивной выручки по группам"
   ]
  },
  {
   "cell_type": "code",
   "execution_count": 13,
   "metadata": {},
   "outputs": [],
   "source": [
    "group_by_date = orders[['date','group']].drop_duplicates() "
   ]
  },
  {
   "cell_type": "code",
   "execution_count": 61,
   "metadata": {},
   "outputs": [
    {
     "data": {
      "text/html": [
       "<div>\n",
       "<style scoped>\n",
       "    .dataframe tbody tr th:only-of-type {\n",
       "        vertical-align: middle;\n",
       "    }\n",
       "\n",
       "    .dataframe tbody tr th {\n",
       "        vertical-align: top;\n",
       "    }\n",
       "\n",
       "    .dataframe thead th {\n",
       "        text-align: right;\n",
       "    }\n",
       "</style>\n",
       "<table border=\"1\" class=\"dataframe\">\n",
       "  <thead>\n",
       "    <tr style=\"text-align: right;\">\n",
       "      <th></th>\n",
       "      <th>date</th>\n",
       "      <th>group</th>\n",
       "    </tr>\n",
       "  </thead>\n",
       "  <tbody>\n",
       "    <tr>\n",
       "      <td>0</td>\n",
       "      <td>2019-08-15</td>\n",
       "      <td>B</td>\n",
       "    </tr>\n",
       "    <tr>\n",
       "      <td>2</td>\n",
       "      <td>2019-08-15</td>\n",
       "      <td>A</td>\n",
       "    </tr>\n",
       "    <tr>\n",
       "      <td>45</td>\n",
       "      <td>2019-08-16</td>\n",
       "      <td>A</td>\n",
       "    </tr>\n",
       "    <tr>\n",
       "      <td>47</td>\n",
       "      <td>2019-08-16</td>\n",
       "      <td>B</td>\n",
       "    </tr>\n",
       "    <tr>\n",
       "      <td>55</td>\n",
       "      <td>2019-08-01</td>\n",
       "      <td>A</td>\n",
       "    </tr>\n",
       "    <tr>\n",
       "      <td>...</td>\n",
       "      <td>...</td>\n",
       "      <td>...</td>\n",
       "    </tr>\n",
       "    <tr>\n",
       "      <td>1068</td>\n",
       "      <td>2019-08-12</td>\n",
       "      <td>A</td>\n",
       "    </tr>\n",
       "    <tr>\n",
       "      <td>1114</td>\n",
       "      <td>2019-08-13</td>\n",
       "      <td>B</td>\n",
       "    </tr>\n",
       "    <tr>\n",
       "      <td>1116</td>\n",
       "      <td>2019-08-13</td>\n",
       "      <td>A</td>\n",
       "    </tr>\n",
       "    <tr>\n",
       "      <td>1149</td>\n",
       "      <td>2019-08-14</td>\n",
       "      <td>B</td>\n",
       "    </tr>\n",
       "    <tr>\n",
       "      <td>1150</td>\n",
       "      <td>2019-08-14</td>\n",
       "      <td>A</td>\n",
       "    </tr>\n",
       "  </tbody>\n",
       "</table>\n",
       "<p>62 rows × 2 columns</p>\n",
       "</div>"
      ],
      "text/plain": [
       "           date group\n",
       "0    2019-08-15     B\n",
       "2    2019-08-15     A\n",
       "45   2019-08-16     A\n",
       "47   2019-08-16     B\n",
       "55   2019-08-01     A\n",
       "...         ...   ...\n",
       "1068 2019-08-12     A\n",
       "1114 2019-08-13     B\n",
       "1116 2019-08-13     A\n",
       "1149 2019-08-14     B\n",
       "1150 2019-08-14     A\n",
       "\n",
       "[62 rows x 2 columns]"
      ]
     },
     "execution_count": 61,
     "metadata": {},
     "output_type": "execute_result"
    }
   ],
   "source": [
    "group_by_date"
   ]
  },
  {
   "cell_type": "code",
   "execution_count": 14,
   "metadata": {},
   "outputs": [],
   "source": [
    "orders_cumul = (group_by_date\n",
    "#для каждой строки датафрейма group_by_date отбираем все данные из orders, дата которых\n",
    "#меньше или равна дате из строки group_by_date и группа которых совпадает с группой из строки group_by_date\n",
    "                .apply(lambda x: orders[np.logical_and(orders['date'] <= x['date'], orders['group'] == x['group'])]\n",
    "#формируем столбцы с датой, группой, количеством транзакций, количеством уникальных пользователей и суммарной выручкой                              \n",
    "                                .agg({'date': 'max', 'group': 'max', 'transaction_id': 'nunique', 'visitor_id': 'nunique', 'revenue': 'sum'}), axis = 1)\n",
    "                .sort_values(by = ['date', 'group'])\n",
    "               )"
   ]
  },
  {
   "cell_type": "code",
   "execution_count": 15,
   "metadata": {},
   "outputs": [],
   "source": [
    "visitors_cumul = (group_by_date\n",
    "#аналогично выбираем данные из visitors, соответсвующие конкретной строке из group_by_date\n",
    "                  .apply(lambda x: visitors[np.logical_and(visitors['date'] <= x['date'], visitors['group'] == x['group'])]\n",
    "#формируем столбцы: дата, группа и число посетителей в день                         \n",
    "                                  .agg({'date' : 'max', 'group' : 'max', 'visitors' : 'sum'}), axis = 1)\n",
    "                  .sort_values(by = ['date', 'group']) \n",
    "                 )"
   ]
  },
  {
   "cell_type": "code",
   "execution_count": 49,
   "metadata": {},
   "outputs": [],
   "source": [
    "data_cumul = orders_cumul.merge(visitors_cumul, on = ['date', 'group'])"
   ]
  },
  {
   "cell_type": "code",
   "execution_count": 53,
   "metadata": {},
   "outputs": [],
   "source": [
    "data_cumul.rename(columns = {'transaction_id': 'transactions', 'visitor_id': 'buyers'}, inplace= True)"
   ]
  },
  {
   "cell_type": "code",
   "execution_count": 18,
   "metadata": {},
   "outputs": [],
   "source": [
    "revenue_cumul_a = data_cumul[data_cumul['group'] == 'A'][['date', 'revenue', 'transactions']]\n",
    "revenue_cumul_b = data_cumul[data_cumul['group'] == 'B'][['date', 'revenue', 'transactions']]"
   ]
  },
  {
   "cell_type": "code",
   "execution_count": 19,
   "metadata": {},
   "outputs": [],
   "source": [
    "#функция получает на вход 2 датафрейма, \n",
    "#стобец с датой для оси х и столбец с кумулятивными значениями для оси у\n",
    "#на одной картинке строятся 2 графика по данным для двух групп (из каждого датафрема)\n",
    "def graphics (df_a, df_b, x_column, y_column):\n",
    "    plt.figure(figsize = (7, 5))\n",
    "    plt.plot(df_a[x_column], df_a[y_column], label = 'A')\n",
    "    plt.plot(df_b[x_column], df_b[y_column], label = 'B')\n",
    "    plt.legend()\n",
    "    plt.xlabel('Дата', fontsize = 14)\n",
    "    plt.xticks(rotation = 30)\n",
    "    plt.ylabel(f'Cumulative {y_column}', fontsize = 14)\n",
    "    plt.title(f'Cumulative {y_column} по группам', fontsize = 18)\n",
    "    plt.grid()"
   ]
  },
  {
   "cell_type": "code",
   "execution_count": 20,
   "metadata": {},
   "outputs": [
    {
     "data": {
      "image/png": "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\n",
      "text/plain": [
       "<Figure size 504x360 with 1 Axes>"
      ]
     },
     "metadata": {
      "needs_background": "light"
     },
     "output_type": "display_data"
    }
   ],
   "source": [
    "graphics(revenue_cumul_a, revenue_cumul_b, 'date', 'revenue')"
   ]
  },
  {
   "cell_type": "markdown",
   "metadata": {},
   "source": [
    "Сначала выручка в обеих группах почти равномерно увеличивается.\n",
    "Однако графики выручки группы B в одной точке резко вырос. Это может сигнализировать о всплеске числа заказов, либо о появлении очень дорогих заказов в выборке. \n",
    "\n",
    "Мне кажется, что если бы этого выброса не было, то графики росли бы примерно одинаково, и имело бы место небольшое преимущество группы B."
   ]
  },
  {
   "cell_type": "markdown",
   "metadata": {},
   "source": [
    "- Построим график кумулятивного среднего чека (Average Order Value) по группам"
   ]
  },
  {
   "cell_type": "code",
   "execution_count": 62,
   "metadata": {},
   "outputs": [],
   "source": [
    "# aov - average order value - средний чек\n",
    "revenue_cumul_a['aov'] = revenue_cumul_a['revenue'] / revenue_cumul_a['transactions']\n",
    "revenue_cumul_b['aov'] = revenue_cumul_b['revenue'] / revenue_cumul_b['transactions']"
   ]
  },
  {
   "cell_type": "code",
   "execution_count": 22,
   "metadata": {},
   "outputs": [
    {
     "data": {
      "image/png": "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\n",
      "text/plain": [
       "<Figure size 504x360 with 1 Axes>"
      ]
     },
     "metadata": {
      "needs_background": "light"
     },
     "output_type": "display_data"
    }
   ],
   "source": [
    "graphics(revenue_cumul_a, revenue_cumul_b, 'date', 'aov')"
   ]
  },
  {
   "cell_type": "markdown",
   "metadata": {},
   "source": [
    "Средний чек становится равномерным во второй половине теста: установился для группы A и падает для группы B. \n",
    "\n",
    "На этом графике также виден какой-то крупный заказ в группе B. Для этой группы нужно больше данных, чтобы нивелировать влияние аномалии, прийти к реальному среднему чеку и установиться на его уровне."
   ]
  },
  {
   "cell_type": "markdown",
   "metadata": {},
   "source": [
    "- Построим график относительного изменения кумулятивного среднего чека группы B к группе A"
   ]
  },
  {
   "cell_type": "code",
   "execution_count": 23,
   "metadata": {},
   "outputs": [],
   "source": [
    "merged_revenue_cumul = revenue_cumul_a.merge(revenue_cumul_b, how = 'left', on = 'date', suffixes = ['_a', '_b'])"
   ]
  },
  {
   "cell_type": "code",
   "execution_count": 24,
   "metadata": {},
   "outputs": [],
   "source": [
    "#функция получает на вход датафрейм, \n",
    "#столбец с относительным изменением какого-то параметра со временем\n",
    "#и строку с названием этого параметра\n",
    "#возвращает график относительного изменения этого параметра по датам \n",
    "#и с пунктирной линией, показывающей нулевое изменение\n",
    "def change_plot(df, column, title):\n",
    "    plt.figure(figsize = (7, 5))\n",
    "    plt.plot(df['date'], df[column])\n",
    "    plt.xticks(rotation = 30)    \n",
    "    plt.xlabel('Дата', fontsize = 14)\n",
    "    plt.ylabel('Относительное изменение', fontsize = 14)\n",
    "    plt.title('Относительное изменение ' + title, fontsize = 16)\n",
    "    plt.axhline(y = 0, color = 'black', linestyle = '--') \n",
    "    plt.grid()\n",
    "    plt.show()"
   ]
  },
  {
   "cell_type": "code",
   "execution_count": 25,
   "metadata": {},
   "outputs": [
    {
     "data": {
      "image/png": "iVBORw0KGgoAAAANSUhEUgAAAfkAAAFuCAYAAACC1WEfAAAABHNCSVQICAgIfAhkiAAAAAlwSFlzAAALEgAACxIB0t1+/AAAADh0RVh0U29mdHdhcmUAbWF0cGxvdGxpYiB2ZXJzaW9uMy4xLjAsIGh0dHA6Ly9tYXRwbG90bGliLm9yZy+17YcXAAAgAElEQVR4nOzdd5wU5f3A8c93rxfgDo5ejo6iAt7RbaDRYNfEFhWDkWCN7ZfEklgSjUlMjJrYW4gVDSZW7HJoRKWJKEg5EI5+B1fgent+fzyzsCx7Ze+23/f9eu3rbmdmZ747OzPPPGWeR4wxKKWUUir2uMIdgFJKKaWCQxN5pZRSKkZpIq+UUkrFKE3klVJKqRilibxSSikVozSRV0oppWJUqxN5ETlJRN4Rkd0iUi0ia0XkzyKSGcwAlVJKKdU2rUrkReRW4D2gGpgJ/BB4DJgBLBaR/sEKUCmllFJtIy11hiMiU4GPgAeNMTd4zRsELAW+NsZMDVqUSimllPKfMabZF/AOsAtIbmL+rwEDTHDemxZeM5zlZgNbfKzvTme5eI9pnYGHgG1ADbAGuAHnJsVjue7AI8BmZ7nNwHNAkse6N3p9Zii2hMJ4TGvVd3CWPQ57E7QXqMCWeBzu43tNaWJdeR7LzHCmDW3hN9kIPO9jeh7wP69pI4D/AqVAFfAFMM3HZ0cDbwAlznKfAce04vho7T4dCiwEdju/zUbgXiDRx2+/AXB5rfNxZ5739+uOLVXa6qx3NTDLaxmf+9XjN/mB1/QfOfup0tlv/wYGtOU38NjGQI9pCcB3zvQp/m67id8hD5jt8T7FmbYe6AskAUXA/T4+694/h3icmwccmx7LvufMe955n+u8P9PHsrOBLUCcj215v2Z7ffYSYDlQ7rXcTI/v29w5Ottze17rznT2hffvstHj8w1O7P8AUtpyLAGCvU6tAWqB7djrWGevzzb1HaZ4LDMN+Bx7bpYBrwEjWjouPK5RHzifqwC+Bi7zPpaBnwP52HN3GTC1iXW15no3tInvtMVrudne07yuBZ7pQDxwC/Ycr8GmB/fhkTYBA5vZn56/9cXOfqjGpm/PAb1b2I/udc/wmp6H17mCH9clr2lXO8feRR7TTgLmOcdPJfAt8H94nFfNveJphojEOz/q68aY6iYWewP4M3A88CUwyWPeTOBU4GyPaeub26aPGFzA20AOcDvwjbPOv2F35K3OcpnYRKQrcDewAugBnAkkYne0L3+Hg/ZDq76DiJwKvO7Ed7Ez7ybgUxEZZYzZ7GN7V2NPILA3JEEjIn2A/2FPyGuwJ/nVwNsicpox5h1nuRzgU+Ar7IleCVwBfCgik40xS/3ctK99Wo09kdZjL1QjgD9gD+hbvJbtgq0ScsfXGbgIKPb6fp2d75eCvSh873zuURFJMsb8w8+4EZErgEeBfwK/Bzo5617g/KZ7/V2nDzcAw4K1bRFJwiYCg4FjjTFbnen/BC4TkVu8zufLgQXGmNUe08qBSSIy0hizyvn8UGxitse9kDFmqYgsdtbxukcMGcB5wL3GmAYfYf4Ie9ECexPqGf/RwL+wNzi/wh6/vYH/eCx2FfbmH+y14WGvdRb53DnWH7AJvS/zgLuwx+8U4HfY8+GmZtbX3HZucWJ7ExjprHu0iBxnjGn0WHY29kbWk3u/T8NeYz4GzgfSscfH/0RkjPv39UVEzgRexd60X45N0A4Dsr0WnYK9YfsN9lp5E/COiIw2xqxx1tWW693dzvIAt2EzE231PHA6Nr1ZCByK3Z8DgR97LftHbNrkabvzPWZh9/XL2N+nD3APMEFEcowx5e2Isc3XJRG5FHvtvNwY84LHrMHYG6t/YK+jY531dgdubjGgFu5cemLvXP7YzDLJzjKPNHE3trGJz82mFXdwwGn4vnt6CnswZjnvf49NMI5sJtYD4sHeADQ4O8+05jNe8/KBj7ymdcaeSA94TT/J+R5HN3UHSIBz8sBfgXrP9QFx2JzFMo9pH2Fzloley30HvNZCLH7tU2e9idgTdCX2BtL7t78PeMNj+tXYaiHv73cb9qAf5rWNJ53fwH0M+dyveOW+sBfPMuAZr+UGYXNi17fhN3BvY6Dzvi820XoQj9yaP9tu4nfIw55T8dgL8XYf+2Ww89tM95g2yonjAu9zE3sR/LvH9L9gE4wDvruzfxuAbI9p12KPvX5eMcxyttfPY9pGDiyF+KWzTFePaQPxyMk38TsO9DFvBgeWKOU4sT7o/RnvOJxpy4D3WjpHfRxLXbHXJ+/1Xewsd4bHNAPc3cxvuwRYx4G52kFAHfC3Zj4nzndaglfJmNdyG51jrL/HtE7Ym+rnPKb5c70b6Xwvz2NtNm3MyQPHOO8v8VruImf6mJaOE2d+HLATmO81/Wjnc9c2s5/c6eE1Ps49z+u4X9cl5/8LsOfLL1o4zwV7jv8GW+ra5O/qfoX9EToRifd8cXBjwGOBRuBFr+nPYxMLd677JGCxMearVm43BXgAeAKbgPgb9zBgCPCCV/yV2GK1Y70+kuL8bapExFOcsz5pPoSD9p338scCXxhj8t0TjM1VvQSMEZHOzn44DptravRa14c+vkdzAbVmny7FXvxWYU+av/pY5nHgZBEZ4Ly/Alv05W0atvToe6/98B7QDXuh8RTntVyc1/xJ2IuW92+6GVvc5r0vWvMbePsb9qLqfTfv77Z9icOeF2cAVxhj1nnONMZswO6byz0mX47N9Xrmkt0eBS4RkVSndOBSfP8Oc7BVCz/3Wu/bxpgtXsu25jzY4Py9WkQymvit/OacTw8D7+NVeuC1WLyIJDs56EOxF3FvLR1LE7HXp+e9ps/BXsyPa2XMadgbk5eNMfXu6caY77G58+bWMwKbY3/KHFhq4MsXxiMnbmyp0ds419c2XO/Snb+VLWwXZ/0tpQPTsDcic72We9+Z39rr1AhsCa9nThljzP+ATTSzP40xO4EdwAwR6d/MOe/XdUlEzsKWcr5pfOTyRaS3iDwuIpucfVCHLSHJcL5Ls5otrsfWn1Zj746a4p7nq6imJX2xATenK1BsjKn1mr7DYz7Ynfe1H9u+BXsg/gZ7UfSXe+c+7by8FXi97+b83d2KdbuLTeucH/YZ4E/uWz7Hhc7L22ce/3fFFsF724E9MDOxF5w47N3nbb6CERFXKy4S0Lp9eiH24ByHvXht8rHMBuwNxiwReQ8YgL3Ju8hruR7Yur+mjqFuXu9X+1zqwPXhbNuXEq/3rfkN9hGR44Fzsbm+eq/Z/m7bl/OwF9UVwK0i8pY5uKj8EeBNETkcW4x4MfCYj/MLY0yeiGzDfscaJ4aD4jPGVDtVAT8TkTuxCcNIbI7cWzfsTXtz3+e/2NKcm7EldIFyKXAkcAT22uPLJc7L7U3sjZm3lo4l93Vpu+dEY0y9iOz2mN+STOy5ut3HvB0cXOzuyX38e99o+bKziWnu/eTv9a6P89dX3N5akw70wN40VTQx3/tcb4rP38Wxg5Z/l8uwCbL3913g8b+/16WXsdUPpzrVBe7qXHd19RvY/Xkn9rirAs7CXmeTW4i3+UTeOSAXACeKSLLxXS/vvph/3NLGfCjE1nd7msWBOYJioKuIJHpdiHp5zAdbDNLUiXsAERmCbTB4jTGmuPkMc5PcifUt+L4we180h2EvlK054c52lkvB1kHdg81tPeWxzDvYNgqevOv0itm/nzz1whY7lWCLLhuxOZxnfQXTmgS+tfvUOPW7wEIR+S0wFxjvY9FHsd9nBLbIsMLHOndjj6Hrmghrjdd79351y+XAnKn7N52BrUrw5l0n3prfwC0B2+jqRWPMJyIy0Gu+v9v2pQabiyjF3tzdjK0X9jQPW5JwOfamuBO25KUpjwFXOut+3BhjmvhtHwVuxFbXnO1s4z0fyw0DNvm4+djHuZn9pbOPjsDeiPTi4DrWVnPaCPwJ+KsxZp2INHWteAtbDy/Ym8u7sfvsBK/lWjqW3NelXnj8nk6Orhte7UuaUYI9V5s6j5tbzy7nb2uuiz2bmOau7/f3encE9rryXSu23Zp0wJ3hPKaJdWxrxXbgwN/FWy9aKNU1xswT29ZpGPsTWO9z3t/r0oPYtg0fAP8SkbHGGHcbsiHYOvjpxph9pUIicnpzcXpqKScPtjj1A2xCc6PnDLGP0N0EfGKM+bK1G/VQZ4xZ4rXO07yWWYBtfHMuBxaxXIQ9sD533r8P/NZpKNJSjv5B7AXO1x1pa63BXsgOM8b8qbkFnRN7GrZIrKU7VoBvPYrYPxWRmdhcr6diH/tuLwf+pguA60VkoDFmo7NMHLbxzlfGmD3OtE+xDWKWtTLH7ktb9mkacHgT897G/r7nYC8YvrwL/AIoMMYUtmJ7nvsVEUn3mr8Qm5gONcb8qxXra81v4HYd9mLrnVi0ddu+/Md9Hort2+JeEXnbGLPcvYAxplFEHsfeABwDfGiMaa4x7L+wjZjisDecPhlj1ovI+9hzdQzwe+9jydnfU/Cd+B9ARC7E5laONsYs9nFT5K+7saUc97Sw3G6P33SxiPQDHhCRHl7HWEvH0hfY4/cCbJsXt/Oxx0dea4J2bm6XAueKyJ3umyMRyQYmc3C1j6e12GvUTBF5wqsk0NtEEenvLrIXkU7YhNfdaK7V1zvHqcDnxpjWlEC1Jh14F5vWdDHGfETbrcGWUFyAx7VKRCZjS0Xua2kFTgL8rcdnvW/A/bouGWN+7aznZ9iG5XdhM0wAqc7ffemGiCRwcKlmk1pM5I0xH4rIHcDvnBPtWezdZQ72QlEGTG/tBtvgHWxLxcdEpDv2rvgUbKv3Pxpj3Her92OLFT8UkbuxOysLm7O4wuxvmdwP6A+Mb+Ggb5aTo7kaeF1EEoFXsHfOPbEnX4Ex5m8iMp79rUpbWy0w2LkxSMY2PMwEFrchzPuxOcMPnN9wD7ZV8nAOvHO+EfgEeE9EnsYWZWVhf+M4Y0xLLThb3Kcicjm2Negy7MXvWOxjIK/7Wt4Y0yAipwDdjDHf+lrG+X7nY2+E7seewGnAIdjH/85sIW7vbe4RkV8BDzvH2jvY47svtq4uzxjj3Takta4AfmWM8Vl8GYRtP4hNJJ91cgaeOa2nsUV/ozm4VbJ3XGUiciy2gU9LVU2PYH/POrxu9kTkROAObC72weZW4uSUHgL+bIz5ooVtttYVwLnGmJbqiLuLyERsTr4/9nzZRvOt9Q/ilGbdB9wiIhXY0oBDsTcb/2N/4tkatznLvyUij2CrxH6HPT6aTJSca9T12PYWH4vIY873OBToYYy5w2PxncD7TnWLu3V9GjbB8ed61x1b8jMBuNvZl27dgUQRmejv7+pUHb2ErZP/G7AIW1IwEJse3GSMWduK9TSIyO3A4yLyPLbNRF9sidc6bNVoe7XpumSMKRCRG4AnReQNp53Ad9gqzT+ISAP23LrB1+eb1FLLPLO/Vd807B14CfYgWIdtbdu1mc/cSTtb15v9LTgfwiY+tdg7VF/PyffAFj26l9uMzYkkea37Ma/PzaANreud+ZOwRXwl2OKkjdjGNZOc+U9gE9BTfXw2D9+t692vKmwdzK+9PrcR/56Tfw17Qaim6efkD3XiLmR/tcIbwCktHBet2qfYBGcp+5+vXY2tb01r7rdvxffLxJ5U3zu/eSH2ccDrvWOh9c/JnwLMx94UVbL/5B/p72/gsY1vOfCYHojv5+Rb3HYz+2a217SBznr+5GP597CJ10H7mibOzVZ89zgn5n/7mDcPm8OZ3MT6Znu8fwdbKpTo9V3a3LoeeLelz3Dgc/KNzrH0Bh7PgftzLOH7OfmH8f2cfJOt651lvJ+Tf53WPyd/vHNMlTuvr4FLvX9PbMZpPfb8/wo43se6WrreufdPs6+WjjV8pwMubImY+/n2Muf/e7E5/GaPE6/1u5+Tr8EWr7f4nHwL516e17RWX5d8rO9N7JMMac77Mdgbw0rsdfn3zm/l85j3frXY451SKraI7VOiAPvYk8/Glm1c74nYarMfmPYVqaoQEpGN2BvTi1tathXrmoF93HlKE/P7AZuNMW1qCKX815o6eaVUDHCKUkdgc0MuAtQZk9PocjA257JME/gOrQinE58m1GAfL1MhEvbn5JVSIXMqtshwPPBT00T7gDa4DVvEXsOBj5+pDsYY87Yx5qpm5hcZYyY2NV8FnhbXK6WUUjFKc/JKKaVUjOoQdfJZWVlm4MCB7V5PRUUFaWlp7Q8oDKI5doju+DX28Inm+DX2wGkqnqVLl+4yxnQPQ0gh0yES+YEDB7JkyZKWF2xBXl4eU6ZMaX9AYRDNsUN0x6+xh080x6+xB05T8Tjdhsc0La5XSimlYpQm8koppVSM0kReKaWUilGayCullFIxShN5pZRSKkZpIq+UUkrFqIhL5EVkmoisEZF8ETloiFMRmSEiRSKy3HnNDEecSimlVKSLqOfkRSQOOxTjidgh9RY74+p6D3jwsjHmmpAHqJRSSkWRSMvJjwfyjTEbjDG12HGKzwxzTEoppVRUiqgBakTkHGCaMWam8346MMEz1+6MV/xH7JCGa4EbjDGbfaxrFjALoGfPnrlz5sxpd3zl5eWkp6e3ez3hEM2xQ3THr7GHTzTHr7EHTlPxTJ06dakxZmwYQgodY0zEvIBzgKc83k8HHvJaphuQ5Px/OfBxS+vNzc01gTB//vyArCccojl2Y6I7fo3dt7vfWmmmPfCJeX35VlPf0BiUbei+D49Ii72peIAlJgLSvmC+Iq24fivQ3+N9P2faPsaY3caYGuftU0BuiGJTSgXQou+L+W77Hq596StOun8Bry/fSkNj5JQsKhULIi2RXwwME5FBIpIIXAC84bmAiPT2eHsG8F0I41NKBUhxZS1njunDwxfmEOcSrpuzXBN7pQIsohJ5Y0w9cA3wHjbxfsUYs1JEfi8iZziLXSsiK0Xka+BaYEZ4olVKtUdJRR1d0xI5dVRv3r3uWB65KId4l0sTe6UCKKIeoQMwxswD5nlNu93j/1uAW0Idl1IqcGrrGymvqadraiIALpdwyhG9mXZYL95buYMHP1rHdXOW8+BH67j2+GGcProPcS4Jc9RKRZ+IyskrpTqG0spaADLTEg+Y7nIJJx/Rm3nXHsNjF+eQGOfi+peXc+L9C/jvV1sor6l3N8BVSrVCxOXklVKxr9idyKcm+pzvcgnTDu/NSSN78f6qHTzw4TpuePlr4GviXUJGagJdUhLISE0kIyWBLqkJZKQkkpGasG9et7Qk6rS4X3VwmsgrpUKupKIOgMy0hGaX80zsF6wtYl3hXkor6yitqqOsso7Sqlp27Klm9Y69lFXVUV5Tf8Dnh2a4yJ1QS9c03zcTSsU6TeSVUiFX0kJO3pvLJUw9pAdTD+nR7HJ1DY2UVdVRWlnHsoISbv3PCn786EJmXzqO7G5p7Y5bqWijdfJKqZArrrCJfKBz2AlxLrLSkxjaI53zxvbnpnHJlFTW8qNHFrJ8c2lAt6VUNNBEXikVcu6GdxmpzRfXt9ewzDhevXIyqUlxXPDE53y4amdQt6dUpNFEXikVcsUVdaQlxpEUHxf0bQ3pns5/rjyK4T07Meu5JTz3xaZ2rzO/cC8vLy6gvqExABEqFTxaJ6+UCrnSytqDHp8Lpu6dkpgzayK/ePErbnvtW7aVVvGrk0bg8vPZ+xVbSnlk/nreW7UDY+CDVTt56MIckhOCf7OiVFtoTl4pFXLFlaFv8Z6aGM/j03O5aMIAHs1bzw2vLKemvqHFzxlj+Hz9bqY//SVnPPQZC9fv4pqpQ/nNKYfy0epCLnl6EWVVdSH4Bkr5T3PySqmQK6moJaOVLesDKT7Oxd1nHU7fzBTufXcNO/dU8/j0sXRJObhtgDGGj74r5JG8fJYVlJKVnsTNJx/CRRMG0CnZLt87I5kbXl7O+Y9/zrM/G0+Pzsmh/kpKNUsTeaVUyJVU1jEoKzyPtIkIV00ZSp8uKfxq7tec8+hCZv9sPH0zUgCob2jk7W+282jeelbv2Eu/zBTuOutwzs3td1Cx/Gmj+tAlJYHLn1vKOY99znOXjddH9VRE0eJ6pVTIlVSEtk7el7OO7Mu/Lh3PjrJqzn74M74qKOHFLws4/r4FXDdnOQ2NhvvPH838X05h+sTsJuvdjxnWnRd/PpG91XX8+NHPWbmtLMTfRKmmaSKvlAqp2vpG9tbUt7ojnGCaPDSLuVdOJs4lnP3IQm797zdkpiXyxPRc3rv+WM4+sh8JcS1fJsf0z+DfV0wiIU644PEv+GLD7hBEr1TLNJFXSoVUaZXvwWnCZUSvTvz3qqOYMXkgL8ycwGtXTeakw3r53fJ+aI9OvHrlZHp0TuKSZxbx/sodQYpYqdbTRF4pFVL7+q0Pckc4/ujVJZk7zziMo4ZmIdL2IW37ZKTw7ysmc2jvzlzx/FJeWbI5gFEq5T9N5JVSIbWvS9sIKK4Phq5pibw4cwJHDc3i13NX8NiC9eEOSXVgmsgrpUKqqbHkY0laUjxP/3Qcp43qzZ/eWc09877DGB32VoWePkKnlAqplsaSjxWJ8S4evOBIMlMTeeKTDWzaXcEF4wcwaXA37SFPhYwm8kqpkCqpCM3gNJEgziX8/szD6Nk5iYfnr+e9lTtJincxeUg3O3TuiB7075oa7jBVDNNEXikVUiWVdnCajpKbFRGuOX4YM48ZzKLvi/l4dSHz1xQy//WVwEqG9khn6ojuTB3Rg7EDu5IYr7WoKnA0kVdKhVS4urQNt+SEOI4d3p1jh3fnTg7j+10VfLy6kLw1hfxr4Sae/PR70pPiOXpoFlMP6U5ardbhq/bTRF4pFVIlYRicJhINykrjsqMHcdnRg6ioqWfh+t37Ev13V+4gM0kYM66SfplanK/azq9yIRG5SkRWikiliAx2pt0sIucFJzylVKwprqyL6Zb1bZGWFM+JI3vyxx8dwcKbj+ffV0yipsEw/elF7CqvCXd4Koq1OpEXkeuB3wJPAJ69RWwFrglwXEqpGFVSURtRHeFEGhFh3MCu3JCbzPayKn76zCL2VutQtqpt/MnJXwH83BjzIFDvMX0ZcFhAo1JKxaySytqYf3wuEIZlxvHoRbms2bGXmf9aQnVdQ7hDUlHIn0Q+G/jWx/Q6ICUw4YCITBORNSKSLyI3N7Pcj0XEiMjYQG1bKRVcdQ2N7K2OjMFposHUQ3pw33mj+fL7Yn7x0lfUNzSGOyQVZfxJ5DcAOT6mnwKsCkQwIhIHPAycDIwEfiIiI30s1wm4DvgyENtVSoVGidMRTtc0La5vrTPH9OXO00fywaqd3Pyfb7TnPOUXf1rX/xV4SERSsXXyk0RkOvBr4GcBimc8kG+M2QAgInOAMzn4JuIu4M/ArwK0XaVUCJRWOoPTaMM7v8w4ahAllXU8+NE6MlMTuPWUQ9s1kI7qOMSfu0IR+Tm28V1/Z9I24A5jzNMBCUbkHGCaMWam8346MMEYc43HMjnAb4wxPxaRPOCXxpglPtY1C5gF0LNnz9w5c+a0O77y8nLS09PbvZ5wiObYIbrj19j3W13cwJ8WVfPrccmM7Bb8znBiad8bY3j+u1o+Kqjn3OEJnDo4cm+UIm2/NxXP1KlTlxpjYrvK1xjj9wvIAnq05bMtrPcc4CmP99OBhzzeu4A8YKDzPg8Y29J6c3NzTSDMnz8/IOsJh2iO3Zjojl9j32/eim0m+6a3zMqtZQFdb1Nibd83NDSaX7y4zGTf9JZ58ctNoQ+qlSJtvzcVD7DEBDgdi7RXmzrDMcbsatedRdO2sr+UAKCfM82tE3A4kOcUVfUC3hCRM4yP3LxSKrKUOMX12hlO27hcwl/PHc2e6jp+899v6JKSwClH9A53WCqCtTqRF5EVzc03xoxqfzgsBoaJyCBs4n4BcKHHNsqwpQjumPJoorheKRV53A3vOsLgNMGSGO/i0YtyufjpL7l+znI6Jydw9LCslj+oOiR/Wtcfin2M7gPgVR+vdjPG1GM71nkP+A54xRizUkR+LyJnBGIbSqnwKa6oJbUDDU4TLCmJcTzz03EMykpj1nNLWL65NNwhqQjlT3H94cBfsPXkvwMeM8YEvHcGY8w8YJ7XtNubWHZKoLevlAoe7QgncLqkJvDsZeM557GFXPrPRfz7ikkM7dEp3GGpCNPqnLwxZo0x5gzgPOBS4FsROT1okSmlYk5JRS2Z+ox8wPTsnMxzP5tAnMvFJU8vYntZVbhDUhHG74GLjTF5xj5y8Afsc/Mfi8iRgQ9NKRVrSirrNCcfYAOz0ph96Tj2VNfz02cWUVap/dyr/fwZoObvni9sxzUfAOOARcEKUCkVO7S4PjgO79uFJ6bnsnFXJTOfXaz93Kt9/MnJH+HjNQRYAvwv8KEppWJNcYWOJR8sk4dm8bfzR7NkUwnXaj/3ytHqhnfGmKnBDEQpFdt0cJrgO21UH3btreHON1dx2+sruefsw7X72w6uTZ3hKKWUv/b3W68N74JpxlGDKNxbwyN56+nRKYkbThwe7pBUGPnTGc58oMmO7o0xxwckIqVUTHJ3hKM5+eD71Q9HULi3hgc/Wkf3TklcPDE73CGpMPEnJ+85lvws4GWgLLDhKKViVUmFe5hZTeSDTUT444+OYHd5Dbe//i1Z6UlMO7xXuMNSYeDPc/K/cL+AWuBOr2kqRlTXNVC4pzoo6/56cym/fe0bPl+/OyjrV5FLu7QNrYQ4Fw9flMOofhlcO+crvtyg51xHpHXy6iD3vruGZz77nkmDu3HB+P788LBe7eqGtK6hkXe+3cHsz75nWYHtfnNHWQ2ThnQLVMgqChRX6OA0oZaaGM8zM8ZxzmMLmfnsEv59xSQO6dU53GGpEPK7MxwV+1ZsKaVX52S2lFZy3ZzlTLjnI+58YyWrtu3xaz27y2t4eH4+x/x5Pte+9BW7K2q5/bSRnHpEb5YVlLiHD1YdhNbJh0fXtESe/dl4UhPj+Okzi9haqr3idST+NLy70etzl4nIvvIfY8zfAhmYCg9jDPlF5ZxyRG/uPvNwvtiwmzmLN/PilwXMXriRUf26cP64/pwxug+dkn0Xu67atofZC7/nteXbqK1v5JhhWfzh7MOZOqIHLpeQnBDH299sZ+PuSgZlpYX4G6pwKamoJc2jL7wAACAASURBVCVBB6cJh36ZqfzrZ+M597HPueTpL5l7xWQytUSlQ/CnuN6z3n0HHkPAYlvdayIfA3ZX1FJaWcfQ7um4XMLkoVlMHppFSUUtry3fypxFm/nNf7/l7re+49RRvblgXH9yszNpaDR8+N1O/vnZRr78vpiUhDjOze3HjMkDGdbzwEEzcrMzAVi2qUQT+Q6kpLJOi+rD6JBenXnqkrFMf2YRP/vXYl6cOZGURL3hinX+dIYzKJiBqMiQX1gOwNAe6QdMz0xL5NKjBjFj8kC+3lLGy4sLeGP5NuYu3cKQ7mlU1zWytbSKvhkp3HrKIZw/dgBdmmhgNaxHOp2S4llaUMKPc/sF/TupyFBSWauN7sJswuBu/P2CMVz1wjJmPbeEJy8ZqyUrMa5NDe9EpCdQZIzRfhNjzLomEnk3EWFM/wzG9M/gt6eO5O0V25m7dAsJ8cJtp43kxJE9iXM138OWyyWMGZDBsk0lAY9fRS7t0jYyTDu8N/eeM5pfzf2ay59byuPTczWhj2H+1MknYEeeuxJIAYYDG0Tkz8AmY8wjwQlRhdL6wnLSEuPo3SW5xWXTkuI5b1x/zhvX3+/t5AzI5O8fr2NvdV2TdfsqtpRW1jKga2q4w1DAObn9aGhs5KZXv+GqF5bx6MU5JMVrQh+L/GldfwdwOnAxUOMxfREwI4AxqTDKLyxnSI/0oPd3nZudiTHw9WbtT6mjKK6oJVOL6yPG+eMGcM/ZR/Dx6kKufuErauu1YDYW+ZPI/wS4whjzOuB5NHyLzdWrGJBfWM7Q7r6L6gNpzIAMRGCpFtl3CPUNjeyprtcW3RHmwgkDuOvMw/jwu5384qVl1OnIdTHHn0S+D7DJx/R4tFOdmLC3uo4de6oZ0kR9fCB1Tk5geI9OLCvQRL4jKK3SjnAi1fRJA7nj9JG8t3In183RIWpjjT+J/ErgWB/TzwOWBiYcFU7riyqAphvdBVpOdibLCkpobNROcWKdu9/6DO0IJyJdetQgfnvqocz7Zgc3vPK1JvQxxJ8c+O+A50WkPxAHnCsih2Cflz81GMGp0Grq8blgyRmQwUuLClhfVH7Qs/QqthS7B6fRRD5izTxmMI3GcM+81cQJ3HfemBaflFGRz5/n5N8UkfOAW7F18ncAy4DTjTEfBik+FUL5heUkxAnZIWoB7e4UZ+mmEk3kY1yJjiUfFWYdO4T6RsO9767B5RL+cs5oTeijnF916caY94D3ghSLCrP8wnIGdksjPi40QxoMykojMzWBpZtKuGD8gJBsU4WH9lsfPa6aMpSGBsN9H6wl3iX86UejcGlCH7W0wZzaZ31ROYf0Cl2OWkTIGZCpje86AHdxvSby0eEXJwyjvtHw4EfriHMJfzjrCE3oo5Q/neE0Yvuo98kYoz0pRLGa+gY27a7gtFG9Q7rdnOxMPlpdSGllrTbKimGllXZwGu0rPXpc/4NhNDQaHpqfT5xLuOvMw4Pef4YKPH9y8udhE3kBngV+hR2oRsWAjbsqaTSha3TnljPA1st/VVDK1EN6hHTbKnSKK+q0I5woIyL830nDqW80PLZgPb27pHD11KHhDkv5qdWVr8aYucaYV40xc4EG4B3n/avGmFcDFZCITBORNSKSLyI3+5h/hYh8IyLLReR/IjIyUNvuyNwt64eEoCMcT6P7dyHOJdopTowrrazVjnCikIhw07QRnDG6D/e9v4bP8neFOyTlp9C0sGolEYkDHgZOBkYCP/GRiL9ojDnCGDMGuBcd4jYg8gvLEQl9Ip+aGM+hvbVTnFhXXFmr9fFRSkT444+OYHD3dK596St2lFWHOyTlh/Yk8sHowWQ8kG+M2WCMqQXmAGcesFFj9ni8TQtSHB1OflE5fTNSwlJnmjsgk+WbS7UDjhhWUqE5+WiWlhTPYxfnUFXXwNUvave30USMaV0aKSJveLw9GVgAVLonGGPOaHcwIucA04wxM53304EJxphrvJa7GrgRSASON8as87GuWcAsgJ49e+bOmTOnveFRXl5Oenpoc7qB0lLst31WRWaScOPYlkefC7TPt9Xz+Ioafjc5mezOvm8yYnnfR7JAxX71RxVM7B3P9JFJAYiq9XTfB9aX2+t59OsaTsqO58JDm/4tIy32puKZOnXqUmPM2DCEFDL+NLzb7fH/84EOxB/GmIeBh0XkQuC3wE99LPME8ATA2LFjzZQpU9q93by8PAKxnnBoLvaGRkPhh+/yw9EDmDIl9E0chhRX8viK+bi6D2HKpIE+l4nVfR/pAhF7fUMjFe++w+HDBjFlSmjHsuro+z7QpgBVaSuZvXAjZx41ilObeBon0mKPtHhCyZ8e7y4NZiCOrYDn4OT9nGlNmQM8GtSIOoCtJVXU1DeGvGW9W7/MFLp3SmLpphKmN5HIq+ilg9PElltPOZQVW0r59dyvOaR3p5C341H+8btOXkTGisj5IpLmvE8TkUB1qrMYGCYig0QkEbgA8KwmQESGebw9FTioqF75J79oLxD6x+fcRITcAZksKygNy/ZVcJW6e7vTRD4mJMa7ePiiHJIS4rjy+aVU1taHOyTVjFYn8iLSU0S+ABYBLwI9nVl/A+4LRDDGmHrgGmzXud8BrxhjVorI70XEXed/jYisFJHl2Hr5g4rqlX9CPTCNLznZGRQUV1K0tyZsMajgKK5w+q3X5+RjRu8uKfz9giNZV1jOrf/5hta27VKh508O/H5gJ9ANKPCY/m/gH4EKyBgzD5jnNe12j/+vC9S2lJVfWE5WelJYe5xzD1azrKCEHx7WK2xxqMDTLm1j09HDsrjxB8O574O15A7syvSJ2eEOSfngT3H9CcBvjDHeDzSvB3R0kSiWX1jO0B5pYY3hsD5dSIgTlmmnODHHXVyvdfKx5+qpQ5k6ojt3vbmK5Zu1ui0S+ZPIpwC1PqZ3B7R3hChljHES+fA2nklOiOPwvl20U5wYVKwj0MUsl0u4//wxdO+UxNUvLKOkwlcSocLJn0T+E2CGx3vj9FB3E/BRIINSoVNUXsOe6nqGRkAL2ZwBmXy9pYzaeu1oI5aUVNSSnODSwWliVEZqIo9enEPR3hquf3k5jY1aPx9J/Enkfw38XEQ+AJKwje1WAUcBtwQhNhUC+xvdhW6I2abkZmdSW9/Iqu17Wl5YRY2SyjrNxce4Uf0yuOOMkSxYW8Q/Ps4PdzjKgz8D1KwCjgAWAu8DydhGd0caY9YHJzwVbOsjoGW9m7vxnQ5WE1tKKrTf+o7gwvED+NGRfXngo7V8u0sfq4sUfj3fbozZAdwRpFhUGOQXlpOeFE/PzqHtbtSXnp2T6ZuRwrKCEi5jULjDUQFSUlmrje46ABHhD2cfwarte3joq718sutzenZJplfnJHp2TqZn52R6dUmmZ6dkenROIjlBq29CodWJvIjkNDffGLOs/eGoUFtXWM6QHumISLhDASAnO5MlG4vDHYYKoJLKOvpkpIQ7DBUCKYlxPHnJWG56/lPqgRVbSnm/rJoaH+1sMlMT9iX+PTsnkZVuX93SE+menkRWJ/s+IyUBlysyrk/RyJ+c/BL2j/jmvccNoLdlUSi/sJxjhnUPdxj75AzI4M2vt7GttEoThhhRXKE5+Y6kf9dUZo1KYsqUSYB9gqesqo6de2rYsaeanWXV7NxTbf93/n63fQ+7K2pp8NFoL94ldE1LtDcBnZLISk9kWI9OXDllSKi/WlTyJ5H/Hjvq25PAy+hjc1FvT3UdhXtrIqI+3s2zUxxN5KNffUMje6q14V1HJiJkpCaSkZrIiF5NN/BtbDSUVtWxu7yGovIadpXXsmtvDbvKa9hdXsuucvv/+sJytpZUaSLfSv4MUDNERE4ELgeuwg4O87gx5rtgBaeCKxK6s/V2aO/OJCe4WLqphNNG9Ql3OKqdyqrqMEa7tFUtczk59q5piQzrGf6nfWKFXwPUGGM+MMacA4wBCoHPReTyoESmgi4SE/mEOBej+mXoYDUxokQHp1EqrNoyCl0n4GzgfGAbsDrQQanQWF9YTmKci/6ZkVUsnjMgk5Vby6iuawh3KKqdSip1mFmlwsmfUejGiciT2Lr5o4BrjDEjjTELghadCqr8wnIGZaURH+f3vV5Q5WZnUt9o+GZrWbhDUe2kg9MoFV7+NLz7EtgCPAHsAsaJyDj3TGPM3wIcmwqy/KJyDu/TJdxhHOTIARmA7RRn3MCuYY5GtYe7L3MtrlcqPPxJ5Auwj8r9xMc8gx1XXoXA7vIaXl22hUsmDWxzhxLVdQ1sLq7kzDF9Axxd+2WlJzGwW6qOSBcD3MX12vBOqfDwp3X9wCDGoVqptr6RK55fyuKNJXRKTuAn49s2yu/3uypoNJHV6M5TTnYmn6wtwhgTMR31KP+VVNaSFO8iRXs3UyosIqsyVjXLGMPtr3/L4o0ldE6O579fbW3zuva1rI+A0ed8yRmQya7yWjYXV4U7FNUO7o5w9EZNqfDwp+Fdlog8JSL/FJGuIvIXESkTkfkiog80h8DshRuZs3gz10wdysxjBrPo+2K2lrYtEcwvLEcEBndPC3CUgbFvsJoC7eI2mpVW1pKhje6UCht/cvKPAKOB3sB/gQnAdOyws38OfGjK06frirjrrVWcOLInN544nLOcuvQ3lm9r0/ryi8rpn5kasYNEDO/ZifSkeB2RLsrZnLzWxysVLv40vDseOAnIB0qAKcaYT0WkGHglGMEp6/tdFVz9wjKG9ejE/eePweUSBnRLJWdABq8v39qm7h3XF5ZHbH08QJxLGNM/g2WbtFOcaFaqg9MoFVb+5OTTgEJjzB6gEnBXCG8CMgMdmLL2VNcx81+LiXMJT/10LOlJ++/LzjqyL6t37GX1jj1+rbOh0bBhV0VEJ/JgB6tZvWMP5TU6NnW0Kq7UseSVCid/EvmtQLbz/8nsT+R7ATsDGZSyGhoN1770FZt2V/Loxbn075p6wPxTj+hNnEt47Sv/iuw3F1dSW98YsY3u3HKyM2k0sGKz5uajUUOjHX1Mn5FXKnz8SeR/C+wFMMb8zxhT40wfCjwX6MAU/Pnd1eStKeJ3Zx7GxMHdDprfLT2JY4dl8cbyrTT6GKKxKe6W9UMiPCd/ZH+n8Z3Wy0cl9+A0XfUZeaXCptWJvDFmjjFmhY/pLxljbgtsWGru0i088ckGLpmUzUUTsptc7qwj+7KtrJpFG1vfCj2/KPIGpvGlS2oCw3qks6xAE/loVKy93SkVdv48Qte1uVcwg+xolhWUcOt/vmHS4G7cdtrIZpc9cWRPUhPjeH1565+Zzy8sp3unJLqkRH4OK2dAJssKSmk0rS+pUJFh3wh0WievVNj4U1y/Cyjy8XJPDwgRmSYia0QkX0Ru9jH/RhFZJSIrROQjEWk6mxuFtpdVMevZpfTOSOaRi3JIaGHwmNTEeH54WC/eXrGdmvrWjdqWX1ge8fXxbrnZmZRV1bGjQhP5aFOig9MoFXb+JPIbgArgNuzjdO7XVOdvu4lIHPAwtmHfSOAnIuKdlf0KGGuMGQXMBe4NxLYjQVVtAz9/dgnVdQ08dcnYVhdznjmmD3uq68lb0/K9ljEm4h+f85TjdIqzrlSHnY02+8eSj/wSI6VilT+J/KHAncCNwDVAgTFmgfsVoHjGA/nGmA3GmFpgDnCm5wLGmPnGmErn7RdAvwBtO6yMMfxq7tes3LaHBy8Yw7CenVr92aOHZpGVntiqIvvCvTXsramPmkR+cFYaGakJrC9tDHcoyk/FFTqWvFLhJsbPuk6n/v024DLgSeAuY0xAnnESkXOAacaYmc776cAEY8w1TSz/ELDDGHO3j3mzgFkAPXv2zJ0zZ0674ysvLyc9PTiJ4xvra/nPujrOHZ7AqYP9vyg+v6qGvC31/H1qKqkJB/cT7o591e4G7l1cza/HJTOyW2T2duft/qXV7Cyv50/HRceNibdgHjfB1p7YX15Tyweb6njyxNSw9V3fUfd9uEVa7E3FM3Xq1KXGmLFhCCl0jDFtegGDsT3d7QKub+t6vNZ5DvCUx/vpwENNLHsxNief1NJ6c3NzTSDMnz8/IOvxVrC7wgy8+S1z7UvLTGNjY5vWsWxTscm+6S3z8qICn/Pdsc/+7HuTfdNbZkdZVVvDDbmHPl5nsm96y5RU1IQ7lDYJ1nETCu2J/ZevLDcT/vBh4IJpg46678Mt0mJvKh5giQlA2hXJL39a13/jNHZbISIrgNewRfjJwH0BuufYCvT3eN+P/Z3ueMbyA+A3wBlm//P6UWv+mkKMgetOGNbmHM+Y/hlkd0vltRaK7PMLy+mUFE+PTklt2k445Ayw9fJfFWinONGkpLJWH59TKsz86bt+btCi2G8xMExEBmET9wuACz0XEJEjgcexxfqFIYgp6PLWFDGgayqDsto+IpyIcNaYvvz943XsKKumV5dkn8vlF5YzpEd6VA39Obp/F1wCSzYVM/WQHuEOR7VSSWUdmdoRjlJh1epE3hjzu2AG4myjXkSuAd4D4oBnjDErReT32GKVN4C/AOnAv52EqsAYc0awYwuW6roGPl+/m3PH9mt3wnvWkX158KN1vPn1Nn5+7GCfy+QXlXPc8O7t2k6opSbGk93JpT3fRZmSiloO7dM53GEo1aH5k5MPCWPMPGCe17TbPf7/QciDCqLFG4upqmtgyoj2J7yDstIY3a8Lry3f6jORL6uso2hvTdS0rPc0NNPF/zaXUdfQ2GLfASoylFTW0lWfkVcqrPRqGWZ5a4pIjHP57Ju+Lc4c05eV2/aQX7j3oHn5RXZatHSE42loRhxVdQ2s3n7w91KRp6HRUFqlxfVKhZsm8mG2YG0REwZ3JTUxMIUqp43ujUvwOTKde2CaqMzJZ9hDdemm1vfRr8LHPTiNNrxTKrw0kQ+jLSWV5BcGto68R6dkjhqaxWvLt7ofNdwnv7CcxHjXQUPWRoNuKS56d0lmqbawjwru3u60IxylwksT+TByd0MbiPp4T2cf2ZctJVUHNVTLLyxncFYaca7oaVnvKSc7k6V+jLanwsfdb32G1skrFVZ+JfIicpWIrBSRShEZ7Ey7WUTOC054sW3B2iL6ZqQwJMB15Ccd1ovkBNdBz8znF5VH/BjyzckdkMm2smq2lVaFOxTVAvcws9rwTqnw8qcznOuB3wJPAJ5Zwa3YvuyVH2rrG1mYv4spI7oH/Jn19KR4ThxpR6ara7B9vtc2GLaUVEVlozu3sQNtpzg6vnzkK620/dZnaMM7pcLKn5z8FcDPjTEPAvUe05cBhwU0qg5gycZiKmobgvbM+llj+lBSWccna22VwPaKRoyBYT2jN5E/tHdnkhP0efloUKx18kpFBH8S+WzgWx/T64CUwITTcSxYW0RCnDB5aFZQ1n/s8O5kpibw2nLbyn57uW2EF40t690S4lyM7pfBMk3kI15JRS2J8S5SE6NjECSlYpW/48nn+Jh+CrAqMOF0HHlrihg3sCvpScHpjyghzsWpo3rzwaodlNfUs62iEZfQrq5zI0FudiYrt+2hqlbHl49kJZW1ZKYmRFX3yUrFIn8S+b8CD4nIRdg6+UkicgfwB2xXs6qVtpVWsWbn3qB3L3vWmL5U1zXy3rc72FbeyICuqSTFR3fOKjc7k/pGw4ot+ihdJCuuqCNTG90pFXb+9F3/TxGJB+4BUoHngG3AtcaYl4MUX0xy15NPGRHcwVZyszPpl5nCa8u3sr2ikUP7R29RvZt7RLolm0qYEKBeAlXglVTWan28UhHAr0fojDFPGmOygR5AL2NMP2PM08EJLXblrSmid5dkhge5EZx7ZLrP8nexo8JE9eNzbplpiQzpnqb18hHOFtdrIq9UuPndGY7zfPxEYJwzJKzyQ11DI5/l7+K44YF/dM6Xs47sQ6OBBhOdfdb7kpudydKCkoN69FORo6Silsw0fXxOqXDz5zn5ziLybyAfeA14HcgXkVdEpFOwAow1SzeVsLemPuC93DVlaI9OHOYM9xnNLes95WZnUlpZx4ZdFeEORfnQ0Ggoq6rTjnCUigD+5OQfBEYBU7GPzKUAJzjTHgh8aLFpwdoi4l3Be3TOl5+MH0BKPAzrGRv3YrnZtl5en5ePTHuq6mg02qWtUpHAn0T+DGCmMWaBMabOeeUBs4CzghJdDMpbU0ROdiadk0NXlHnRhAHcPyU1aI/rhdrgrHS6pCRovXyE0o5wlIoc/iTyKcBuH9OLgeTAhBPbdu6p5rvte0JWVO8mIiTHx87zyi6XkDMggyWayEek0kr34DRaJ69UuPmTyH8G3CUi+8YpFZE04HfAwkAHFosWuB+dGx7cR+c6grEDu5JfWL4vQVGRo7jC9luvOXmlws+f8tsbgPeArSKywpl2BFAJ/DDQgcWiBWuK6NEpiUN7x0bdeDi5n5f/qqCUqYfoTVMkcQ8zq4/QKRV+rc7JG2O+BYYBvwaWOK9fA8OMMSuDE17sqG9o5NN1RSF7dC7Wje7fhTiXaOO7CFTilK5kak5eqbDzqyWWMaYSeDJIscS05ZtL2VNdH/Re7jqK1MR4RvburIl8BCqurCUxzkWaDk6jVNi1OpEXkUuam2+Mebb94cSuvDVFxLmEo4eF7tG5WJebncnLizdT39BIfJzf/TqpIHF3hKMlVkqFnz85+Yc9/k8FqgB3l2MG0ES+GXlrCzmyfwZdUrTFcaDkZGcye+FGvtu+lyP6dQl3OMpRUqmD0ygVKfypk+/kfmEb243ymNY5eCFGv6K9NXy7NfSPzsW6sfs6xSkOcyTKU0mF9luvVKTQMs4QCNWocx1Nn4wUendJZmmBDjsbSXQEOqUihybyIZC3tois9ERG9tYCj0DLyc7Unu8iTEllnXaEo1SE8GeAmq7uF7YOPsNrWkCIyDQRWSMi+SJys4/5x4rIMhGpF5FzArXdYGloNHy6rohjh3fH5dKGSIGWOyCTraVVbC+rCncoCmhsNJRqTl6piOFPTn4XUOS80oHFzv/u6e0mInHYBn4nAyOBn4jISK/FCoAZwIuB2Gawfb2llNLKOi2qDxL3YDXLNmmRfSTYU62D0ygVSfxpXT81aFHsNx7IN8ZsABCROcCZwCr3AsaYjc68xhDE0255a4pwCRwTwlHnOpKRfTqTnOBiyaZiTh3VO9zhdHjFFe7BabS4XqlIIMaYlpcKEaf4fZoxZqbzfjowwRhzjY9lZwNvGWPmNrGuWdgR8ujZs2funDlz2h1feXk56en+jcn++8+rEOC2SSnt3n57tCX2SNJc/H/8soraRrgjzPu4KdG87/2NfV1JA3/4spobc5MY1T38ox52pH0fSSIt9qbimTp16lJjzNgwhBQybT4LReRS4EjgG+ApE0l3C4Ax5gngCYCxY8eaKVOmtHudeXl5+LOe3eU1fP/eh1x/wnCmTBnW7u23h7+xR5rm4l9UvZonPtnAhMnHkBKBvaxF8773N/b6VTvhyyUcN3Eso/tnBC+wVupI+z6SRFrskRZPKLWpdb2I3IGtOz8c+AvwxwDFsxXo7/G+nzMtKn26bhfGwHH6fHxQ5WZnUt9oWLFF6+XDTceSVyqytPURuguAS40xxwOnAxcGKJ7FwDARGSQiic523gjQukNuwdoiuqYlMqqv9sYWTEc6I9ItLdBH6cJt3wh0msgrFRHamsj3BpY6/y9x3rebMaYeuAY7pO13wCvGmJUi8nsROQNARMaJyBbgXOBxEYnIEfAaGw2frC3i2GFZ+uhckHVNS2Rw9zR9Xj4ClFTWkRAnOjiNUhGirXXycUCD838jAexUxxgzD5jnNe12j/8XY4vxI9o3W8vYXVGrRfUhkjsgkw+/24kxRgdGCSN3l7b6GygVGfzpDOcbEVkhIiuAFOAd5/8lQYsuii1YW4QIHDtME/lQGDswk5LKOjbsqgh3KB1asXaEo1RE8Scn7/mo2quBDiTW5K0pZFTfLnRLTwp3KB1C7r7BakoY0j1yHt3paEora7VLW6UiSKsTeWPM74IZSCxpaDR8s7WMnx01KNyhdBiDs9LpkpLAsk0lnDe2f8sfUEFRXFHLiF6dwh2GUsrR6kS+pf7pjTE63qdjV3kNdQ2Gfl1Twx1Kh+FyCTkDMliqje/CqrSyTru0VSqC+FNcvws7MI03caZrc1rH1lI7WEqfLslhjqRjyc3OZP6aIsoq6+iiRcYh19ho7DCzmsgrFTH8bV1/DqA59hZsL60G7HjnKnRy3IPVbC5hqg4IFHLuwWn0GXmlIoe/ifxnxpjCoEQSQ7bty8lrIh9KY/pnEOcSlm7URD4cSirrAMjUUhSlIoa/ifwoEdkJVADbjTE6iLcP28qqSEuMo3NK+Afo6EhSE+MZ2buz1suHSbH2dqdUxPG3E5v3gK+BdcBeEflORH4Z+LCi27bSKnpnpGiHIGGQm53J8s2l1DdExUjEMcXdpa3WySsVOfxJ5AcBQ4ARwATgR8B/gd+JyK+CEFvU2l5WrfXxYZKTnUlVXQN/mPfdvkRHhUaJMzhNpibySkUMf56T3+Rj8hsisgb4DXY0OoXNyY/s3TncYXRIPzysJz/K6cvshRuZu2QLM48ZzM+OHkinZK0nDrZ9iXya7mulIkUg+px/CbgoAOuJCdV1Dewqr9WcfJgkxcfxt/PG8O51xzJ5aDfu/3Atx947nyc+WU91XUPLK1Bt0tBoWLVtDwlxQnqStkVRKlL4lciLSLKInCMiN4lIhjO5P7A+8KFFpx1l9vG53vqMfFiN6NWJx6eP5Y1rjuKIfhncM281x947n+e+2ERtvdbXB9KqbXv48aMLeW35Nk4b1UfboigVQfzp8W4o8AHQCcgA/g2UAlc672cGI8Bos63MPnDQV3PyEWFUvwye/dl4vtywm7++v4bbXvuWxxes5/ofDOfsI/sSp8MAt1llbT0PfriOp/73PRkpCTx4wRjOGN0n3GEppTz4k5N/AJvI9wQ8H517A5gayKCi2TanI5zemshHlAmDdba9JwAAIABJREFUu/HK5ZOYfek4MlIT+OW/v+aHD3zCvG+209joqyNH1Zy8NYWcdP8nPP7JBs7N7cdH/3ccZ47pq7l4pSKMP5Vnk4GJxpgGrxO5ANDbd8d2pyMcLa6PPCLClBE9OG54d979dgf3fbCWq15YxpEDMnhx5kRSErVn5pYU7q3m92+u4q0V2xnSPY2XZ01kwuBu4Q5LKdUEf1vI+Go2OwAoC0AsMWFbWRVZ6YkkJ2iCEalEhJOP6M1Jh/XixUUF3Pbat7y4qIDLjtZRA5vS2GiYs3gzf3rnO6rrGrnxxOFcftxgkuL1OFcqkvlTXP8+cKPHeyMinYHfAW8HNKootq20mt7anW1UiHMJ0ydmM3FwVx5boK3vm7J2517Oe/xzbv3vNxzWpwvvXn8M154wTBN4paKAPzn5G4H5znPxycDLwFBgJ3BeEGKLSttKqxjcPS3cYSg/XHvCMC588kteXryZn04eGO5wwsIYQ3VdI+U19ZTX1FPh/J27tpZ33/+UTsnx/PXc0fw4R+vdlYom/nSGs01ExgA/AXKwpQBPAC9oH/aWMYZtpVUcNTQr3KEoP0wa3I3xA7vyaN56LhjfP2ZzqPmFe/nHx/nsLq9lr5OQV3gk6k21P/xxTj9+c+qhdNU+6ZWKOv48QncssNAY8wzwTPBCil57quupqG3Qx+eijIhw7QnDuPjpL3llyRamT8wOd0gBZYxh7tIt3P76ShLihGE9O9ElJYG+GcmkJcaTlhRPepL7bxxpSfunFaxewU9OGx3ur6CUaiN/iuvnA70BHWq2CdudZ+R7Z2jL+mhz1NBu5AzI4NH5+Zw/tj+J8YHoDDL8Kmrque21b/nPV1uZNLgbD1wwhp6dW3981m2Jjf2gVEflzxmsFXEt2DeOvObko447N7+trJpXl20JdzgBsXJbGaf/43+8tnwrN/xgOM/PnOBXAq+Uin7+PkLXT0R8XiWMMQUBiCequTvC6aOt66PSccO7M7p/Bg/Pz+ec3H4kxEVnLtYYw/NfbOKut78jMzWBF38+kYn6LLtSHZK/V7HFwPder43O3w5vW2kV8S6he6ekcIei2kBEuO6EoWwpqeK/y7aGO5w2Kauq46oXlnHb6yuZPKQb8649RhN4pTowfxP5CcBgr9cg529AiMg0EVkjIvkicrOP+Uki8rIz/0sRGRiobbfXttIqenZO1v7Qo9jUET04vG9nHpqfT31DdA1ks3xzKaf+/VM+WLWTW085hGd+Oo5u6XrDqVRH5k8ib4ACY8wmX69ABCMiccDDwMnASOAnIjLSa7HLgBJjzFDgfuDPgdh2IGwrq9aW9VFORLj2+GEUFFfy+vJt4Q6nVRobDU9+soFzHl2IMfDKFZOYdewQXHqzqVSH50+dfCiuGOOBfGPMBgARmQOcCazyWOZM4E7n/7nAQyIixpgmRxlZs2YNU6ZMOWDaeeedx1VXXUVlZSWnnHLKQZ+ZMWMGM2bMYNeuXZxzzjkAlJaWkpFhR9i98sorOf/889m8eTPTp08H4KuCUjolxzNlTjr/93//x+mnn86aNWu4/PLLD1r/b3/7W37wgx+wfPlyrr/++oPm33PPPUyePJmFCxdy6623HjT/gQceYMyYMXz44YfcfffdB81//PHHGTFiBG+++Sb33XffAbEDPPfcc/Tv35+XX36ZRx999KDPz507l6ysLGbPns3s2bMPmj9v3jxSU1N55JFHeOWVVw6an5eXB8Bf//pX3nrrrQPmpaSk8M477wBw11138dFHHx0wv1u3brz66qsA3HLLLXz++ecHxN+vXz+ef/55AK6//nqWL19+wOeHDx/OE088AcCsWbNYu3btAfPHjBnDAw88AMDFF1/Mli0HNrSbOHEih/Y+lYfm5/PCH66luLj4gPknnHACt912GwAnn3wyVVUHdhNx2mmn8ctf/hKAKVOmHLTv23LsefI89n5y4cXkF5VTWllL17REpHs6Ww/7JTkDAnPsXX/99QfEDv4fe95Ceew9//zzB8TflmPPU7CPvUmTJvHHP/4RgNtvvx2X68B8mL/HnrdAHnvu654n93WvoKDA5/ZDfd1zc5+DLR17scifRH4QUBSsQBx9gc0e77dgqwh8LmOMqReRMqAbsMtzIRGZBcwCSEhIoLS09ICVrF27lry8PKqrqw+aB7B69Wry8vIoKyvbN7+hoWHf/ytXriQvL4/CwsL/b+/u46Qq6/+Pvz67ywIutwLiLiioIN5LgliZBuJdatKN6bfSRFMrbyotf1Zm+bObr9+vpqVmpVZqZmZlSd4lIt7hLZqAGnIjyM0uIDe7gOwCu/v5/nHOLOOyu+ywM3POmXk/H4/z2Jlzzsy8d/baueZc5zrX1bJuS2MT3ujU1tYyZ84cevfuzZIlS9p8/lmzZlFWVsaCBQva3P7aa6+xZcsW3njjjTa3z5w5k9raWmbNmtXm9pdeeomamhrmzJlDbW3tB7IDvPDCCyxcuJA333yzzcfPmDGDvn37Mnfu3Da3P/PMM/To0YN58+a1uT31Qbtw4cLtttfX17dsX7Ro0Xbbm5ubW7an3r/0/N26dWvZvmzZsu0eX11d3bK9urp6u+3Lli1r2b5y5crtti9dupSJozdzy+ubeW/Ze5Rt2fCB7YsWLWp5/Nq1a9m8efMHti9cuLBle1vv/c6UvXSpsrd4+UpmLV1HY7MzuKKE/t2b2Li+Lqtlr3V2yLzstZbPstc6/86UvXS5LntLlixp2d7Y2MimTZs+sD3Tstdatspe+udeulTZ27RpUyw+91JS5WBHZa8guXunFoJR7tpdOvs8O3iN04A70u6fBdzSap83gKFp9xcCAzt63jFjxng2TJ8+vd1tK+rqfdgVD/ndzy/KymtlW0fZkyDf+Zuamv34G572Y66f7o1NzV16rlxlv/5fc33YFQ/5K4vW5OT53VVuoqTs2dNeHmCmZ6HuivOSyZH8TILz8rB9070D2RgLdDmwR9r9oeG6tvZZZmZlQF9gTRZeu0t0jXxhKSkxLpk4govv/TePzKnhk4fGazblte9v4XfPLeLkgysZO3zXqOOISExl0vHuOeB94Cq29apPLdnqXf8KMNLM9jKzcuC/gCmt9pkCnB3ePg14MvxGFqmWa+RVyReMkw6qZORuvbj5yfk0tzewe0R+8/RC6rc2celxI6OOIiIx1ulK3t2PBiYTVLD3EzSZZ7V3vbs3AhcD/wL+A9zv7m+a2TVmdmq422+BAWa2gGBmvO0us4tCakhbDYRTOEpKjIuPGcG8lRt57M0VUcdpsWpDA3e9sJhJo4cwYrfeUccRkRjL6Dp5d38AOBD4I/APM3vAzEZkM5C7P+Lu+7r7Pu7+k3DdD9x9Sni7wd0/5+4j3H2chz3xo7a8tp6K8lL69Mx0EEGJs1MOqWLvgRXcNC0+R/O3Tl/I1ibnGxN1FC8iHct43E53b3T3XxDMJb8AeNXMfp71ZAlTU9tAZb+emmu7wJSGR/NzV2xg6n9WRh2H6tp67n1pCacdNpThAyuijiMiMdfpSt7MNpjZ+tRCcBnbV4GewCW5CpgU1XX1Oh9foE49tIrhA3bhpmnzibr7xy3TF+A4l0zMagOaiBSoTNqWL2Fb73pppbq2gQMq+0QdQ3KgrLSEiyaM4PK/zmbaf1Zx7AGDI8mxdO0m7n9lKZ8ftydD++8SSQYRSZZOV/LufmcOcyTa5sYmVm/crCP5AvapDw3hpifnc9OT85m4/26RnJb5xbT5LacPREQ6I5Pm+s+Z2aQ21k8ys+3HPywiK+qCy+cq+2qu7kLVrbSEi8aPYPayOp56O9cDP27vnfc28sBryzjzw8M0J7yIdFomHe+uBhraWP8+28aSL0rLw4FwNDlNYfvMYUMZ0q8nNz85P++v/fMn5tO9rJSvjd8n768tIsmVSSW/N/B2G+sXkMWpZpOoJhwIp1KVfEErLyvhnCOH89qSWhas2pi31317xQb+ObuayUcOZ6CmjhWRDGRSya8D2rowd19gQxvri0ZqSFs11xe+Tx5ahRlMmZW/aWhvnDqPivIyLjiqqL9Li8hOyKSSfxC40cz2Ta0ws1HADcA/sh0sSarrGhhQUU6PbtkYvl/ibHCfHnxk7wFMeX15Xi6ne2N5HY+9uYIvf2wv+leU5/z1RKSwZFLJXwHUAW+Z2VIzWwq8CawHLs9FuKSortU18sVk0ugqFq/ZxOxldTl/rRumzqNvz258+ai9cv5aIlJ4Mhm7fr27Hwl8ArgpXE4EjnT39TnKlwjVtfVqqi8iJx5YSXlpCQ++ntsm+9eWrOPJuau44Oi96dOjW05fS0QK084MazvV3a8LlyfiMANclNxdR/JFpu8u3Rg/ahAPza6mKYfj2d/w+DwGVJQz+aPDc/YaIlLYMqrkzexkM3vGzFab2Xtm9rSZnZSrcEmwvqGR97c06fK5IjNp9BBWbdjMS++sycnzv/jOGp5bsJqvjd+Hiu6a9EhEdk4mg+GcB/wdWEhwfv47wCLg72Z2bm7ixV9qitnKfmquLyYT99+NivLSnDTZuzs3PD6P3Xp358wPD8v684tI8ci0491l7n6Ou/82XCYD3yYmc7pHIXX5nJrri0uPbqWccNDuPPJGDZsbm7L63M8tWM3Li9dy8TEjdMWGiHRJJpX8nsBjbax/FCjaw43qcCCcqr6q5IvNqYdWsaGhMavD3Lo71z8+j6q+PTjj8D2y9rwiUpwyqeSXAMe1sf544N3sxEme6tp6ykqMQb01ElmxOXLEQAZUlDMli032T85dxayltXx94ki6l+koXkS6JpMePdcDN5vZYcDz4bojgbMo4vnka+oaGNynB6Ul+Z+VTKLVrbSEkw+p5M+vLGVDw1Z6d/Eyt+Zm52ePz2PPXXfhs2OGZimliBSzTK6T/w1wBrA/QYV/PbAfcLq735abePG3vLZePeuL2KTRVWxubGbqWyu7/FxTZlXzVs16Lj1uJN1KM766VURkOxl9krj73939Y+4+IFw+5u4P5ipcEtTU1atnfRE7bM/+DO3fs8u97Dc3NnH9429zQGUfJh06JEvpRKTY6XChC5qbnRV1DepZX8TMjFMPreK5BatZvXHzTj/PH154l2Xr6vnuSftRolM/IpIlmVwn32xmTe0tuQwZV6s3bmZrk1OlIW2L2qTRQ2hqdh6ZU7NTj6+r38ot0xdw1MiBHDVyUJbTiUgxy6Tj3emAAwbcTTApzYpchEqK5bpGXoBRu/dmv9178+Dr1XzpI8Mzfvyvn15I7aatXHHiftkPJyJFrdOVvLv/NXXbzH4PPOru7+QkVULU1AXXyFfqGvmid+roKv73sbdZunYTe+y6S6cfV1NXz++eW8SnRldx0JC+OUwoIsVI5+S7IDXanXrXyycPqQKCHvKZuHHqPNzhW8ePykUsESlyXanki3r2OQhGu9ulvJQ+PTWBSLHbY9ddGDOsP//MoJKft3IDf311GWd9ZFhGR/8iIp2VSce7KakF6AHc3mpdl5jZrmY21czmhz/7t7PfY2ZWa2YPdfU1uyo1xayZekNLcM383BUbmLtifaf2/59H51LRvYyLJ4zIcTIRKVaZHMmvBdaEyz3A0rT72Zhv8zvANHcfCUyj/UlvriMYZS9yNXWaR162OengSkpLrFPD3L70zhqmzV3F18bvQ/+K8jykE5FilEnHu8k5zAEwCRgf3r4LeIpg5rvWOaaZ2fjW66OwvLaB/Sv7RB1DYmJgr+58bMRAHny9mstPGNVuC4+789+PzmX3Pj0498i98pxSRIqJuXfu1LqZPQl8xt1rcxLErNbd+4W3DViXut/GvuOBb7v7KR083wXABQCDBw8ec99993U548aNG+nVqxcAW5ud8x/fxKdHdGPSiPgfiaVnT6Kk5J+xfCu3z9nClUf0YGT/YIKZ1tlfWdHIL1/fzLkHlXP00K6Nd59rSXnf25Pk/MqePe3lmTBhwqvuPjaCSPnj7p1agGZgt87u385zPAG80cYyCahtte+6Dp5nPPBQZ193zJgxng3Tp09vub149UYfdsVDfv8rS7Ly3LmWnj2JkpJ/Q8NW3/fKR/yqf8xpWZeefUtjk4+/brofd8NT3tjUHEHCzCTlfW9PkvMre/a0lweY6V2o05KwZNotvEs96t392Pa2mdlKM6t09xozqwRWdeW1cm25Lp+TNvTqXsaxBwzm4dk1/OCUAyhrNdHMfS8vYdHq9/nt2WM1c6GI5FymlfxNZlbf1gZ3P7eLWaYAZwPXhj9jPfFNTW04EI4qeWnl1EOreHh2DTMWruHj+24bpnbj5kZ+MW0+4/balWP22y3ChCJSLDK9Tt46WLrqWuA4M5sPHBvex8zGmtkdLQHMngX+Akw0s2VmdkIWXjtjqYFwKjVuvbQyftQgevco48HXl39g/e3PvMPqjVv47if202WXIpIXmRzJO/B1d89JM7q7rwEmtrF+JnBe2v2jcvH6maqua2BARTk9upVGHUVipntZKScdVMlDs6tp+HQwd9OqDQ3c/uw7nHTw7nxozzaHgBARybpMjuR16JEmNRCOSFsmja7i/S1NTPtP8J34pmnz2dLYzOUnaBIaEcmfTCr5u4A2z8cXo5q6ejXVS7uO2HsAu/XuzoOvL2fF+8386eWlfH7cnuw1sCLqaCJSRDpdybv7OUBJeI58rJm1eQ17saiubdCRvLSrtMT45KFVPPX2e9zz1hZ6lJXw9Ykjo44lIkWmU5W8me1pZv8kGL72pXBZHY5bPyyXAeNofcNWNm5upKqfjuSlfZNGV7GlqZk31jRx/tF7M6h396gjiUiR2WHHOzMbArxIMBjOD4C3wk0HAhcCz5vZ4e6e2RybCZbqWa8jeenIwUP6stfACtas38T5R+0ddRwRKUKd6V3/Q2ARcKy7p5+T/4eZ3Qg8Hu7zlRzki6WWa+T7qpKX9pkZvz5zDC+/8goV3TUdsYjkX2c+eU4CvtiqggfA3TeZ2fcJZqUrGhrtTjpr1O69qemd6XAUIiLZ0ZlPn0HAwg62Lwj3KRo1dfWUlZjOsYqISKx1ppJfBYzoYPtIYj7OfLZV1zYwuE8PjT0uIiKx1plK/lHgx2a23WGrmfUAfgQ8ku1gcVZdW6+mehERib3OnJO/GpgJLDCzW4C54foDCHrXlwFn5CRdTFXX1XOYhiYVEZGY22El7+7VZvZR4Fbgp2wb3taBfwEXu/vy9h5faJqbnRV1GghHRETir1PX9bj7YuAkM+tPcA4eYIG7r81VsLhavXEzW5ucKg1pKyIiMZfRxbvuvg54OUdZEqG6LrhGXkfyIiISd7qAN0Pb5pFXJS8iIvGmSj5D1RoIR0REEkKVfIaqaxvYpbyUPj01TKmIiMSbKvkMVdfWU9WvJ2YaCEdEROJNlXyGaurqqVTPehERSQBV8hlaXtug8/EiIpIIquQzsLXZWb1xs3rWi4hIIqiSz8C6Bgegqp+a60VEJP5UyWdgTX2qkteRvIiIxJ8q+QysbWgGVMmLiEgyqJLPwJqwuV6960VEJAliU8mb2a5mNtXM5oc/t5vL1cxGm9kLZvammc02s7xOcbu23hlQUU6PbqX5fFkREZGdEptKHvgOMM3dRwLTwvutbQK+5O4HAicCPzezfvkKuLbB1VQvIiKJEadKfhJwV3j7LuBTrXdw93nuPj+8XQ2sAgblK+CahmY11YuISGKYu0edAQAzq3X3fuFtA9al7rez/ziCLwMHuntzG9svAC4AGDx48Jj77ruvyxm/OnUjRw3txhf3797l58q3jRs30qtXr6hj7LQk51f26CQ5v7JnT3t5JkyY8Kq7j40gUt7kdZYVM3sC2L2NTVem33F3N7N2v32YWSXwB+Dstir48DluA24DGDt2rI8fP35nYwOwvmErDY89zuEHjmD80ft06bmi8NRTT9HV9yBKSc6v7NFJcn5lz5645cmnvFby7n5se9vMbKWZVbp7TViJr2pnvz7Aw8CV7v5ijqJup6a2AdDlcyIikhxxOic/BTg7vH028GDrHcysHPg7cLe7/zWP2VrmkdeQtiIikhRxquSvBY4zs/nAseF9zGysmd0R7nM6cDQw2cxeD5fR+QhXXRdU8pqcRkREkiKvzfUdcfc1wMQ21s8Ezgtv3wPck+doQHAkX2owqHfyOt2JiEhxitORfKzV1DbQr7tRWmJRRxEREekUVfKdtLy2ngE9VcGLiEhyxKa5Pu4+PmoQyxdvjDqGiIhIp+lIvpMuHD+C44Z3izqGiIhIp6mSFxERKVCq5EVERAqUKnkREZECpUpeRESkQKmSFxERKVCq5EVERAqUKnkREZECpUpeRESkQKmSFxERKVCq5EVERAqUuXvUGXLOzN4D3s3CUw0EVmfheaKQ5OyQ7PzKHp0k51f27GkvzzB3H5TvMPlUFJV8tpjZTHcfG3WOnZHk7JDs/MoenSTnV/bsiVuefFJzvYiISIFSJS8iIlKgVMln5raoA3RBkrNDsvMre3SSnF/ZsyduefJG5+RFREQKlI7kRURECpQqeRERkQKlSl6KkplZ1BmKnf4GkgmVl52jSl52mpkdZmbdos6xMzzBnVHMrFfa7cR98JnZT8xs/yT/DZLIzI4xs4qoc3RBy2dNEst9VFTJR8DMLjCzH5lZz6iz7Awz+4KZzQJOAJqjzpMJMzvTzJ4zs2vM7DNR58mEmX3RzGYC15nZNZCsLythuXkGuBA4M+o8mTCz883sVjPbJ+osmQrLzavABGBr1HkyZWafD/P/xMy+AdGV+ySWg7KoAxSL8JtnGXAecAXQADwOPBtlrs4K8/cAfgB8HviCuz+fvj3uFY6ZjSeoYC4n+HJyjZnh7g+YWam7N0UasB1m1oMg8zHAZcAa4E4zu9/d34g0XCeYWR/gOmA48F1gf6BvuC3W5cbMSoHTgP8H1ABHmNlyd2+INlnH0j5vvgFcCXzC3V+MNlXmzGwscAlwEbAAmGZmG9z9d/kqO+F7WUICywHoSD4vzKzcA1uB1wg+5H4DnGNmA6JNt2Np+euBVcDdwEtm1tPMjjez3nH9oDaz8rS7HwX+5u4z3P0FYA5wLUBcK3iA8IPkH+4+wd2fAcqB+cDyaJN1jruvB2539xPcfQbgwOnhtriWm27QUi7+DYwDfgUcTfD/G1tm1i3t82Ye8EfgXTMrN7PPmllVxBE71OoU4AHANHd/0d1XE/wuPzWzvnmq4HuE72UTwWf3ESSkHKSoks8xM/shcK+ZTTazXd39pbCy/BUwFDjWzGL7d0jLf254euE+oBfwGPAycAHBUeUF4f6x+V3Ssp8TrnoduCQ8MobgC0upmX033D9O2b9nZkeEt0vcfU54eyJwD7AbcIOZfTu1T2Rh29Aqf6m7z0zb/Deg0cwOiSZdx8Ly8Nu0/9l57r4O+CtgwFFm1j/alG1Ly36OmfUGpgNLgEcJKqlPA3eZ2ZXh/nErN+n5y4DFwIlmdkC4SzOwHrg03D9n+c3sKuAxM7vEzA509/nuvpYElIN0sfoDFxozuxQ4kqBCnwj80MwqoeXo7PfAFwiaMWOnVf4JBEe9m4AngLnARHc/Ldx+YfjtOhbn6Fu/92Z2E/Avguy3h30KegHnAx8ys+5xyG5mlWb2N4JmwXsA3L05raPRUuAodz+W4O9xtZkNjEN2aDd/61aS/sAiYvb5Y2b7mdnzwIHAXwiaZz+fag0Kj4z/BowBDmv12Eg7grWR/bPA2e6+geCU4KPAie5+JkEF+W0zGxCjctPWe//VsOXqSeCy8Lz8bgSfmaeYWUWu8pvZuQSf2VcAgwj6AwyHeJeDNrm7lhwsQClBs/aR4f19gf8G/qfVfn8AzgEOB74Yde4d5P9f4Jrwfs+0favCfXePOncH2a8Hvp+Wd1x4eyJwXXjbYpB9F+C/wtuvAJeFt7u1s/+fgAOizt2J/GWt9nsWmBzeLok6d5hjCPDNtPvnAve0zgj8f+CbwMnARVHn7iD7veHtcqB7G+VmVNS5d5D/T2n5+wCHhveHAzcR9LbP+v8swVH6D4HTw/u9gB+n8sS5HLS1xOqbdKEIO4Q0ASsJOtpB0GnkAWB/MxuTtvvdwK3hth7EQAf5/wKMNrMxHpxySHVMupKgk897UeRN10H2PwPjzOxwd69295fDpr4zgXUQj/PD7r4JeDi8eylwZdgnYmt606SZlYWtE30ImjRjoYP8jWZWEpYXCMrSceFjYnE06e7LgdvTVr0E9E218qS9/48B3wv3LScG2sneOzynvMXdN0NwvtvMbiYoN+9GELVN7eTvlZZ/vbvPCltVrgKa3H1rV/9n2zryTnvOL4X3NwK/APaxoPNuSuzKQVtUyWeBmfVLu12SVkhuA4aGlWIzwYfxy8DocN8RwI8ImjVHuftv8xo81IX8XyI4WtsKfNkj6Ly2E9kPDvc9Bnie4BzfDXkNHWqdPXXb3TeEX1aeA54Gfh2ubw73PZPgd2kCPhdWrHm3M/nTyshm4O9RNW92kP39tN2OAZamKsiwoh9E0KL1T2CEu9+Yp8gtMszekLbvJIIynyo3kfQM70L+wwj6GEBwlUY2fKAOTCuP1wJ7m9nR4f3VBJ/Tx4f7RV4OOi3qpoQkL8AnCD7E/gh8N219afiznODc5J/Ttt1EUCEC7EqETdxdyH9eeHssQQFPYvY9gSExy17CtkmjysKfg4G1wECC85V7AMOAvWJYbnaUf3/g4HB9m6cfYpb952w79XBYqrwAAxOWfQxBP4hhwPCElJvW+QcDPYHBWcpyMvAQ8FPC03rh+tK0DBcBL6Vtuwj4Vni7OzAgqvcyk0VH8jvJzMYBVwM/IzhqPMzMDoIPdDTqS3DOfYCZXWnBAAqjgMZwv7XuviLf2aHL+beG+8109wUJzb7EgybCOGVvdncPjxLKwnUrCU7lrALuBHq7+7vuvijf2aHL+e8iHDzJg85Lcc3ePXxIBTDIzH7uUVT4AAAIs0lEQVRP0OKW6oC3OoHZ+4blZnG+s0NW8u/i7vVheepqljEE59xvBWYDZ5vZ5DBLkwenlird/ZfA+2Z2rZl9DDiV8Mjf3Te7+5quZskHVfI770jgGXefQtDjuQlYmGp+MrNbgTsIrgn+BkGHpD8DM9z9rmgif0CS8xdy9l8SnOPbOzyHfRZwLHCFux/u7m9FFTzUlfzj3P3NqILT+exVZjaYoL/GV4BZ7n5yVF+sQl3JflJUlXuarubP5nt/LPCsuz8CPAisAL6eOo1gZj8D/hb2pj+P4FTfT8L812UxR35E3ZSQlAX4OkEhPD+8fzDBYCQ3A8uAZwiOtK4iaFq6G+jf6jm65zt3IeQv5uwEp0T6JbXcRJk/C9kvBXZV9mTnbyPLOIJBgnYN719FcK7/amAAwamC1p8f5VG9l13+/aMOkIQFmAy8CJxIcE7pKqAfwXmuG4FPhvsdALwF7Jv22FLlV/adyF4WReZCyV/E5UafNx1nuZLgWvubCc7JP0swXskJBB1Eu+cqS1SLmus7ZyLB9e2PAd8iuD7zEg9GwRrJtktR5gIzgN7Q0ts7DsOlJjl/sWZvjCBva0nOX6zlJursEK/8rbP0AL7k7pcQzGNxjbufQ3C1R7lvu9TQYvJedpkq+Q6kXd7xb+AUCDqbEVyGMsyCoRafBO4ws10IviUeRHDOCY/4+t8k51f26CQ5v7JHJ075O8gyA9jXzI7yoPPt1HC/k4B3Uo/38FC+EKiST2PhQB2payXTCt0MoCTtmsk3CM4r7efuNwBvE4xnfADwGXdfldfgoSTnV3aVm52h7Co3O5GlGtg93P9oM3uaoIXh113NEUeaahYws48QDKP4tpn9xoPxnjGzsrDZcT7wJnCGmc1w92VhD9BR4VN8meASj1rlV/YkZE96fmVXueliltQAUouBCz3aqz5yquiP5M3s48AtBM1IVcD3zOx4gLTziqlJHroD11swFWJ/gqFT8WDYxaj+4RKbX9lVbpQ9OdkhXvm7mGV1uN+SQq7gQZU8BKMpzXD3PxFMQjCYYOapwQBm9mPgXqCOoJdof4JCU0cwuEfUkpxf2aOT5PzKHp045Y9TltgquuZ6M/swsNbd54Wr3iaYdKXK3avNbCPBtZKfMrPpwN7Ad9x9Yfj4c4GKVLOQ8it73LMnPb+yq9zELUuSFM2RvJn1M7OHganA6WbWK9w0D1gP3GnBPNh7AK8TDB86z92/4O4tIzN5MARjFB8Wic2v7Co3yp6c7HHLH6csSZSaFKDgmdkQ4LMEhWIU24Y1xILpC48kmPzgPjM7iaAzxinh9hKP/vKUxOZX9ugkOb+yRydO+eOUJYkKupK3YCrUd4F/u/t6M+tB0HpxOWDAbe5e3cbjvg/UuvsteQ28fY7E5lf26CQ5v7JHJ07545Ql6Qquud4CleE5mbOBLwK/MrOB7t7gwdzbTxB0wjim1WM/ZmavAkcRDHmYd0nOr+wqN8qenOxhhtjkj1OWQlJQlbyZlXrQNNEbWO7uE4GvEcxnfVtqP3efQXB95H5m1tfMKsJN7wBXufsJHsGsTUnOr+wqN8qenOwQr/xxylJoCqK53oLRjn4ElAKPAH2A09z97HB7CcEoR2e4+9Phul4El118FBgGjHH3ZRHET3R+ZVe5UfbkZA+zxCZ/nLIUqsQfyVswIMKrBE04CwgKzFZggpmNg5YhDq8Ol5STCSYomAUcHOE/XGLzK7vKzc5QdpWbuGUpaB6DqfC6shCcgzkr7f6tBM08k4FXw3UlBGMV3w8MD9dNAo5WfmVPWvak51d25Y9blkJeEn8kT/BN8P6w2QeCCQn2dPc7gVIzu8SDb4NDgSYPz9e4+4Pu/kwUgVtJcn5lj06S8yt7dOKUP05ZClbiK3l33+Tum33b3L/HAe+Ft88B9jezh4A/Aa9B0Isz/0nbluT8yh6dJOdX9ujEKX+cshSyghnWNvw26ATjF08JV28AvkcwZ/Eid18O8ZwrOMn5lT06Sc6v7NGJU/44ZSlEiT+ST9MMdCOYXeiQ8BvgVUCzuz+XKiQxluT8yh6dJOdX9ujEKX+cshQez+EJ/3wvwIcJCsxzwJejzlNM+ZVd+ZU9+kxJzR+nLIW2FMR18ilmNhQ4C7jB3TdHnSdTSc6v7NFJcn5lj06c8scpS6EpqEpeREREtimkc/IiIiKSRpW8iIhIgVIlLyIiUqBUyYuIiBQoVfIiIiIFSpW8iIhIgVIlLyIiUqBUyYskkJktNjNvYxkedTYRiQ9V8iLJdQ1QGS4nRpxFRGJIlbxIMpUB6919hbuvANakbzSzE83sWTNbZ2ZrzexfZrZ/2va2WgFSy+Rwn8vMbLaZvW9my83sDjPrl9ffUkS6RJW8SDJ1Bzoa47sC+DkwDhgP1AH/NLPycHtl2gLw2bT7fw7XNQPfBA4EvhA+181Z+w1EJOc0dr1IwpiZAVuA89z9rnDdWOAVYC93X9zGYyqA9cDH3f25VtscmODuT+3gdU8EHgR6untzFn4VEckxHcmLJM/uBM31Ne3tYGb7mNm9ZrbQzNYDKwn+3/fs7IuY2TFmNtXMlpnZBuABoDx8fRFJAFXyIslzYPhzbgf7PAQMAr4CHAF8CGgkqKR3yMyGAQ8D/wE+B4wBzg03d+o5RCR6ZVEHEJGMHQcsd/clbW00swHAfsCF7j49XHcYmf2/jyWozC9196bwOU7pUmoRyTtV8iIJEXaaOw64CPiDmaU3mw8Ifw4CqoHVwPlmthQYAlxHcCTfWfMJWvq+aWYPAB8m6IQnIgmi5nqR5PgoQTN8BfBVgnPyqeWxcJ+Xw/3OAA4B3gB+CVxFx73xP8DdZwPfAC4D3gLOA76djV9CRPJHvetFEsLMxgN3uvvwDvZZDEzeUU95ESkOOpIXSY4twHs72Oe9cD8RER3Ji4iIFCodyYuIiBQoVfIiIiIFSpW8iIhIgVIlLyIiUqBUyYuIiBSo/wOuFGMARIhxGQAAAABJRU5ErkJggg==\n",
      "text/plain": [
       "<Figure size 504x360 with 1 Axes>"
      ]
     },
     "metadata": {
      "needs_background": "light"
     },
     "output_type": "display_data"
    }
   ],
   "source": [
    "merged_revenue_cumul['aov_rel_change'] = merged_revenue_cumul['aov_b'] / merged_revenue_cumul['aov_a'] - 1\n",
    "change_plot(merged_revenue_cumul, 'aov_rel_change', 'кумулятивного среднего чека')"
   ]
  },
  {
   "cell_type": "markdown",
   "metadata": {},
   "source": [
    "На очередном графике по скачкам видны выбросы в группе B. Различие между средними чеками было в 1.5 раза, но потом стало уменьшаться. \n",
    "\n",
    "Обязательно сравним этот график с графиком на чистых данных."
   ]
  },
  {
   "cell_type": "markdown",
   "metadata": {},
   "source": [
    "- Построим график кумулятивной конверсии по группам "
   ]
  },
  {
   "cell_type": "code",
   "execution_count": 26,
   "metadata": {},
   "outputs": [],
   "source": [
    "data_cumul['conversion'] = data_cumul['transactions'] / data_cumul['visitors']\n",
    "convers_cumul_a = data_cumul[data_cumul['group'] == 'A']\n",
    "convers_cumul_b = data_cumul[data_cumul['group'] == 'B']"
   ]
  },
  {
   "cell_type": "code",
   "execution_count": 27,
   "metadata": {},
   "outputs": [
    {
     "data": {
      "image/png": "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\n",
      "text/plain": [
       "<Figure size 504x360 with 1 Axes>"
      ]
     },
     "metadata": {
      "needs_background": "light"
     },
     "output_type": "display_data"
    }
   ],
   "source": [
    "plt.fig = graphics(convers_cumul_a, convers_cumul_b, 'date', 'conversion')\n",
    "plt.axis([\"2019-08-01\", '2019-09-01', 0.02, 0.05]) \n",
    "plt.show()"
   ]
  },
  {
   "cell_type": "markdown",
   "metadata": {},
   "source": [
    "Конверсия группы A просела и зафиксировалась, а конверсия группы B сделала скачок, немного уменьшилась и в целом зафиксировалась."
   ]
  },
  {
   "cell_type": "markdown",
   "metadata": {},
   "source": [
    "- Построим график относительного изменения кумулятивной конверсии группы B к группе A"
   ]
  },
  {
   "cell_type": "code",
   "execution_count": 28,
   "metadata": {},
   "outputs": [],
   "source": [
    "merged_convers_cumul = convers_cumul_a.merge(convers_cumul_b, how = 'left', on = 'date', suffixes = ['_a', '_b'])"
   ]
  },
  {
   "cell_type": "code",
   "execution_count": 29,
   "metadata": {},
   "outputs": [
    {
     "data": {
      "image/png": "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\n",
      "text/plain": [
       "<Figure size 504x360 with 1 Axes>"
      ]
     },
     "metadata": {
      "needs_background": "light"
     },
     "output_type": "display_data"
    }
   ],
   "source": [
    "merged_convers_cumul['convers_rel_change'] = merged_convers_cumul['conversion_b'] / merged_convers_cumul['conversion_a'] - 1\n",
    "change_plot(merged_convers_cumul, 'convers_rel_change', 'кумулятивной конверсии')"
   ]
  },
  {
   "cell_type": "markdown",
   "metadata": {},
   "source": [
    "Для \"сырых\" данных на графике опять видны выбросы в B. Со временем влияние аномалий на общую картину уменьшается, но они всё равно мешают сделать вывод о превосходстве группы B."
   ]
  },
  {
   "cell_type": "markdown",
   "metadata": {},
   "source": [
    "#### 4.2. Выбор границы определения аномальных данных"
   ]
  },
  {
   "cell_type": "markdown",
   "metadata": {},
   "source": [
    "- Построим точечный график количества заказов по пользователям"
   ]
  },
  {
   "cell_type": "code",
   "execution_count": 63,
   "metadata": {},
   "outputs": [],
   "source": [
    "#создаём таблицу, в которой для каждого пользователя будет посчитано число заказов\n",
    "orders_by_users = (orders\n",
    "                   .groupby('visitor_id', as_index = False)\n",
    "                   .agg({'transaction_id': 'nunique'})\n",
    "                  )\n",
    "orders_by_users.rename(columns = {'visitor_id': 'user_id', 'transaction_id': 'orders'}, inplace = True)"
   ]
  },
  {
   "cell_type": "code",
   "execution_count": 31,
   "metadata": {},
   "outputs": [],
   "source": [
    "#функция получает на вход датафрейм, столбец, по которому нужно строить график,\n",
    "#название этого столбца и название оси х\n",
    "#вовзращает точечный график значений столбца для каждого порядкового номера по оси х\n",
    "def dots(df, column, title, xlabel):\n",
    "    x_values = pd.Series(range(0, len(df)))\n",
    "    plt.figure(figsize = (7, 5))\n",
    "    plt.scatter(x_values, df[column]) \n",
    "    plt.xlabel('Порядковый номер ' + xlabel, fontsize = 14)\n",
    "    plt.ylabel(title, fontsize = 14)\n",
    "    plt.title('Точечный график: ' + title, fontsize = 16)\n",
    "    plt.grid()"
   ]
  },
  {
   "cell_type": "code",
   "execution_count": 32,
   "metadata": {},
   "outputs": [
    {
     "data": {
      "image/png": "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\n",
      "text/plain": [
       "<Figure size 504x360 with 1 Axes>"
      ]
     },
     "metadata": {
      "needs_background": "light"
     },
     "output_type": "display_data"
    }
   ],
   "source": [
    "dots(orders_by_users, 'orders', 'Количество заказов', 'пользователя')"
   ]
  },
  {
   "cell_type": "markdown",
   "metadata": {},
   "source": [
    "Очень много пользователей совершает 1-2 заказа. Но много - это сколько? Посчитаем в цифрах."
   ]
  },
  {
   "cell_type": "markdown",
   "metadata": {},
   "source": [
    "- Посчитаем 95-й и 99-й перцентили количества заказов на пользователя. Выберем границу для определения аномальных пользователей."
   ]
  },
  {
   "cell_type": "code",
   "execution_count": 33,
   "metadata": {},
   "outputs": [
    {
     "name": "stdout",
     "output_type": "stream",
     "text": [
      "95% пользователей совершает около 2.0 заказов\n",
      "99% пользователей совершает около 4.0 заказов\n"
     ]
    }
   ],
   "source": [
    "percentiles = np.percentile(orders_by_users['orders'], [95, 99])\n",
    "print(f'95% пользователей совершает около {percentiles[0]} заказов')\n",
    "print(f'99% пользователей совершает около {percentiles[1]} заказов')"
   ]
  },
  {
   "cell_type": "markdown",
   "metadata": {},
   "source": [
    "Действительно, лишь 5% клиентов совершают больше 2 заказов. Поэтому этих клиентов придётся посчитать аномальными."
   ]
  },
  {
   "cell_type": "markdown",
   "metadata": {},
   "source": [
    "- Построим точечный график стоимостей заказов"
   ]
  },
  {
   "cell_type": "code",
   "execution_count": 58,
   "metadata": {},
   "outputs": [
    {
     "data": {
      "image/png": "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\n",
      "text/plain": [
       "<Figure size 504x360 with 1 Axes>"
      ]
     },
     "metadata": {
      "needs_background": "light"
     },
     "output_type": "display_data"
    }
   ],
   "source": [
    "plt.fig = dots(orders, 'revenue', 'Стоимость заказа', 'заказа')"
   ]
  },
  {
   "cell_type": "markdown",
   "metadata": {},
   "source": [
    "Из-за двух аномальных заказов (по миллиону и по 200 тысяч) график невозможно проанализировать. Ограничим значения по оси х, чтобы лучше увидеть распределение стоимостей."
   ]
  },
  {
   "cell_type": "code",
   "execution_count": 34,
   "metadata": {},
   "outputs": [
    {
     "data": {
      "image/png": "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\n",
      "text/plain": [
       "<Figure size 504x360 with 1 Axes>"
      ]
     },
     "metadata": {
      "needs_background": "light"
     },
     "output_type": "display_data"
    }
   ],
   "source": [
    "plt.fig = dots(orders, 'revenue', 'Стоимость заказа', 'заказа')\n",
    "plt.ylim(bottom = 0, top = 150000)\n",
    "plt.show()"
   ]
  },
  {
   "cell_type": "markdown",
   "metadata": {},
   "source": [
    "Похоже, что стандартная покупка в нашем магазине укладывается в 20000 у.е. Но это обязательно нужно проверить математически!"
   ]
  },
  {
   "cell_type": "markdown",
   "metadata": {},
   "source": [
    "- Посчитаем 95-й и 99-й перцентили стоимости заказов. Выберем границу для определения аномальных заказов."
   ]
  },
  {
   "cell_type": "code",
   "execution_count": 35,
   "metadata": {},
   "outputs": [
    {
     "name": "stdout",
     "output_type": "stream",
     "text": [
      "95% заказов стоят не больше 28000.0 у.е.\n",
      "99% заказов стоят не больше 58233.2 у.е.\n"
     ]
    }
   ],
   "source": [
    "percentiles = np.percentile(orders['revenue'], [95, 99])\n",
    "print(f'95% заказов стоят не больше {percentiles[0].round(2)} у.е.')\n",
    "print(f'99% заказов стоят не больше {percentiles[1].round(2)} у.е.')"
   ]
  },
  {
   "cell_type": "markdown",
   "metadata": {},
   "source": [
    "Мы практически угадали границу - 95% процентов заказов стоило до 28 тысяч. А вот богачей будем считать аномальными."
   ]
  },
  {
   "cell_type": "markdown",
   "metadata": {},
   "source": [
    "#### 4.3. Статистические тесты"
   ]
  },
  {
   "cell_type": "markdown",
   "metadata": {},
   "source": [
    "- Посчитаем статистическую значимость различий в конверсии между группами по «сырым» данным"
   ]
  },
  {
   "cell_type": "code",
   "execution_count": 36,
   "metadata": {},
   "outputs": [],
   "source": [
    "#создаём датафрейм с заказами группы А\n",
    "orders_by_users_a = (orders[orders['group'] == 'A']\n",
    "                     .groupby('visitor_id', as_index = False)\n",
    "                     .agg({'transaction_id' : 'nunique'})\n",
    "                    )\n",
    "orders_by_users_a.rename(columns = {'visitor_id': 'user_id', 'transaction_id': 'orders'}, inplace = True)\n",
    "\n",
    "#создаём датафрейм с заказами группы В\n",
    "orders_by_users_b = (orders[orders['group'] == 'B']\n",
    "                     .groupby('visitor_id', as_index = False)\n",
    "                     .agg({'transaction_id' : 'nunique'})\n",
    "                    )\n",
    "orders_by_users_b.rename(columns = {'visitor_id': 'user_id', 'transaction_id': 'orders'}, inplace = True)"
   ]
  },
  {
   "cell_type": "code",
   "execution_count": 37,
   "metadata": {},
   "outputs": [],
   "source": [
    "#создаём датафрейм с количеством посетителей из группы А в каждый день\n",
    "visitors_a_daily = visitors[visitors['group'] == 'A'][['date', 'visitors']]\n",
    "visitors_a_daily.rename(columns = {'visitors': 'visitors_per_date_a'}, inplace = True)\n",
    "\n",
    "#создаём датафрейм с количеством посетителей из группы В в каждый день\n",
    "visitors_b_daily = visitors[visitors['group'] == 'B'][['date', 'visitors']]\n",
    "visitors_b_daily.rename(columns = {'visitors': 'visitors_per_date_a'}, inplace = True)"
   ]
  },
  {
   "cell_type": "code",
   "execution_count": 38,
   "metadata": {},
   "outputs": [],
   "source": [
    "visitors_daily = visitors_a_daily.merge(visitors_b_daily, on = 'date')"
   ]
  },
  {
   "cell_type": "code",
   "execution_count": 67,
   "metadata": {},
   "outputs": [],
   "source": [
    "#выборки для групп\n",
    "#\"сцепляем\" две series: одна с количеством заказов для пользователей, которые совершили заказ \n",
    "#и вторая с 0 (для тех, кто не совершил заказ, а их: число посетителей - число купивших)\n",
    "sample_a = pd.concat([orders_by_users_a['orders'], pd.Series(0, index = np.arange(visitors_daily['visitors_per_date_a'].sum() - len(orders_by_users_a['orders'])), name = 'orders')], axis = 0)\n",
    "\n",
    "sample_b = pd.concat([orders_by_users_b['orders'], pd.Series(0, index = np.arange(visitors_daily['visitors_per_date_b'].sum() - len(orders_by_users_b['orders'])), name = 'orders')], axis = 0)"
   ]
  },
  {
   "cell_type": "code",
   "execution_count": 40,
   "metadata": {},
   "outputs": [],
   "source": [
    "#функция принимает 2 объекта series и название параметра, по которому мы проверяем гипотезу\n",
    "#возвращает результаты гипотезы мэна-уитни\n",
    "def test(sample_a, sample_b, parameter):\n",
    "    pvalue = stats.mannwhitneyu(sample_a, sample_b)[1]\n",
    "    alpha = 0.05\n",
    "\n",
    "    print('p-значение: {0:.3f}'.format(pvalue))\n",
    "\n",
    "    if (pvalue < alpha):\n",
    "        print(f\"Отвергаем нулевую гипотезу: различия в {parameter} есть\")\n",
    "    else:\n",
    "        print(f'''Не получилось отвергнуть нулевую гипотезу: статистически значимых различий в {parameter} нет''')\n",
    "\n",
    "    print(\"Относительный проигрыш/выигрыш группы B равен {0:.1%}\".format(sample_b.mean() / sample_a.mean() - 1))"
   ]
  },
  {
   "cell_type": "markdown",
   "metadata": {},
   "source": [
    "**Нулевая гипотеза:** конверсия в группах А и В равна\n",
    "\n",
    "**Альтернативная гипотеза:** конверсия в группах А и В различна"
   ]
  },
  {
   "cell_type": "code",
   "execution_count": null,
   "metadata": {
    "ExecuteTime": {
     "end_time": "2021-01-22T15:27:01.797755Z",
     "start_time": "2021-01-22T15:27:01.649606Z"
    }
   },
   "outputs": [],
   "source": [
    "test(sample_a, sample_b, 'конверсии')"
   ]
  },
  {
   "cell_type": "markdown",
   "metadata": {},
   "source": [
    "Итак, по изначальным данным различия между конверсиям групп A и B статистически значимы. Группа B выигрывает у A на 14%. Изменится ли ситуация для \"чистых\" данных?"
   ]
  },
  {
   "cell_type": "markdown",
   "metadata": {},
   "source": [
    "- Посчитаем статистическую значимость различий в среднем чеке заказа между группами по «сырым» данным"
   ]
  },
  {
   "cell_type": "markdown",
   "metadata": {},
   "source": [
    "**Нулевая гипотеза:** размер среднего чека в группах А и В одинаков\n",
    "\n",
    "**Альтернативная гипотеза:** размер среднего чека в группах А и В оличается"
   ]
  },
  {
   "cell_type": "code",
   "execution_count": 42,
   "metadata": {},
   "outputs": [
    {
     "name": "stdout",
     "output_type": "stream",
     "text": [
      "p-значение: 0.365\n",
      "Не получилось отвергнуть нулевую гипотезу: \n",
      "              статистически значимых различий в среднем чеке нет\n",
      "Относительный проигрыш/выигрыш группы B равен 25.9%\n"
     ]
    }
   ],
   "source": [
    "revenue_a = orders[orders['group'] == 'A']['revenue']\n",
    "revenue_b = orders[orders['group'] == 'B']['revenue']\n",
    "\n",
    "test(revenue_a, revenue_b, 'среднем чеке')"
   ]
  },
  {
   "cell_type": "markdown",
   "metadata": {},
   "source": [
    "Статистически средние чеки групп A и B не отличаются, но у B он больше на 26 процентов. Очень странно. Срочно нужны \"чистые\" данные!"
   ]
  },
  {
   "cell_type": "markdown",
   "metadata": {},
   "source": [
    "- Посчитаем статистическую значимость различий в конверсии между группами по «очищенным» данным"
   ]
  },
  {
   "cell_type": "markdown",
   "metadata": {},
   "source": [
    "Очищаем данные от тех клиентов, кто заказал больше 2 раз и кто потратил больше 28000 у.е."
   ]
  },
  {
   "cell_type": "code",
   "execution_count": 43,
   "metadata": {},
   "outputs": [],
   "source": [
    "abnormal_orders = pd.concat([orders_by_users_a[orders_by_users_a['orders'] > 2]['user_id'], orders_by_users_b[orders_by_users_b['orders'] > 2]['user_id']], axis = 0)\n",
    "abnormal_revenue = orders[orders['revenue'] > 28000]['visitor_id']\n",
    "\n",
    "abnormal_users = (pd.concat([abnormal_orders, abnormal_revenue], axis = 0)\n",
    "                  .drop_duplicates()\n",
    "                  .sort_values()\n",
    "                 )"
   ]
  },
  {
   "cell_type": "code",
   "execution_count": 44,
   "metadata": {},
   "outputs": [],
   "source": [
    "#выборки для \"чистых\" групп\n",
    "#\"сцепляем\" две series: одна с количеством заказов для НЕ аномальных пользователей, которые совершили заказ\n",
    "#и вторая с 0 (для тех, кто не совершил заказ, а их: число посетителей - число купивших)\n",
    "\n",
    "clean_sample_a = pd.concat([orders_by_users_a[np.logical_not(orders_by_users_a['user_id'].isin(abnormal_users))]['orders'], pd.Series(0, index = np.arange(visitors_daily['visitors_per_date_a'].sum() - len(orders_by_users_a['orders'])), name = 'orders')], axis = 0)\n",
    "\n",
    "clean_sample_b = pd.concat([orders_by_users_b[np.logical_not(orders_by_users_b['user_id'].isin(abnormal_users))]['orders'], pd.Series(0, index = np.arange(visitors_daily['visitors_per_date_b'].sum() - len(orders_by_users_b['orders'])), name = 'orders')], axis = 0)"
   ]
  },
  {
   "cell_type": "markdown",
   "metadata": {},
   "source": [
    "**Нулевая гипотеза:** конверсия в \"чистых\" группах А и В равна\n",
    "\n",
    "**Альтернативная гипотеза:** конверсия в \"чистых\" группах А и В различна"
   ]
  },
  {
   "cell_type": "code",
   "execution_count": 45,
   "metadata": {},
   "outputs": [
    {
     "name": "stdout",
     "output_type": "stream",
     "text": [
      "p-значение: 0.007\n",
      "Отвергаем нулевую гипотезу: различия в конверсии по \"чистым\" данным есть\n",
      "Относительный проигрыш/выигрыш группы B равен 17.3%\n"
     ]
    }
   ],
   "source": [
    "test(clean_sample_a, clean_sample_b, 'конверсии по \"чистым\" данным')"
   ]
  },
  {
   "cell_type": "markdown",
   "metadata": {},
   "source": [
    "Вывод не изменился: конверсии в двух группах отличаются, причём в пользу B (различие после очистки даже увеличилось). "
   ]
  },
  {
   "cell_type": "markdown",
   "metadata": {},
   "source": [
    "- Посчитаем статистическую значимость различий в среднем чеке заказа между группами по «очищенным» данным"
   ]
  },
  {
   "cell_type": "code",
   "execution_count": 46,
   "metadata": {},
   "outputs": [],
   "source": [
    "clean_revenue_a = (orders[np.logical_and(orders['group'] == 'A', np.logical_not(orders['visitor_id'].isin(abnormal_users)))]['revenue'])\n",
    "\n",
    "clean_revenue_b = (orders[np.logical_and(orders['group'] == 'B', np.logical_not(orders['visitor_id'].isin(abnormal_users)))]['revenue'])"
   ]
  },
  {
   "cell_type": "markdown",
   "metadata": {},
   "source": [
    "**Нулевая гипотеза:** размер среднего чека в \"чистых\" группах А и В равен\n",
    "\n",
    "**Альтернативная гипотеза:** размер среднего чека в \"чистых\" группах А и В различен"
   ]
  },
  {
   "cell_type": "code",
   "execution_count": 47,
   "metadata": {},
   "outputs": [
    {
     "name": "stdout",
     "output_type": "stream",
     "text": [
      "p-значение: 0.369\n",
      "Не получилось отвергнуть нулевую гипотезу: \n",
      "              статистически значимых различий в среднем чеке по \"чистым\" данным нет\n",
      "Относительный проигрыш/выигрыш группы B равен -2.0%\n"
     ]
    }
   ],
   "source": [
    "test(clean_revenue_a, clean_revenue_b, 'среднем чеке по \"чистым\" данным')"
   ]
  },
  {
   "cell_type": "markdown",
   "metadata": {},
   "source": [
    "А для среднего чека ситуация немного поменялась: статистически средние чеки двух групп опять же равны, но B теперь хуже A на 2%. Это более адекватное значение."
   ]
  },
  {
   "cell_type": "markdown",
   "metadata": {},
   "source": [
    "- Примем решение по результатам теста"
   ]
  },
  {
   "cell_type": "markdown",
   "metadata": {},
   "source": [
    "**Имеющиеся факты:**\n",
    "\n",
    "1. Есть статистически значимое различие по конверсии между группами и по «сырым», и по данным после фильтрации - группа B имеет лучшую конверсию\n",
    "\n",
    "1. Нет статистически значимого различия по среднему чеку между группами ни по «сырым», ни по данным после фильтрации аномалий\n",
    "\n",
    "1. График различия конверсии между группами сообщает, что результаты группы B лучше группы A и они почти зафиксировались\n",
    "\n",
    "1. График различия среднего чека говорит о том, что на результаты группы B сильно повлияли аномалии, он слишком колеблется и ещё не зафиксировался, определённые выводы сделать нельзя\n",
    "\n",
    "\n",
    "Исходя из обнаруженных фактов, тест следует остановить и признать его успешным!"
   ]
  },
  {
   "cell_type": "markdown",
   "metadata": {},
   "source": [
    "**Вывод шага 4:**"
   ]
  },
  {
   "cell_type": "markdown",
   "metadata": {},
   "source": [
    "Был проведён анализ результатов A/B-теста: \n",
    "- построены графики конверсии, среднего чека для каждой из групп и относительного изменения по этим параметрам\n",
    "- найдены границы для определения выбивающихся данных\n",
    "- построены графики конверсии и среднего чека по группам уже на очищенных данных\n",
    "- для \"сырых\" и \"чистых\" данных посчитана статистическая значимость различий конверсии и среднего чека\n",
    "- сделан вывод об успешности теста и его остановке"
   ]
  },
  {
   "cell_type": "markdown",
   "metadata": {},
   "source": [
    "### Шаг 5. Общий вывод"
   ]
  },
  {
   "cell_type": "markdown",
   "metadata": {},
   "source": [
    "- Были проанализированные данные о гипотезах и результатах A/B-теста для интернет-магазина. \n",
    "- Данные оптимизированы, приведены к нужным типам и проверены на корректность.\n",
    "- Выделены приоритетные гипотезы:\n",
    "    - по фреймворку ICE это 8, 0 и 7 гипотезы\n",
    "    - по фреймворку RICE это 7, 2 и 0 гипотезы\n",
    "    \n",
    "Таким образом, если нужно выбрать только одну гипотезу, то лучше обратить внимание на номер 7 - она охватит большую часть пользователей, окажет на них большое влияние и не потребует больших затрат на реализацию.\n",
    "\n",
    "А если есть ресурсы на большее число гипотез, то стоит обратить внимание на номера 0, 2, 6, 7 и 8 - именно они имеют топ-5 приоритет по результатам обоих фреймворков.\n",
    "- Проведён и проанализирован A/B-тест:\n",
    "    - группа B лучше группы A по конверсии\n",
    "    - но по среднему чеку их пока нельзя сравнить\n",
    "    \n",
    "В целом, тест можно завершить, признав победу группы B. Но если важно различие по среднему чеку, то тогда лучше продолжить тест. Всё зависит от целей компании."
   ]
  }
 ],
 "metadata": {
  "kernelspec": {
   "display_name": "Python 3",
   "language": "python",
   "name": "python3"
  },
  "language_info": {
   "codemirror_mode": {
    "name": "ipython",
    "version": 3
   },
   "file_extension": ".py",
   "mimetype": "text/x-python",
   "name": "python",
   "nbconvert_exporter": "python",
   "pygments_lexer": "ipython3",
   "version": "3.8.3"
  }
 },
 "nbformat": 4,
 "nbformat_minor": 2
}
