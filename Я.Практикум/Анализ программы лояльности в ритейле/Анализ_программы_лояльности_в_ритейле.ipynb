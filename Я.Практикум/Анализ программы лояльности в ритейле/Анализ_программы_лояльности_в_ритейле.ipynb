{
 "cells": [
  {
   "cell_type": "markdown",
   "metadata": {},
   "source": [
    "# Анализ программы лояльности"
   ]
  },
  {
   "cell_type": "markdown",
   "metadata": {},
   "source": [
    "## Описание данных\n",
    "\n",
    "Нам были предоставлены данные о покупках клиентов магазина в разбивке по участию в программе лояльности, а также таблица с ценами товаров."
   ]
  },
  {
   "cell_type": "markdown",
   "metadata": {},
   "source": [
    "### План по выполнению проекта:\n",
    "1. Загрузить данные и изучить их\n",
    "1. Предобработать данные для анализа\n",
    "    - Заменить названия столбцов\n",
    "    - Проверить данные на пропуски и дубликаты\n",
    "    - Изменить типы данных, если нужно\n",
    "1. Провести исследовательский анализ данных\n",
    "    - Провести анализ пропусков\n",
    "    - Провести анализ выбросов и аномальных значений\n",
    "    - В разбивке по участию в программе лояльности посчитать средний чек и количество товаров в нём\n",
    "    - Построить графики распределения для лояльных клиентов и обычных\n",
    "1. Проверить гипотезы\n",
    "    - Средний чек лояльных пользователей выше, чем у тех, кто в программе лояльности не участвует\n",
    "    - Лояльные пользователи в среднем покупают больше товаров за раз\n",
    "1. Написать общий вывод и дать рекомендации по развитию программы лояльности"
   ]
  },
  {
   "cell_type": "code",
   "execution_count": 1,
   "metadata": {
    "ExecuteTime": {
     "end_time": "2021-02-12T18:44:30.707408Z",
     "start_time": "2021-02-12T18:44:27.184353Z"
    }
   },
   "outputs": [],
   "source": [
    "import pandas as pd\n",
    "import numpy as np\n",
    "import matplotlib.pyplot as plt\n",
    "import seaborn as sns\n",
    "import warnings\n",
    "import plotly.figure_factory as ff\n",
    "from IPython.display import display\n",
    "from scipy import stats as st\n",
    "warnings.filterwarnings('ignore')"
   ]
  },
  {
   "cell_type": "markdown",
   "metadata": {},
   "source": [
    "### Шаг 1. Знакомство с данными "
   ]
  },
  {
   "cell_type": "code",
   "execution_count": 2,
   "metadata": {
    "ExecuteTime": {
     "end_time": "2021-02-12T18:44:30.876911Z",
     "start_time": "2021-02-12T18:44:30.711631Z"
    }
   },
   "outputs": [],
   "source": [
    "retail = pd.read_csv('retail_dataset.csv')\n",
    "products = pd.read_csv('product_codes.csv')"
   ]
  },
  {
   "cell_type": "code",
   "execution_count": 3,
   "metadata": {
    "ExecuteTime": {
     "end_time": "2021-02-12T18:44:30.953822Z",
     "start_time": "2021-02-12T18:44:30.881096Z"
    }
   },
   "outputs": [
    {
     "name": "stdout",
     "output_type": "stream",
     "text": [
      "<class 'pandas.core.frame.DataFrame'>\n",
      "RangeIndex: 105335 entries, 0 to 105334\n",
      "Data columns (total 7 columns):\n",
      " #   Column           Non-Null Count   Dtype  \n",
      "---  ------           --------------   -----  \n",
      " 0   purchaseid       105335 non-null  object \n",
      " 1   item_ID          105335 non-null  object \n",
      " 2   Quantity         105335 non-null  int64  \n",
      " 3   purchasedate     105335 non-null  object \n",
      " 4   CustomerID       69125 non-null   float64\n",
      " 5   ShopID           105335 non-null  object \n",
      " 6   loyalty_program  105335 non-null  float64\n",
      "dtypes: float64(2), int64(1), object(4)\n",
      "memory usage: 5.6+ MB\n"
     ]
    },
    {
     "data": {
      "text/plain": [
       "None"
      ]
     },
     "metadata": {},
     "output_type": "display_data"
    },
    {
     "data": {
      "text/html": [
       "<div>\n",
       "<style scoped>\n",
       "    .dataframe tbody tr th:only-of-type {\n",
       "        vertical-align: middle;\n",
       "    }\n",
       "\n",
       "    .dataframe tbody tr th {\n",
       "        vertical-align: top;\n",
       "    }\n",
       "\n",
       "    .dataframe thead th {\n",
       "        text-align: right;\n",
       "    }\n",
       "</style>\n",
       "<table border=\"1\" class=\"dataframe\">\n",
       "  <thead>\n",
       "    <tr style=\"text-align: right;\">\n",
       "      <th></th>\n",
       "      <th>purchaseid</th>\n",
       "      <th>item_ID</th>\n",
       "      <th>Quantity</th>\n",
       "      <th>purchasedate</th>\n",
       "      <th>CustomerID</th>\n",
       "      <th>ShopID</th>\n",
       "      <th>loyalty_program</th>\n",
       "    </tr>\n",
       "  </thead>\n",
       "  <tbody>\n",
       "    <tr>\n",
       "      <th>50903</th>\n",
       "      <td>538881</td>\n",
       "      <td>82583</td>\n",
       "      <td>0</td>\n",
       "      <td>2016-12-14 15:54:00</td>\n",
       "      <td>NaN</td>\n",
       "      <td>Shop 0</td>\n",
       "      <td>0.0</td>\n",
       "    </tr>\n",
       "    <tr>\n",
       "      <th>52995</th>\n",
       "      <td>537399</td>\n",
       "      <td>20986</td>\n",
       "      <td>2</td>\n",
       "      <td>2016-12-06 14:31:00</td>\n",
       "      <td>18709.0</td>\n",
       "      <td>Shop 0</td>\n",
       "      <td>0.0</td>\n",
       "    </tr>\n",
       "    <tr>\n",
       "      <th>1544</th>\n",
       "      <td>544073</td>\n",
       "      <td>22960</td>\n",
       "      <td>47</td>\n",
       "      <td>2017-02-15 14:44:00</td>\n",
       "      <td>20614.0</td>\n",
       "      <td>Shop 16</td>\n",
       "      <td>0.0</td>\n",
       "    </tr>\n",
       "    <tr>\n",
       "      <th>39169</th>\n",
       "      <td>543382</td>\n",
       "      <td>21068</td>\n",
       "      <td>5</td>\n",
       "      <td>2017-02-07 16:21:00</td>\n",
       "      <td>19709.0</td>\n",
       "      <td>Shop 0</td>\n",
       "      <td>0.0</td>\n",
       "    </tr>\n",
       "    <tr>\n",
       "      <th>4578</th>\n",
       "      <td>537643</td>\n",
       "      <td>22469</td>\n",
       "      <td>4</td>\n",
       "      <td>2016-12-07 15:34:00</td>\n",
       "      <td>NaN</td>\n",
       "      <td>Shop 0</td>\n",
       "      <td>0.0</td>\n",
       "    </tr>\n",
       "  </tbody>\n",
       "</table>\n",
       "</div>"
      ],
      "text/plain": [
       "      purchaseid item_ID  Quantity         purchasedate  CustomerID   ShopID  \\\n",
       "50903     538881   82583         0  2016-12-14 15:54:00         NaN   Shop 0   \n",
       "52995     537399   20986         2  2016-12-06 14:31:00     18709.0   Shop 0   \n",
       "1544      544073   22960        47  2017-02-15 14:44:00     20614.0  Shop 16   \n",
       "39169     543382   21068         5  2017-02-07 16:21:00     19709.0   Shop 0   \n",
       "4578      537643   22469         4  2016-12-07 15:34:00         NaN   Shop 0   \n",
       "\n",
       "       loyalty_program  \n",
       "50903              0.0  \n",
       "52995              0.0  \n",
       "1544               0.0  \n",
       "39169              0.0  \n",
       "4578               0.0  "
      ]
     },
     "metadata": {},
     "output_type": "display_data"
    },
    {
     "name": "stdout",
     "output_type": "stream",
     "text": [
      "<class 'pandas.core.frame.DataFrame'>\n",
      "RangeIndex: 9969 entries, 0 to 9968\n",
      "Data columns (total 2 columns):\n",
      " #   Column         Non-Null Count  Dtype  \n",
      "---  ------         --------------  -----  \n",
      " 0   productID      9969 non-null   object \n",
      " 1   price_per_one  9969 non-null   float64\n",
      "dtypes: float64(1), object(1)\n",
      "memory usage: 155.9+ KB\n"
     ]
    },
    {
     "data": {
      "text/plain": [
       "None"
      ]
     },
     "metadata": {},
     "output_type": "display_data"
    },
    {
     "data": {
      "text/html": [
       "<div>\n",
       "<style scoped>\n",
       "    .dataframe tbody tr th:only-of-type {\n",
       "        vertical-align: middle;\n",
       "    }\n",
       "\n",
       "    .dataframe tbody tr th {\n",
       "        vertical-align: top;\n",
       "    }\n",
       "\n",
       "    .dataframe thead th {\n",
       "        text-align: right;\n",
       "    }\n",
       "</style>\n",
       "<table border=\"1\" class=\"dataframe\">\n",
       "  <thead>\n",
       "    <tr style=\"text-align: right;\">\n",
       "      <th></th>\n",
       "      <th>productID</th>\n",
       "      <th>price_per_one</th>\n",
       "    </tr>\n",
       "  </thead>\n",
       "  <tbody>\n",
       "    <tr>\n",
       "      <th>1035</th>\n",
       "      <td>22719</td>\n",
       "      <td>2.51</td>\n",
       "    </tr>\n",
       "    <tr>\n",
       "      <th>735</th>\n",
       "      <td>22049</td>\n",
       "      <td>0.42</td>\n",
       "    </tr>\n",
       "    <tr>\n",
       "      <th>7804</th>\n",
       "      <td>22630</td>\n",
       "      <td>4.13</td>\n",
       "    </tr>\n",
       "    <tr>\n",
       "      <th>8116</th>\n",
       "      <td>90101</td>\n",
       "      <td>2.48</td>\n",
       "    </tr>\n",
       "    <tr>\n",
       "      <th>1123</th>\n",
       "      <td>71459</td>\n",
       "      <td>1.69</td>\n",
       "    </tr>\n",
       "  </tbody>\n",
       "</table>\n",
       "</div>"
      ],
      "text/plain": [
       "     productID  price_per_one\n",
       "1035     22719           2.51\n",
       "735      22049           0.42\n",
       "7804     22630           4.13\n",
       "8116     90101           2.48\n",
       "1123     71459           1.69"
      ]
     },
     "metadata": {},
     "output_type": "display_data"
    }
   ],
   "source": [
    "for df in [retail, products]:\n",
    "    display(df.info())\n",
    "    display(df.sample(5))"
   ]
  },
  {
   "cell_type": "markdown",
   "metadata": {},
   "source": [
    "**Вывод шага 1:**\n",
    "\n",
    "Первый взгляд на данные сделан:\n",
    "- нужно привести названия столбцов к единому виду\n",
    "- проверить данные на дубликаты\n",
    "- нужно заменить тип данных в столбце с датой покупки\n",
    "- нужно задуматься об оптимизации памяти: привести к другому типу столбцы `ShopID` и `loyalty_program`\n",
    "- пропуски есть лишь в столбце с айди клиента, этих пропусков достаточно много, нужно проанализировать их"
   ]
  },
  {
   "cell_type": "markdown",
   "metadata": {},
   "source": [
    "### Шаг 2. Предобработка данных"
   ]
  },
  {
   "cell_type": "markdown",
   "metadata": {},
   "source": [
    "#### 2.1 Замена названий столбцов"
   ]
  },
  {
   "cell_type": "code",
   "execution_count": 4,
   "metadata": {
    "ExecuteTime": {
     "end_time": "2021-02-12T18:44:30.983632Z",
     "start_time": "2021-02-12T18:44:30.954709Z"
    }
   },
   "outputs": [],
   "source": [
    "retail = retail.rename(columns = {'purchaseid': 'purchase_id', 'item_ID': 'item_id',\n",
    "                                  'Quantity': 'quantity', 'purchasedate': 'purchase_date',\n",
    "                                  'CustomerID': 'customer_id', 'ShopID': 'shop_id', \n",
    "                                  'loyalty_program': 'loyal'})"
   ]
  },
  {
   "cell_type": "code",
   "execution_count": 5,
   "metadata": {
    "ExecuteTime": {
     "end_time": "2021-02-12T18:44:30.999590Z",
     "start_time": "2021-02-12T18:44:30.986622Z"
    }
   },
   "outputs": [],
   "source": [
    "products = products.rename(columns = {'productID': 'item_id'})"
   ]
  },
  {
   "cell_type": "markdown",
   "metadata": {},
   "source": [
    "#### 2.2 Поиск дубликатов"
   ]
  },
  {
   "cell_type": "code",
   "execution_count": 6,
   "metadata": {
    "ExecuteTime": {
     "end_time": "2021-02-12T18:44:31.138240Z",
     "start_time": "2021-02-12T18:44:31.002582Z"
    },
    "scrolled": false
   },
   "outputs": [
    {
     "data": {
      "text/html": [
       "<div>\n",
       "<style scoped>\n",
       "    .dataframe tbody tr th:only-of-type {\n",
       "        vertical-align: middle;\n",
       "    }\n",
       "\n",
       "    .dataframe tbody tr th {\n",
       "        vertical-align: top;\n",
       "    }\n",
       "\n",
       "    .dataframe thead th {\n",
       "        text-align: right;\n",
       "    }\n",
       "</style>\n",
       "<table border=\"1\" class=\"dataframe\">\n",
       "  <thead>\n",
       "    <tr style=\"text-align: right;\">\n",
       "      <th></th>\n",
       "      <th>purchase_id</th>\n",
       "      <th>item_id</th>\n",
       "      <th>quantity</th>\n",
       "      <th>purchase_date</th>\n",
       "      <th>customer_id</th>\n",
       "      <th>shop_id</th>\n",
       "      <th>loyal</th>\n",
       "    </tr>\n",
       "  </thead>\n",
       "  <tbody>\n",
       "    <tr>\n",
       "      <th>5345</th>\n",
       "      <td>537265</td>\n",
       "      <td>21499</td>\n",
       "      <td>24</td>\n",
       "      <td>2016-12-06 11:26:00</td>\n",
       "      <td>21598.0</td>\n",
       "      <td>Shop 0</td>\n",
       "      <td>0.0</td>\n",
       "    </tr>\n",
       "    <tr>\n",
       "      <th>5863</th>\n",
       "      <td>540803</td>\n",
       "      <td>21485</td>\n",
       "      <td>0</td>\n",
       "      <td>2017-01-11 12:30:00</td>\n",
       "      <td>20348.0</td>\n",
       "      <td>Shop 0</td>\n",
       "      <td>0.0</td>\n",
       "    </tr>\n",
       "    <tr>\n",
       "      <th>6893</th>\n",
       "      <td>540524</td>\n",
       "      <td>21326</td>\n",
       "      <td>11</td>\n",
       "      <td>2017-01-09 12:53:00</td>\n",
       "      <td>22414.0</td>\n",
       "      <td>Shop 0</td>\n",
       "      <td>1.0</td>\n",
       "    </tr>\n",
       "    <tr>\n",
       "      <th>7821</th>\n",
       "      <td>537192</td>\n",
       "      <td>22585</td>\n",
       "      <td>0</td>\n",
       "      <td>2016-12-05 13:42:00</td>\n",
       "      <td>22081.0</td>\n",
       "      <td>Shop 0</td>\n",
       "      <td>1.0</td>\n",
       "    </tr>\n",
       "    <tr>\n",
       "      <th>10806</th>\n",
       "      <td>537772</td>\n",
       "      <td>22080</td>\n",
       "      <td>4</td>\n",
       "      <td>2016-12-08 12:35:00</td>\n",
       "      <td>23722.0</td>\n",
       "      <td>Shop 0</td>\n",
       "      <td>1.0</td>\n",
       "    </tr>\n",
       "    <tr>\n",
       "      <th>...</th>\n",
       "      <td>...</td>\n",
       "      <td>...</td>\n",
       "      <td>...</td>\n",
       "      <td>...</td>\n",
       "      <td>...</td>\n",
       "      <td>...</td>\n",
       "      <td>...</td>\n",
       "    </tr>\n",
       "    <tr>\n",
       "      <th>105164</th>\n",
       "      <td>542224</td>\n",
       "      <td>22178</td>\n",
       "      <td>5</td>\n",
       "      <td>2017-01-26 12:45:00</td>\n",
       "      <td>23567.0</td>\n",
       "      <td>Shop 0</td>\n",
       "      <td>1.0</td>\n",
       "    </tr>\n",
       "    <tr>\n",
       "      <th>105173</th>\n",
       "      <td>544153</td>\n",
       "      <td>82552</td>\n",
       "      <td>1</td>\n",
       "      <td>2017-02-16 12:11:00</td>\n",
       "      <td>21035.0</td>\n",
       "      <td>Shop 0</td>\n",
       "      <td>0.0</td>\n",
       "    </tr>\n",
       "    <tr>\n",
       "      <th>105178</th>\n",
       "      <td>540839</td>\n",
       "      <td>21123</td>\n",
       "      <td>0</td>\n",
       "      <td>2017-01-11 15:42:00</td>\n",
       "      <td>22470.0</td>\n",
       "      <td>Shop 0</td>\n",
       "      <td>1.0</td>\n",
       "    </tr>\n",
       "    <tr>\n",
       "      <th>105229</th>\n",
       "      <td>543277</td>\n",
       "      <td>21533</td>\n",
       "      <td>0</td>\n",
       "      <td>2017-02-06 14:33:00</td>\n",
       "      <td>21487.0</td>\n",
       "      <td>Shop 0</td>\n",
       "      <td>0.0</td>\n",
       "    </tr>\n",
       "    <tr>\n",
       "      <th>105233</th>\n",
       "      <td>538313</td>\n",
       "      <td>22725</td>\n",
       "      <td>0</td>\n",
       "      <td>2016-12-10 13:50:00</td>\n",
       "      <td>21193.0</td>\n",
       "      <td>Shop 0</td>\n",
       "      <td>0.0</td>\n",
       "    </tr>\n",
       "  </tbody>\n",
       "</table>\n",
       "<p>1033 rows × 7 columns</p>\n",
       "</div>"
      ],
      "text/plain": [
       "       purchase_id item_id  quantity        purchase_date  customer_id  \\\n",
       "5345        537265   21499        24  2016-12-06 11:26:00      21598.0   \n",
       "5863        540803   21485         0  2017-01-11 12:30:00      20348.0   \n",
       "6893        540524   21326        11  2017-01-09 12:53:00      22414.0   \n",
       "7821        537192   22585         0  2016-12-05 13:42:00      22081.0   \n",
       "10806       537772   22080         4  2016-12-08 12:35:00      23722.0   \n",
       "...            ...     ...       ...                  ...          ...   \n",
       "105164      542224   22178         5  2017-01-26 12:45:00      23567.0   \n",
       "105173      544153   82552         1  2017-02-16 12:11:00      21035.0   \n",
       "105178      540839   21123         0  2017-01-11 15:42:00      22470.0   \n",
       "105229      543277   21533         0  2017-02-06 14:33:00      21487.0   \n",
       "105233      538313   22725         0  2016-12-10 13:50:00      21193.0   \n",
       "\n",
       "       shop_id  loyal  \n",
       "5345    Shop 0    0.0  \n",
       "5863    Shop 0    0.0  \n",
       "6893    Shop 0    1.0  \n",
       "7821    Shop 0    1.0  \n",
       "10806   Shop 0    1.0  \n",
       "...        ...    ...  \n",
       "105164  Shop 0    1.0  \n",
       "105173  Shop 0    0.0  \n",
       "105178  Shop 0    1.0  \n",
       "105229  Shop 0    0.0  \n",
       "105233  Shop 0    0.0  \n",
       "\n",
       "[1033 rows x 7 columns]"
      ]
     },
     "metadata": {},
     "output_type": "display_data"
    },
    {
     "name": "stdout",
     "output_type": "stream",
     "text": [
      "Доля дубликатов: 0.98%\n"
     ]
    },
    {
     "data": {
      "text/html": [
       "<div>\n",
       "<style scoped>\n",
       "    .dataframe tbody tr th:only-of-type {\n",
       "        vertical-align: middle;\n",
       "    }\n",
       "\n",
       "    .dataframe tbody tr th {\n",
       "        vertical-align: top;\n",
       "    }\n",
       "\n",
       "    .dataframe thead th {\n",
       "        text-align: right;\n",
       "    }\n",
       "</style>\n",
       "<table border=\"1\" class=\"dataframe\">\n",
       "  <thead>\n",
       "    <tr style=\"text-align: right;\">\n",
       "      <th></th>\n",
       "      <th>item_id</th>\n",
       "      <th>price_per_one</th>\n",
       "    </tr>\n",
       "  </thead>\n",
       "  <tbody>\n",
       "  </tbody>\n",
       "</table>\n",
       "</div>"
      ],
      "text/plain": [
       "Empty DataFrame\n",
       "Columns: [item_id, price_per_one]\n",
       "Index: []"
      ]
     },
     "metadata": {},
     "output_type": "display_data"
    },
    {
     "name": "stdout",
     "output_type": "stream",
     "text": [
      "Доля дубликатов: 0.00%\n"
     ]
    }
   ],
   "source": [
    "for df in [retail, products]:\n",
    "    display(df[df.duplicated()])\n",
    "    print('Доля дубликатов: {:.2%}'.format(df.duplicated().mean()))"
   ]
  },
  {
   "cell_type": "markdown",
   "metadata": {},
   "source": [
    "Дубликаты есть только в таблице `retail` и их меньше 1%. Вряд ли удаление сильно скажется на анализе. Но перед этим попробуем предположить причину и последствия такого дублирования."
   ]
  },
  {
   "cell_type": "code",
   "execution_count": 7,
   "metadata": {
    "ExecuteTime": {
     "end_time": "2021-02-12T18:44:31.169134Z",
     "start_time": "2021-02-12T18:44:31.140212Z"
    }
   },
   "outputs": [
    {
     "data": {
      "text/html": [
       "<div>\n",
       "<style scoped>\n",
       "    .dataframe tbody tr th:only-of-type {\n",
       "        vertical-align: middle;\n",
       "    }\n",
       "\n",
       "    .dataframe tbody tr th {\n",
       "        vertical-align: top;\n",
       "    }\n",
       "\n",
       "    .dataframe thead th {\n",
       "        text-align: right;\n",
       "    }\n",
       "</style>\n",
       "<table border=\"1\" class=\"dataframe\">\n",
       "  <thead>\n",
       "    <tr style=\"text-align: right;\">\n",
       "      <th></th>\n",
       "      <th>purchase_id</th>\n",
       "      <th>item_id</th>\n",
       "      <th>quantity</th>\n",
       "      <th>purchase_date</th>\n",
       "      <th>customer_id</th>\n",
       "      <th>shop_id</th>\n",
       "      <th>loyal</th>\n",
       "    </tr>\n",
       "  </thead>\n",
       "  <tbody>\n",
       "    <tr>\n",
       "      <th>7490</th>\n",
       "      <td>542224</td>\n",
       "      <td>17012D</td>\n",
       "      <td>0</td>\n",
       "      <td>2017-01-26 12:45:00</td>\n",
       "      <td>23567.0</td>\n",
       "      <td>Shop 0</td>\n",
       "      <td>1.0</td>\n",
       "    </tr>\n",
       "    <tr>\n",
       "      <th>57160</th>\n",
       "      <td>542224</td>\n",
       "      <td>17012D</td>\n",
       "      <td>0</td>\n",
       "      <td>2017-01-26 12:45:00</td>\n",
       "      <td>23567.0</td>\n",
       "      <td>Shop 0</td>\n",
       "      <td>1.0</td>\n",
       "    </tr>\n",
       "    <tr>\n",
       "      <th>76879</th>\n",
       "      <td>542224</td>\n",
       "      <td>21034</td>\n",
       "      <td>0</td>\n",
       "      <td>2017-01-26 12:45:00</td>\n",
       "      <td>23567.0</td>\n",
       "      <td>Shop 0</td>\n",
       "      <td>1.0</td>\n",
       "    </tr>\n",
       "    <tr>\n",
       "      <th>6475</th>\n",
       "      <td>542224</td>\n",
       "      <td>22178</td>\n",
       "      <td>5</td>\n",
       "      <td>2017-01-26 12:45:00</td>\n",
       "      <td>23567.0</td>\n",
       "      <td>Shop 0</td>\n",
       "      <td>1.0</td>\n",
       "    </tr>\n",
       "    <tr>\n",
       "      <th>105164</th>\n",
       "      <td>542224</td>\n",
       "      <td>22178</td>\n",
       "      <td>5</td>\n",
       "      <td>2017-01-26 12:45:00</td>\n",
       "      <td>23567.0</td>\n",
       "      <td>Shop 0</td>\n",
       "      <td>1.0</td>\n",
       "    </tr>\n",
       "    <tr>\n",
       "      <th>23288</th>\n",
       "      <td>542224</td>\n",
       "      <td>22371</td>\n",
       "      <td>0</td>\n",
       "      <td>2017-01-26 12:45:00</td>\n",
       "      <td>23567.0</td>\n",
       "      <td>Shop 0</td>\n",
       "      <td>1.0</td>\n",
       "    </tr>\n",
       "    <tr>\n",
       "      <th>80023</th>\n",
       "      <td>542224</td>\n",
       "      <td>22372</td>\n",
       "      <td>0</td>\n",
       "      <td>2017-01-26 12:45:00</td>\n",
       "      <td>23567.0</td>\n",
       "      <td>Shop 0</td>\n",
       "      <td>1.0</td>\n",
       "    </tr>\n",
       "    <tr>\n",
       "      <th>42673</th>\n",
       "      <td>542224</td>\n",
       "      <td>22374</td>\n",
       "      <td>0</td>\n",
       "      <td>2017-01-26 12:45:00</td>\n",
       "      <td>23567.0</td>\n",
       "      <td>Shop 0</td>\n",
       "      <td>1.0</td>\n",
       "    </tr>\n",
       "    <tr>\n",
       "      <th>49501</th>\n",
       "      <td>542224</td>\n",
       "      <td>40016</td>\n",
       "      <td>23</td>\n",
       "      <td>2017-01-26 12:45:00</td>\n",
       "      <td>23567.0</td>\n",
       "      <td>Shop 0</td>\n",
       "      <td>1.0</td>\n",
       "    </tr>\n",
       "    <tr>\n",
       "      <th>29296</th>\n",
       "      <td>542224</td>\n",
       "      <td>47566</td>\n",
       "      <td>2</td>\n",
       "      <td>2017-01-26 12:45:00</td>\n",
       "      <td>23567.0</td>\n",
       "      <td>Shop 0</td>\n",
       "      <td>1.0</td>\n",
       "    </tr>\n",
       "    <tr>\n",
       "      <th>45286</th>\n",
       "      <td>542224</td>\n",
       "      <td>72598</td>\n",
       "      <td>2</td>\n",
       "      <td>2017-01-26 12:45:00</td>\n",
       "      <td>23567.0</td>\n",
       "      <td>Shop 0</td>\n",
       "      <td>1.0</td>\n",
       "    </tr>\n",
       "    <tr>\n",
       "      <th>84517</th>\n",
       "      <td>542224</td>\n",
       "      <td>72798C</td>\n",
       "      <td>1</td>\n",
       "      <td>2017-01-26 12:45:00</td>\n",
       "      <td>23567.0</td>\n",
       "      <td>Shop 0</td>\n",
       "      <td>1.0</td>\n",
       "    </tr>\n",
       "    <tr>\n",
       "      <th>72248</th>\n",
       "      <td>542224</td>\n",
       "      <td>84755</td>\n",
       "      <td>7</td>\n",
       "      <td>2017-01-26 12:45:00</td>\n",
       "      <td>23567.0</td>\n",
       "      <td>Shop 0</td>\n",
       "      <td>1.0</td>\n",
       "    </tr>\n",
       "    <tr>\n",
       "      <th>56361</th>\n",
       "      <td>542224</td>\n",
       "      <td>85062</td>\n",
       "      <td>5</td>\n",
       "      <td>2017-01-26 12:45:00</td>\n",
       "      <td>23567.0</td>\n",
       "      <td>Shop 0</td>\n",
       "      <td>1.0</td>\n",
       "    </tr>\n",
       "    <tr>\n",
       "      <th>14692</th>\n",
       "      <td>542224</td>\n",
       "      <td>85230F</td>\n",
       "      <td>47</td>\n",
       "      <td>2017-01-26 12:45:00</td>\n",
       "      <td>23567.0</td>\n",
       "      <td>Shop 0</td>\n",
       "      <td>1.0</td>\n",
       "    </tr>\n",
       "  </tbody>\n",
       "</table>\n",
       "</div>"
      ],
      "text/plain": [
       "       purchase_id item_id  quantity        purchase_date  customer_id  \\\n",
       "7490        542224  17012D         0  2017-01-26 12:45:00      23567.0   \n",
       "57160       542224  17012D         0  2017-01-26 12:45:00      23567.0   \n",
       "76879       542224   21034         0  2017-01-26 12:45:00      23567.0   \n",
       "6475        542224   22178         5  2017-01-26 12:45:00      23567.0   \n",
       "105164      542224   22178         5  2017-01-26 12:45:00      23567.0   \n",
       "23288       542224   22371         0  2017-01-26 12:45:00      23567.0   \n",
       "80023       542224   22372         0  2017-01-26 12:45:00      23567.0   \n",
       "42673       542224   22374         0  2017-01-26 12:45:00      23567.0   \n",
       "49501       542224   40016        23  2017-01-26 12:45:00      23567.0   \n",
       "29296       542224   47566         2  2017-01-26 12:45:00      23567.0   \n",
       "45286       542224   72598         2  2017-01-26 12:45:00      23567.0   \n",
       "84517       542224  72798C         1  2017-01-26 12:45:00      23567.0   \n",
       "72248       542224   84755         7  2017-01-26 12:45:00      23567.0   \n",
       "56361       542224   85062         5  2017-01-26 12:45:00      23567.0   \n",
       "14692       542224  85230F        47  2017-01-26 12:45:00      23567.0   \n",
       "\n",
       "       shop_id  loyal  \n",
       "7490    Shop 0    1.0  \n",
       "57160   Shop 0    1.0  \n",
       "76879   Shop 0    1.0  \n",
       "6475    Shop 0    1.0  \n",
       "105164  Shop 0    1.0  \n",
       "23288   Shop 0    1.0  \n",
       "80023   Shop 0    1.0  \n",
       "42673   Shop 0    1.0  \n",
       "49501   Shop 0    1.0  \n",
       "29296   Shop 0    1.0  \n",
       "45286   Shop 0    1.0  \n",
       "84517   Shop 0    1.0  \n",
       "72248   Shop 0    1.0  \n",
       "56361   Shop 0    1.0  \n",
       "14692   Shop 0    1.0  "
      ]
     },
     "execution_count": 7,
     "metadata": {},
     "output_type": "execute_result"
    }
   ],
   "source": [
    "retail[retail['purchase_id'] == '542224'].sort_values(by = 'item_id')"
   ]
  },
  {
   "cell_type": "markdown",
   "metadata": {},
   "source": [
    "В одной покупке продублировались 2 строчки:\n",
    "- товар 17012D в количестве 0 штук\n",
    "- товар 22178 в количестве 5 штук\n",
    "\n",
    "Первый товар возможно был по акции, и он не влияет на средний чек или количество товаров в чеке. \n",
    "\n",
    "Другой товар мог продублировать случайно, тогда это может повлиять на эти метрики. Ведь есть разница между 5 штуками или 10. Или это случилось из-за кассира.\n",
    "\n",
    "Решение: удалить дубликаты, так как их немного, но они могут исказить данные."
   ]
  },
  {
   "cell_type": "code",
   "execution_count": 8,
   "metadata": {
    "ExecuteTime": {
     "end_time": "2021-02-12T18:44:31.245219Z",
     "start_time": "2021-02-12T18:44:31.172127Z"
    }
   },
   "outputs": [],
   "source": [
    "retail = retail.drop_duplicates()"
   ]
  },
  {
   "cell_type": "markdown",
   "metadata": {},
   "source": [
    "#### 2.3 Замена типов данных"
   ]
  },
  {
   "cell_type": "markdown",
   "metadata": {},
   "source": [
    "Для даты."
   ]
  },
  {
   "cell_type": "code",
   "execution_count": 9,
   "metadata": {
    "ExecuteTime": {
     "end_time": "2021-02-12T18:44:31.338642Z",
     "start_time": "2021-02-12T18:44:31.246991Z"
    }
   },
   "outputs": [],
   "source": [
    "retail['purchase_date'] = pd.to_datetime(retail['purchase_date'], format = '%Y-%m-%d %H:%M:%S')"
   ]
  },
  {
   "cell_type": "markdown",
   "metadata": {},
   "source": [
    "Для `loyalty_program`, так как тип значения 0 и 1 лучше записывать в тип `bool`."
   ]
  },
  {
   "cell_type": "code",
   "execution_count": 10,
   "metadata": {
    "ExecuteTime": {
     "end_time": "2021-02-12T18:44:31.353823Z",
     "start_time": "2021-02-12T18:44:31.340284Z"
    }
   },
   "outputs": [],
   "source": [
    "retail['loyal'] = retail['loyal'].astype('bool')"
   ]
  },
  {
   "cell_type": "markdown",
   "metadata": {},
   "source": [
    "Для `shop_id`, чтобы оставить только номер магазина и преобразовать к типу `int`."
   ]
  },
  {
   "cell_type": "code",
   "execution_count": 11,
   "metadata": {
    "ExecuteTime": {
     "end_time": "2021-02-12T18:44:31.586727Z",
     "start_time": "2021-02-12T18:44:31.356243Z"
    }
   },
   "outputs": [],
   "source": [
    "retail['shop_id'] = retail['shop_id'].str.extract('(\\d+)').astype('int8')"
   ]
  },
  {
   "cell_type": "code",
   "execution_count": 12,
   "metadata": {
    "ExecuteTime": {
     "end_time": "2021-02-12T18:44:31.601955Z",
     "start_time": "2021-02-12T18:44:31.588988Z"
    }
   },
   "outputs": [
    {
     "data": {
      "text/plain": [
       "purchase_id              object\n",
       "item_id                  object\n",
       "quantity                  int64\n",
       "purchase_date    datetime64[ns]\n",
       "customer_id             float64\n",
       "shop_id                    int8\n",
       "loyal                      bool\n",
       "dtype: object"
      ]
     },
     "execution_count": 12,
     "metadata": {},
     "output_type": "execute_result"
    }
   ],
   "source": [
    "retail.dtypes"
   ]
  },
  {
   "cell_type": "markdown",
   "metadata": {},
   "source": [
    "**Вывод шага 2:**\n",
    "\n",
    "Произведена предобработка данных: удалены дубликаты, изменены названия столбцов и типы данных."
   ]
  },
  {
   "cell_type": "markdown",
   "metadata": {},
   "source": [
    "### Шаг 3. EDA "
   ]
  },
  {
   "cell_type": "markdown",
   "metadata": {},
   "source": [
    "#### 3.1 Анализ пропусков"
   ]
  },
  {
   "cell_type": "code",
   "execution_count": 13,
   "metadata": {
    "ExecuteTime": {
     "end_time": "2021-02-12T18:44:31.632147Z",
     "start_time": "2021-02-12T18:44:31.603949Z"
    }
   },
   "outputs": [
    {
     "data": {
      "text/plain": [
       "purchase_id      0.000000\n",
       "item_id          0.000000\n",
       "quantity         0.000000\n",
       "purchase_date    0.000000\n",
       "customer_id      0.346571\n",
       "shop_id          0.000000\n",
       "loyal            0.000000\n",
       "dtype: float64"
      ]
     },
     "execution_count": 13,
     "metadata": {},
     "output_type": "execute_result"
    }
   ],
   "source": [
    "retail.isna().mean()"
   ]
  },
  {
   "cell_type": "markdown",
   "metadata": {},
   "source": [
    "Почти 35% пользователей не имеют свой айди. Посмотрим, имеют ли эти анонимы какие-то общие черты."
   ]
  },
  {
   "cell_type": "code",
   "execution_count": 14,
   "metadata": {
    "ExecuteTime": {
     "end_time": "2021-02-12T18:44:31.662906Z",
     "start_time": "2021-02-12T18:44:31.634918Z"
    }
   },
   "outputs": [],
   "source": [
    "anon = retail[retail['customer_id'].isna()]"
   ]
  },
  {
   "cell_type": "code",
   "execution_count": 15,
   "metadata": {
    "ExecuteTime": {
     "end_time": "2021-02-12T18:44:31.707970Z",
     "start_time": "2021-02-12T18:44:31.663841Z"
    },
    "scrolled": false
   },
   "outputs": [
    {
     "name": "stdout",
     "output_type": "stream",
     "text": [
      "purchase_id\n",
      "537434    675\n",
      "538071    651\n",
      "538349    613\n",
      "537638    601\n",
      "537237    597\n",
      "         ... \n",
      "542415      1\n",
      "540696      1\n",
      "537008      1\n",
      "538139      1\n",
      "544773      1\n",
      "Name: purchase_id, Length: 748, dtype: int64\n",
      "\n",
      "item_id\n",
      "DOT         175\n",
      "85099B      112\n",
      "22197       107\n",
      "22379        94\n",
      "22469        93\n",
      "           ... \n",
      "21629         1\n",
      "21096         1\n",
      "85044         1\n",
      "20835         1\n",
      "DCGS0070      1\n",
      "Name: item_id, Length: 2663, dtype: int64\n",
      "\n",
      "quantity\n",
      " 0      19880\n",
      " 1       6525\n",
      " 2       2851\n",
      " 3       1732\n",
      " 4       1031\n",
      "        ...  \n",
      " 107        1\n",
      " 171        1\n",
      " 459        1\n",
      "-43         1\n",
      " 959        1\n",
      "Name: quantity, Length: 209, dtype: int64\n",
      "\n",
      "purchase_date\n",
      "2016-12-06 16:57:00    675\n",
      "2016-12-09 14:09:00    651\n",
      "2016-12-10 14:59:00    614\n",
      "2016-12-07 15:28:00    601\n",
      "2016-12-06 09:58:00    597\n",
      "                      ... \n",
      "2017-02-18 13:54:00      1\n",
      "2017-01-27 14:54:00      1\n",
      "2017-01-05 09:55:00      1\n",
      "2017-02-04 09:52:00      1\n",
      "2017-01-28 12:03:00      1\n",
      "Name: purchase_date, Length: 629, dtype: int64\n",
      "\n",
      "customer_id\n",
      "Series([], Name: customer_id, dtype: int64)\n",
      "\n",
      "shop_id\n",
      "0     35952\n",
      "6       127\n",
      "25       53\n",
      "21       14\n",
      "23        2\n",
      "Name: shop_id, dtype: int64\n",
      "\n",
      "loyal\n",
      "False    36148\n",
      "Name: loyal, dtype: int64\n",
      "\n"
     ]
    }
   ],
   "source": [
    "for col in anon.columns:\n",
    "    print(col)\n",
    "    print(anon[col].value_counts())\n",
    "    print()"
   ]
  },
  {
   "cell_type": "markdown",
   "metadata": {},
   "source": [
    "Ага, все эти пользователи не участвуют в программе лояльности. Посмотрим, насколько изменится доля лояльных клиентов, если мы удалим пропуски."
   ]
  },
  {
   "cell_type": "code",
   "execution_count": 16,
   "metadata": {
    "ExecuteTime": {
     "end_time": "2021-02-12T18:44:31.723818Z",
     "start_time": "2021-02-12T18:44:31.709586Z"
    }
   },
   "outputs": [
    {
     "name": "stdout",
     "output_type": "stream",
     "text": [
      "Доля лояльных пользователей по всем данным: 22.45%\n",
      "Доля лояльных пользователей по очищенным данным: 34.35%\n"
     ]
    }
   ],
   "source": [
    "print('Доля лояльных пользователей по всем данным: {:.2%}'\n",
    "      .format(retail['loyal'].mean()))\n",
    "print('Доля лояльных пользователей по очищенным данным: {:.2%}'\n",
    "      .format(retail.loc[retail['customer_id'].notna(), 'loyal'].mean()))"
   ]
  },
  {
   "cell_type": "markdown",
   "metadata": {},
   "source": [
    "Без неизвестных пользователей группы получились более сбалансированными. \n",
    "\n",
    "Мы не можем определить, один ли это клиент совершил 748 покупок, 20 ли клиентов или 748 клиентов сделали по 1 покупке. Я считаю, что лучше удалить, чтобы не искажать результаты исследования. "
   ]
  },
  {
   "cell_type": "code",
   "execution_count": 17,
   "metadata": {
    "ExecuteTime": {
     "end_time": "2021-02-12T18:44:31.769633Z",
     "start_time": "2021-02-12T18:44:31.724761Z"
    }
   },
   "outputs": [],
   "source": [
    "notna_retail = retail[retail['customer_id'].notna()].copy()"
   ]
  },
  {
   "cell_type": "markdown",
   "metadata": {},
   "source": [
    "#### 3.2 Анализ выбросов и аномальных значений"
   ]
  },
  {
   "cell_type": "code",
   "execution_count": 18,
   "metadata": {
    "ExecuteTime": {
     "end_time": "2021-02-12T18:44:32.016213Z",
     "start_time": "2021-02-12T18:44:31.770962Z"
    }
   },
   "outputs": [
    {
     "data": {
      "text/plain": [
       "count    68154.000000\n",
       "mean        11.119890\n",
       "std        406.602498\n",
       "min     -74216.000000\n",
       "25%          1.000000\n",
       "50%          4.000000\n",
       "75%         11.000000\n",
       "max      74214.000000\n",
       "Name: quantity, dtype: float64"
      ]
     },
     "execution_count": 18,
     "metadata": {},
     "output_type": "execute_result"
    }
   ],
   "source": [
    "notna_retail['quantity'].describe()"
   ]
  },
  {
   "cell_type": "markdown",
   "metadata": {},
   "source": [
    "В количестве товара присутствуют отрицательные значения (видимо, возвраты), а также аномальные значения, например, 74 тысячи единиц какого-то товара. \n",
    "\n",
    "Уберём отрицательные значения и посчитаем 95-й и 99-й перцентили количества товаров, выберем границу для отсчения данных."
   ]
  },
  {
   "cell_type": "code",
   "execution_count": 19,
   "metadata": {
    "ExecuteTime": {
     "end_time": "2021-02-12T18:44:32.093006Z",
     "start_time": "2021-02-12T18:44:32.023192Z"
    },
    "scrolled": true
   },
   "outputs": [
    {
     "name": "stdout",
     "output_type": "stream",
     "text": [
      "95% товаров покупаются в количестве не более 39.0 штук\n",
      "99% товаров покупаются в количестве не более 119.0 штук\n"
     ]
    }
   ],
   "source": [
    "percentiles = np.percentile(notna_retail.query('quantity >= 0')['quantity'], [95, 99])\n",
    "print(f'95% товаров покупаются в количестве не более {percentiles[0]} штук')\n",
    "print(f'99% товаров покупаются в количестве не более {percentiles[1]} штук')"
   ]
  },
  {
   "cell_type": "markdown",
   "metadata": {},
   "source": [
    "Предположим, что раз это строительный магазин, то что-то можно купить в количестве около ста штук. Но всё, что больше назовём аномальным количеством и отсечём."
   ]
  },
  {
   "cell_type": "code",
   "execution_count": 20,
   "metadata": {
    "ExecuteTime": {
     "end_time": "2021-02-12T18:44:33.030311Z",
     "start_time": "2021-02-12T18:44:32.096996Z"
    }
   },
   "outputs": [],
   "source": [
    "clean_retail = notna_retail.query('0 <= quantity <= @percentiles[1]')"
   ]
  },
  {
   "cell_type": "markdown",
   "metadata": {},
   "source": [
    "Рассмотрим таблицу с ценами на товары."
   ]
  },
  {
   "cell_type": "code",
   "execution_count": 21,
   "metadata": {
    "ExecuteTime": {
     "end_time": "2021-02-12T18:44:33.076085Z",
     "start_time": "2021-02-12T18:44:33.035393Z"
    }
   },
   "outputs": [
    {
     "data": {
      "text/html": [
       "<div>\n",
       "<style scoped>\n",
       "    .dataframe tbody tr th:only-of-type {\n",
       "        vertical-align: middle;\n",
       "    }\n",
       "\n",
       "    .dataframe tbody tr th {\n",
       "        vertical-align: top;\n",
       "    }\n",
       "\n",
       "    .dataframe thead th {\n",
       "        text-align: right;\n",
       "    }\n",
       "</style>\n",
       "<table border=\"1\" class=\"dataframe\">\n",
       "  <thead>\n",
       "    <tr style=\"text-align: right;\">\n",
       "      <th></th>\n",
       "      <th>prices</th>\n",
       "    </tr>\n",
       "    <tr>\n",
       "      <th>item_id</th>\n",
       "      <th></th>\n",
       "    </tr>\n",
       "  </thead>\n",
       "  <tbody>\n",
       "    <tr>\n",
       "      <th>DOT</th>\n",
       "      <td>174</td>\n",
       "    </tr>\n",
       "    <tr>\n",
       "      <th>M</th>\n",
       "      <td>59</td>\n",
       "    </tr>\n",
       "    <tr>\n",
       "      <th>S</th>\n",
       "      <td>29</td>\n",
       "    </tr>\n",
       "    <tr>\n",
       "      <th>POST</th>\n",
       "      <td>15</td>\n",
       "    </tr>\n",
       "    <tr>\n",
       "      <th>D</th>\n",
       "      <td>13</td>\n",
       "    </tr>\n",
       "    <tr>\n",
       "      <th>79321</th>\n",
       "      <td>11</td>\n",
       "    </tr>\n",
       "    <tr>\n",
       "      <th>47566</th>\n",
       "      <td>10</td>\n",
       "    </tr>\n",
       "    <tr>\n",
       "      <th>84406B</th>\n",
       "      <td>10</td>\n",
       "    </tr>\n",
       "    <tr>\n",
       "      <th>AMAZONFEE</th>\n",
       "      <td>9</td>\n",
       "    </tr>\n",
       "    <tr>\n",
       "      <th>22834</th>\n",
       "      <td>9</td>\n",
       "    </tr>\n",
       "  </tbody>\n",
       "</table>\n",
       "</div>"
      ],
      "text/plain": [
       "           prices\n",
       "item_id          \n",
       "DOT           174\n",
       "M              59\n",
       "S              29\n",
       "POST           15\n",
       "D              13\n",
       "79321          11\n",
       "47566          10\n",
       "84406B         10\n",
       "AMAZONFEE       9\n",
       "22834           9"
      ]
     },
     "execution_count": 21,
     "metadata": {},
     "output_type": "execute_result"
    }
   ],
   "source": [
    "(products\n",
    " .groupby('item_id')\n",
    " .agg(prices = ('price_per_one', 'nunique'))\n",
    " .sort_values(by = 'prices', ascending = False)\n",
    " .head(10)\n",
    ")"
   ]
  },
  {
   "cell_type": "markdown",
   "metadata": {},
   "source": [
    "Есть какие-то товары, которые имеют более 10 разных цен! Может быть это стоимость доставки (судя по странным названиям)? Или цены со скидкой? Или в разных магазинах разные цены? Лучше уточнить у заказчиков. \n",
    "\n",
    "А пока посмотрим детальные на распределение цен и решим, что конкретно нужно брать за цену товара (для подсчёта среднего чека)."
   ]
  },
  {
   "cell_type": "code",
   "execution_count": 22,
   "metadata": {
    "ExecuteTime": {
     "end_time": "2021-02-12T18:44:33.106993Z",
     "start_time": "2021-02-12T18:44:33.077727Z"
    }
   },
   "outputs": [
    {
     "data": {
      "text/html": [
       "<div>\n",
       "<style scoped>\n",
       "    .dataframe tbody tr th:only-of-type {\n",
       "        vertical-align: middle;\n",
       "    }\n",
       "\n",
       "    .dataframe tbody tr th {\n",
       "        vertical-align: top;\n",
       "    }\n",
       "\n",
       "    .dataframe thead th {\n",
       "        text-align: right;\n",
       "    }\n",
       "</style>\n",
       "<table border=\"1\" class=\"dataframe\">\n",
       "  <thead>\n",
       "    <tr style=\"text-align: right;\">\n",
       "      <th></th>\n",
       "      <th>2</th>\n",
       "      <th>2018</th>\n",
       "      <th>3734</th>\n",
       "      <th>6476</th>\n",
       "      <th>6864</th>\n",
       "      <th>9081</th>\n",
       "      <th>9409</th>\n",
       "      <th>9431</th>\n",
       "      <th>9445</th>\n",
       "      <th>9572</th>\n",
       "    </tr>\n",
       "  </thead>\n",
       "  <tbody>\n",
       "    <tr>\n",
       "      <th>item_id</th>\n",
       "      <td>84406B</td>\n",
       "      <td>84406B</td>\n",
       "      <td>84406B</td>\n",
       "      <td>84406B</td>\n",
       "      <td>84406B</td>\n",
       "      <td>84406B</td>\n",
       "      <td>84406B</td>\n",
       "      <td>84406B</td>\n",
       "      <td>84406B</td>\n",
       "      <td>84406B</td>\n",
       "    </tr>\n",
       "    <tr>\n",
       "      <th>price_per_one</th>\n",
       "      <td>2.75</td>\n",
       "      <td>3.25</td>\n",
       "      <td>6.77</td>\n",
       "      <td>3.44</td>\n",
       "      <td>6.63</td>\n",
       "      <td>4.15</td>\n",
       "      <td>0</td>\n",
       "      <td>3.5</td>\n",
       "      <td>8.29</td>\n",
       "      <td>3.75</td>\n",
       "    </tr>\n",
       "  </tbody>\n",
       "</table>\n",
       "</div>"
      ],
      "text/plain": [
       "                 2       2018    3734    6476    6864    9081    9409    9431  \\\n",
       "item_id        84406B  84406B  84406B  84406B  84406B  84406B  84406B  84406B   \n",
       "price_per_one    2.75    3.25    6.77    3.44    6.63    4.15       0     3.5   \n",
       "\n",
       "                 9445    9572  \n",
       "item_id        84406B  84406B  \n",
       "price_per_one    8.29    3.75  "
      ]
     },
     "execution_count": 22,
     "metadata": {},
     "output_type": "execute_result"
    }
   ],
   "source": [
    "products[products['item_id'] == '84406B'].T"
   ]
  },
  {
   "cell_type": "markdown",
   "metadata": {},
   "source": [
    "Цена одного из товаров колеблется от 0 (акция или подарок?) до 8.29 у.е. за штуку. \n",
    "\n",
    "Взять за общую цену среднюю или максимальную? Попробуем поработать с максимальной, так как меньшие цены могут быть с учётом скидок, что исказит средний чек. "
   ]
  },
  {
   "cell_type": "code",
   "execution_count": 23,
   "metadata": {
    "ExecuteTime": {
     "end_time": "2021-02-12T18:44:33.137886Z",
     "start_time": "2021-02-12T18:44:33.109960Z"
    }
   },
   "outputs": [],
   "source": [
    "max_products = (products\n",
    "                .groupby('item_id')\n",
    "                .agg({'price_per_one': 'max'})\n",
    "                .reset_index()\n",
    "               )"
   ]
  },
  {
   "cell_type": "markdown",
   "metadata": {},
   "source": [
    "#### 3.3 Расчёт среднего чека лояльных и не лояльных клиентов"
   ]
  },
  {
   "cell_type": "markdown",
   "metadata": {},
   "source": [
    "Для подсчёта среднего чека нужно сначала объединить таблицы с покупками и с ценами."
   ]
  },
  {
   "cell_type": "code",
   "execution_count": 24,
   "metadata": {
    "ExecuteTime": {
     "end_time": "2021-02-12T18:44:33.183793Z",
     "start_time": "2021-02-12T18:44:33.139879Z"
    }
   },
   "outputs": [],
   "source": [
    "df = pd.merge(clean_retail, max_products, how = 'left', on = 'item_id')"
   ]
  },
  {
   "cell_type": "code",
   "execution_count": 25,
   "metadata": {
    "ExecuteTime": {
     "end_time": "2021-02-12T18:44:33.198727Z",
     "start_time": "2021-02-12T18:44:33.185758Z"
    }
   },
   "outputs": [
    {
     "data": {
      "text/plain": [
       "True"
      ]
     },
     "execution_count": 25,
     "metadata": {},
     "output_type": "execute_result"
    }
   ],
   "source": [
    "len(df) == len(clean_retail)"
   ]
  },
  {
   "cell_type": "markdown",
   "metadata": {},
   "source": [
    "Объединение прошло успешно: количество строк осталось тем же."
   ]
  },
  {
   "cell_type": "markdown",
   "metadata": {},
   "source": [
    "Добавим новый столбец с итоговой ценой товара, которую получим, умножая количество товара на его цену."
   ]
  },
  {
   "cell_type": "code",
   "execution_count": 26,
   "metadata": {
    "ExecuteTime": {
     "end_time": "2021-02-12T18:44:33.213681Z",
     "start_time": "2021-02-12T18:44:33.202751Z"
    }
   },
   "outputs": [],
   "source": [
    "df['price'] = df['price_per_one'] * df['quantity']"
   ]
  },
  {
   "cell_type": "code",
   "execution_count": 27,
   "metadata": {
    "ExecuteTime": {
     "end_time": "2021-02-12T18:44:33.275194Z",
     "start_time": "2021-02-12T18:44:33.217674Z"
    }
   },
   "outputs": [
    {
     "data": {
      "text/html": [
       "<div>\n",
       "<style scoped>\n",
       "    .dataframe tbody tr th:only-of-type {\n",
       "        vertical-align: middle;\n",
       "    }\n",
       "\n",
       "    .dataframe tbody tr th {\n",
       "        vertical-align: top;\n",
       "    }\n",
       "\n",
       "    .dataframe thead th {\n",
       "        text-align: right;\n",
       "    }\n",
       "</style>\n",
       "<table border=\"1\" class=\"dataframe\">\n",
       "  <thead>\n",
       "    <tr style=\"text-align: right;\">\n",
       "      <th></th>\n",
       "      <th>loyal</th>\n",
       "      <th>total</th>\n",
       "      <th>sum_amount</th>\n",
       "      <th>cnt_amount</th>\n",
       "    </tr>\n",
       "  </thead>\n",
       "  <tbody>\n",
       "    <tr>\n",
       "      <th>0</th>\n",
       "      <td>True</td>\n",
       "      <td>282.46</td>\n",
       "      <td>33</td>\n",
       "      <td>7</td>\n",
       "    </tr>\n",
       "    <tr>\n",
       "      <th>1</th>\n",
       "      <td>True</td>\n",
       "      <td>42.10</td>\n",
       "      <td>10</td>\n",
       "      <td>2</td>\n",
       "    </tr>\n",
       "    <tr>\n",
       "      <th>2</th>\n",
       "      <td>False</td>\n",
       "      <td>423.27</td>\n",
       "      <td>71</td>\n",
       "      <td>12</td>\n",
       "    </tr>\n",
       "    <tr>\n",
       "      <th>3</th>\n",
       "      <td>False</td>\n",
       "      <td>108.47</td>\n",
       "      <td>11</td>\n",
       "      <td>4</td>\n",
       "    </tr>\n",
       "    <tr>\n",
       "      <th>4</th>\n",
       "      <td>False</td>\n",
       "      <td>23.74</td>\n",
       "      <td>2</td>\n",
       "      <td>1</td>\n",
       "    </tr>\n",
       "    <tr>\n",
       "      <th>...</th>\n",
       "      <td>...</td>\n",
       "      <td>...</td>\n",
       "      <td>...</td>\n",
       "      <td>...</td>\n",
       "    </tr>\n",
       "    <tr>\n",
       "      <th>3299</th>\n",
       "      <td>False</td>\n",
       "      <td>356.12</td>\n",
       "      <td>74</td>\n",
       "      <td>15</td>\n",
       "    </tr>\n",
       "    <tr>\n",
       "      <th>3300</th>\n",
       "      <td>False</td>\n",
       "      <td>435.70</td>\n",
       "      <td>90</td>\n",
       "      <td>14</td>\n",
       "    </tr>\n",
       "    <tr>\n",
       "      <th>3301</th>\n",
       "      <td>True</td>\n",
       "      <td>395.86</td>\n",
       "      <td>113</td>\n",
       "      <td>11</td>\n",
       "    </tr>\n",
       "    <tr>\n",
       "      <th>3302</th>\n",
       "      <td>True</td>\n",
       "      <td>321.14</td>\n",
       "      <td>90</td>\n",
       "      <td>10</td>\n",
       "    </tr>\n",
       "    <tr>\n",
       "      <th>3303</th>\n",
       "      <td>True</td>\n",
       "      <td>1021.08</td>\n",
       "      <td>141</td>\n",
       "      <td>14</td>\n",
       "    </tr>\n",
       "  </tbody>\n",
       "</table>\n",
       "<p>3304 rows × 4 columns</p>\n",
       "</div>"
      ],
      "text/plain": [
       "      loyal    total  sum_amount  cnt_amount\n",
       "0      True   282.46          33           7\n",
       "1      True    42.10          10           2\n",
       "2     False   423.27          71          12\n",
       "3     False   108.47          11           4\n",
       "4     False    23.74           2           1\n",
       "...     ...      ...         ...         ...\n",
       "3299  False   356.12          74          15\n",
       "3300  False   435.70          90          14\n",
       "3301   True   395.86         113          11\n",
       "3302   True   321.14          90          10\n",
       "3303   True  1021.08         141          14\n",
       "\n",
       "[3304 rows x 4 columns]"
      ]
     },
     "execution_count": 27,
     "metadata": {},
     "output_type": "execute_result"
    }
   ],
   "source": [
    "pivot = (df\n",
    "         .groupby('purchase_id')\n",
    "         .agg(loyal = ('loyal', 'max'), total = ('price', 'sum'), sum_amount = ('quantity', 'sum'), cnt_amount = ('quantity', 'count'))\n",
    "         .reset_index(drop = True)\n",
    "        )\n",
    "pivot"
   ]
  },
  {
   "cell_type": "code",
   "execution_count": 28,
   "metadata": {
    "ExecuteTime": {
     "end_time": "2021-02-12T18:44:33.305990Z",
     "start_time": "2021-02-12T18:44:33.277068Z"
    }
   },
   "outputs": [
    {
     "data": {
      "text/html": [
       "<div>\n",
       "<style scoped>\n",
       "    .dataframe tbody tr th:only-of-type {\n",
       "        vertical-align: middle;\n",
       "    }\n",
       "\n",
       "    .dataframe tbody tr th {\n",
       "        vertical-align: top;\n",
       "    }\n",
       "\n",
       "    .dataframe thead th {\n",
       "        text-align: right;\n",
       "    }\n",
       "</style>\n",
       "<table border=\"1\" class=\"dataframe\">\n",
       "  <thead>\n",
       "    <tr style=\"text-align: right;\">\n",
       "      <th></th>\n",
       "      <th>aov</th>\n",
       "      <th>median_order</th>\n",
       "    </tr>\n",
       "    <tr>\n",
       "      <th>loyal</th>\n",
       "      <th></th>\n",
       "      <th></th>\n",
       "    </tr>\n",
       "  </thead>\n",
       "  <tbody>\n",
       "    <tr>\n",
       "      <th>False</th>\n",
       "      <td>917.161480</td>\n",
       "      <td>522.940</td>\n",
       "    </tr>\n",
       "    <tr>\n",
       "      <th>True</th>\n",
       "      <td>885.989011</td>\n",
       "      <td>406.485</td>\n",
       "    </tr>\n",
       "  </tbody>\n",
       "</table>\n",
       "</div>"
      ],
      "text/plain": [
       "              aov  median_order\n",
       "loyal                          \n",
       "False  917.161480       522.940\n",
       "True   885.989011       406.485"
      ]
     },
     "execution_count": 28,
     "metadata": {},
     "output_type": "execute_result"
    }
   ],
   "source": [
    "(pivot\n",
    " .groupby('loyal')\n",
    " .agg(aov = ('total', 'mean'), median_order = ('total', 'median'))\n",
    ")"
   ]
  },
  {
   "cell_type": "markdown",
   "metadata": {},
   "source": [
    "Получаем, что и средние чеки и медианное значение у лояльных клиентов ниже. \n",
    "\n",
    "Связанно ли это со скидками (когда количество товара в чеке стоит 0, из-за чего и цена становится 0)? Или программа лояльности работает не так, как ожидалось."
   ]
  },
  {
   "cell_type": "markdown",
   "metadata": {},
   "source": [
    "#### 3.4 Количество товаров в чеке у лояльных и не лояльных клиентов"
   ]
  },
  {
   "cell_type": "code",
   "execution_count": 29,
   "metadata": {
    "ExecuteTime": {
     "end_time": "2021-02-12T18:44:33.337966Z",
     "start_time": "2021-02-12T18:44:33.307985Z"
    }
   },
   "outputs": [
    {
     "data": {
      "text/html": [
       "<div>\n",
       "<style scoped>\n",
       "    .dataframe tbody tr th:only-of-type {\n",
       "        vertical-align: middle;\n",
       "    }\n",
       "\n",
       "    .dataframe tbody tr th {\n",
       "        vertical-align: top;\n",
       "    }\n",
       "\n",
       "    .dataframe thead th {\n",
       "        text-align: right;\n",
       "    }\n",
       "</style>\n",
       "<table border=\"1\" class=\"dataframe\">\n",
       "  <thead>\n",
       "    <tr style=\"text-align: right;\">\n",
       "      <th></th>\n",
       "      <th>mean_amount</th>\n",
       "      <th>median_amount</th>\n",
       "    </tr>\n",
       "    <tr>\n",
       "      <th>loyal</th>\n",
       "      <th></th>\n",
       "      <th></th>\n",
       "    </tr>\n",
       "  </thead>\n",
       "  <tbody>\n",
       "    <tr>\n",
       "      <th>False</th>\n",
       "      <td>192.678020</td>\n",
       "      <td>113</td>\n",
       "    </tr>\n",
       "    <tr>\n",
       "      <th>True</th>\n",
       "      <td>144.127042</td>\n",
       "      <td>91</td>\n",
       "    </tr>\n",
       "  </tbody>\n",
       "</table>\n",
       "</div>"
      ],
      "text/plain": [
       "       mean_amount  median_amount\n",
       "loyal                            \n",
       "False   192.678020            113\n",
       "True    144.127042             91"
      ]
     },
     "execution_count": 29,
     "metadata": {},
     "output_type": "execute_result"
    }
   ],
   "source": [
    "(pivot\n",
    " .groupby('loyal')\n",
    " .agg(mean_amount = ('sum_amount', 'mean'), median_amount = ('sum_amount', 'median')) \n",
    ")"
   ]
  },
  {
   "cell_type": "markdown",
   "metadata": {},
   "source": [
    "Количество товаров в чеке и по среднему и по медиане больше у обычных клиентов.\n",
    "\n",
    "Посмотрим дополнительно количество позиций в чеке, ведь здесь мы не учитывали товары в размере 0 штук."
   ]
  },
  {
   "cell_type": "code",
   "execution_count": 30,
   "metadata": {
    "ExecuteTime": {
     "end_time": "2021-02-12T18:44:33.368866Z",
     "start_time": "2021-02-12T18:44:33.339919Z"
    }
   },
   "outputs": [
    {
     "data": {
      "text/html": [
       "<div>\n",
       "<style scoped>\n",
       "    .dataframe tbody tr th:only-of-type {\n",
       "        vertical-align: middle;\n",
       "    }\n",
       "\n",
       "    .dataframe tbody tr th {\n",
       "        vertical-align: top;\n",
       "    }\n",
       "\n",
       "    .dataframe thead th {\n",
       "        text-align: right;\n",
       "    }\n",
       "</style>\n",
       "<table border=\"1\" class=\"dataframe\">\n",
       "  <thead>\n",
       "    <tr style=\"text-align: right;\">\n",
       "      <th></th>\n",
       "      <th>mean_amount</th>\n",
       "      <th>median_amount</th>\n",
       "    </tr>\n",
       "    <tr>\n",
       "      <th>loyal</th>\n",
       "      <th></th>\n",
       "      <th></th>\n",
       "    </tr>\n",
       "  </thead>\n",
       "  <tbody>\n",
       "    <tr>\n",
       "      <th>False</th>\n",
       "      <td>19.499546</td>\n",
       "      <td>14</td>\n",
       "    </tr>\n",
       "    <tr>\n",
       "      <th>True</th>\n",
       "      <td>20.667877</td>\n",
       "      <td>15</td>\n",
       "    </tr>\n",
       "  </tbody>\n",
       "</table>\n",
       "</div>"
      ],
      "text/plain": [
       "       mean_amount  median_amount\n",
       "loyal                            \n",
       "False    19.499546             14\n",
       "True     20.667877             15"
      ]
     },
     "execution_count": 30,
     "metadata": {},
     "output_type": "execute_result"
    }
   ],
   "source": [
    "(pivot\n",
    " .groupby('loyal')\n",
    " .agg(mean_amount = ('cnt_amount', 'mean'), median_amount = ('cnt_amount', 'median')) \n",
    ")"
   ]
  },
  {
   "cell_type": "markdown",
   "metadata": {},
   "source": [
    "А вот по количеству уникальных товаров в чеке лояльные клиенты чуть-чуть опережают обычных. Но это тот результат, который мы ожидали. "
   ]
  },
  {
   "cell_type": "markdown",
   "metadata": {},
   "source": [
    "#### 3.5 Построить графики распределения"
   ]
  },
  {
   "cell_type": "code",
   "execution_count": 31,
   "metadata": {
    "ExecuteTime": {
     "end_time": "2021-02-12T18:44:33.554631Z",
     "start_time": "2021-02-12T18:44:33.369819Z"
    },
    "scrolled": true
   },
   "outputs": [
    {
     "data": {
      "text/plain": [
       "<matplotlib.axes._subplots.AxesSubplot at 0x2213441e190>"
      ]
     },
     "execution_count": 31,
     "metadata": {},
     "output_type": "execute_result"
    },
    {
     "data": {
      "image/png": "[encoded data removed]",
      "text/plain": [
       "<Figure size 432x288 with 1 Axes>"
      ]
     },
     "metadata": {
      "needs_background": "light"
     },
     "output_type": "display_data"
    }
   ],
   "source": [
    "sns.boxplot(x = \"loyal\", y = \"total\", data = pivot, palette = 'Set1')"
   ]
  },
  {
   "cell_type": "markdown",
   "metadata": {},
   "source": [
    "Из-за аномальных чеков графики совсем не наглядные. Отфильтруем данные по 95 перцентилю."
   ]
  },
  {
   "cell_type": "code",
   "execution_count": 32,
   "metadata": {
    "ExecuteTime": {
     "end_time": "2021-02-12T18:44:33.570188Z",
     "start_time": "2021-02-12T18:44:33.556227Z"
    }
   },
   "outputs": [
    {
     "name": "stdout",
     "output_type": "stream",
     "text": [
      "95 перцентиль для total: 2433.42\n",
      "95 перцентиль для sum_amount: 532.0\n",
      "95 перцентиль для cnt_amount: 57.0\n"
     ]
    }
   ],
   "source": [
    "clean_pivot = pivot.copy()\n",
    "for col in ['total', 'sum_amount', 'cnt_amount']:\n",
    "    percentiles = np.percentile(pivot[col], 95)\n",
    "    print(f'95 перцентиль для {col}: {percentiles.round(2)}')\n",
    "    clean_pivot = clean_pivot[clean_pivot[col] <= percentiles]"
   ]
  },
  {
   "cell_type": "markdown",
   "metadata": {},
   "source": [
    "Построим по очищенным данным гистограммы и графики распределения."
   ]
  },
  {
   "cell_type": "code",
   "execution_count": 33,
   "metadata": {
    "ExecuteTime": {
     "end_time": "2021-02-12T18:44:33.585186Z",
     "start_time": "2021-02-12T18:44:33.572185Z"
    }
   },
   "outputs": [],
   "source": [
    "loyal = clean_pivot.query('loyal == True')\n",
    "not_loyal = clean_pivot.query('loyal == False')"
   ]
  },
  {
   "cell_type": "code",
   "execution_count": 34,
   "metadata": {
    "ExecuteTime": {
     "end_time": "2021-02-12T18:44:41.338977Z",
     "start_time": "2021-02-12T18:44:33.587145Z"
    }
   },
   "outputs": [
    {
     "data": {
      "image/png": "[encoded data removed]"
     },
     "metadata": {},
     "output_type": "display_data"
    },
    {
     "data": {
      "image/png": "[encoded data removed]"
     },
     "metadata": {},
     "output_type": "display_data"
    },
    {
     "data": {
      "image/png": "[encoded data removed]"
     },
     "metadata": {},
     "output_type": "display_data"
    }
   ],
   "source": [
    "for col in ['total', 'sum_amount', 'cnt_amount']:\n",
    "    group_labels = ['Лояльные', 'Не лояльные']\n",
    "    data = [loyal[col], not_loyal[col]]\n",
    "    fig = ff.create_distplot(data, group_labels, show_rug = False, \n",
    "                             bin_size = loyal[col].max() / 10)\n",
    "    fig.update_layout(\n",
    "    title = 'График распределения ' + col,\n",
    "    xaxis_title = \"Значения \" + col,\n",
    "    yaxis_title = \"Плотность распределения\"\n",
    "    )\n",
    "    \n",
    "    fig.show('png')"
   ]
  },
  {
   "cell_type": "markdown",
   "metadata": {},
   "source": [
    "Распределения похожи на Пуассоновские, а не на нормальные. Учтём это при выборе статистического теста."
   ]
  },
  {
   "cell_type": "markdown",
   "metadata": {},
   "source": [
    "Посмотрим так же на \"ящики с усами\" для тех же величин."
   ]
  },
  {
   "cell_type": "code",
   "execution_count": 35,
   "metadata": {
    "ExecuteTime": {
     "end_time": "2021-02-12T18:44:42.512200Z",
     "start_time": "2021-02-12T18:44:41.345519Z"
    },
    "scrolled": false
   },
   "outputs": [
    {
     "data": {
      "image/png": "[encoded data removed]",
      "text/plain": [
       "<Figure size 432x432 with 1 Axes>"
      ]
     },
     "metadata": {
      "needs_background": "light"
     },
     "output_type": "display_data"
    },
    {
     "data": {
      "image/png": "[encoded data removed]",
      "text/plain": [
       "<Figure size 432x432 with 1 Axes>"
      ]
     },
     "metadata": {
      "needs_background": "light"
     },
     "output_type": "display_data"
    },
    {
     "data": {
      "image/png": "[encoded data removed]",
      "text/plain": [
       "<Figure size 432x432 with 1 Axes>"
      ]
     },
     "metadata": {
      "needs_background": "light"
     },
     "output_type": "display_data"
    }
   ],
   "source": [
    "for col in ['total', 'sum_amount', 'cnt_amount']:\n",
    "    dims = (6, 6)\n",
    "    fig, ax = plt.subplots(figsize = dims)\n",
    "\n",
    "    ax.spines['top'].set_visible(False) \n",
    "    ax.spines['right'].set_visible(False)\n",
    "\n",
    "    sns.boxplot(x = 'loyal', y = col, data = clean_pivot, palette = 'Set1')\n",
    "    \n",
    "\n",
    "    plt.xlabel('Лояльный клиент', fontsize = 14)\n",
    "    plt.ylabel('Значение столбца ' + col, fontsize = 14)\n",
    "    plt.title('График распределения ' + col + '\\nв зависимости от лояльности', fontsize = 16)\n",
    "    \n",
    "    plt.savefig('Ящик с усами для ' + col + '.png')\n",
    "plt.show()"
   ]
  },
  {
   "cell_type": "markdown",
   "metadata": {},
   "source": [
    "Лояльные клиенты проигрывают обычным в среднем чеке и количестве купленных товаров. И находятся примерно на одном уровне по количеству позиций в чеке. Похоже, что программа лояльности не даёт увеличение этих метрик."
   ]
  },
  {
   "cell_type": "markdown",
   "metadata": {},
   "source": [
    "**Вывод шага 3:**\n",
    "\n",
    "В ходе исследовательского анализа данных получили, что:\n",
    "- Пропущенные значения в идентификаторе клиента относятся к не лояльным. Строки с пропусками пришлось удалить, чтобы не искажать итоговую картину\n",
    "- Присутствуют аномальные значения количества товаров (отрицательные и превышающие десятки тысяч). Они были удалены (остались значения от 0 до 119 - 99 перцентиля)\n",
    "- Также было установлено, что в таблице `product_codes` одному товару модет соответствовать несколько разных цен. Есть несколько версий, почему это произошло:\n",
    "    - какие-то позиции являются стоимостью доставки, которая может различаться\n",
    "    - какие-то цены могут быть записаны с учётом акций\n",
    "    - в разных магазинах разная ценовая политика\n",
    "- За итоговую цену взяли максимальную из списка, так как меньшие цены могут быть с учётом скидок, что исказит средний чек.\n",
    "- Были проанализированы средний чек, количество товаров и количество позиций в чеке в разбивке по лояльности клиента. По всем метрикам лояльные клиенты не лучше обычных.\n",
    "\n",
    "Уже можно сказать, что программа лояльности не даёт ожидаемого результата."
   ]
  },
  {
   "cell_type": "markdown",
   "metadata": {},
   "source": [
    "### Шаг 4. Проверка гипотез "
   ]
  },
  {
   "cell_type": "markdown",
   "metadata": {},
   "source": [
    "Так как мы имеем дело с величинами, распределёнными не нормально, то воспользуемся тестом Манна-Уитни, который не так чувствителен к выбросам."
   ]
  },
  {
   "cell_type": "code",
   "execution_count": 36,
   "metadata": {
    "ExecuteTime": {
     "end_time": "2021-02-12T18:44:42.528159Z",
     "start_time": "2021-02-12T18:44:42.516220Z"
    }
   },
   "outputs": [],
   "source": [
    "def test_mw(sample_a, sample_b, parameter):\n",
    "    '''Функция для проверки гипотез тестом Манна-Уитни\n",
    "\n",
    "    Принимает на вход 2 набора значений и название параметра, по которому мы проверяем гипотезу\n",
    "    '''\n",
    "    pvalue = st.mannwhitneyu(sample_a, sample_b)[1]\n",
    "    alpha = 0.05\n",
    "\n",
    "    print('p-значение:', pvalue)\n",
    "\n",
    "    if (pvalue < alpha):\n",
    "        print(f\"Отвергаем нулевую гипотезу: различия в {parameter} есть\")\n",
    "    else:\n",
    "        print(f'''Не получилось отвергнуть нулевую гипотезу: статистически значимых различий в {parameter} нет''')\n",
    "\n",
    "    print(\"Относительный проигрыш/выигрыш группы не лояльных клиентов равен {0:.1%}\".format(sample_b.mean() / sample_a.mean() - 1))"
   ]
  },
  {
   "cell_type": "markdown",
   "metadata": {},
   "source": [
    "**Нулевая гипотеза:** Средние чеки лояльных и не лояльных клиентов равны. \n",
    "\n",
    "**Альтернативная гипотеза:** Средние чеки лояльных и не лояльных клиентов различаются. \n",
    "\n",
    "Вероятность ошибки 1-го рода: 5%"
   ]
  },
  {
   "cell_type": "code",
   "execution_count": 37,
   "metadata": {
    "ExecuteTime": {
     "end_time": "2021-02-12T18:44:42.544223Z",
     "start_time": "2021-02-12T18:44:42.530152Z"
    }
   },
   "outputs": [
    {
     "name": "stdout",
     "output_type": "stream",
     "text": [
      "p-значение: 1.0831678910268699e-07\n",
      "Отвергаем нулевую гипотезу: различия в среднем чеке есть\n",
      "Относительный проигрыш/выигрыш группы не лояльных клиентов равен 19.4%\n"
     ]
    }
   ],
   "source": [
    "test_mw(loyal['total'], not_loyal['total'], 'среднем чеке')"
   ]
  },
  {
   "cell_type": "markdown",
   "metadata": {},
   "source": [
    "**Нулевая гипотеза:** Лояльные и не лояльные клиенты в среднем покупают одинаковое число товаров. \n",
    "\n",
    "**Альтернативная гипотеза:** Лояльные и не лояльные клиенты в среднем покупают разное число товаров. \n",
    "\n",
    "Вероятность ошибки 1-го рода: 5%"
   ]
  },
  {
   "cell_type": "code",
   "execution_count": 38,
   "metadata": {
    "ExecuteTime": {
     "end_time": "2021-02-12T18:44:42.560182Z",
     "start_time": "2021-02-12T18:44:42.547216Z"
    }
   },
   "outputs": [
    {
     "name": "stdout",
     "output_type": "stream",
     "text": [
      "p-значение: 4.564656923135296e-06\n",
      "Отвергаем нулевую гипотезу: различия в количестве товаров есть\n",
      "Относительный проигрыш/выигрыш группы не лояльных клиентов равен 17.5%\n"
     ]
    }
   ],
   "source": [
    "test_mw(loyal['sum_amount'], not_loyal['sum_amount'], 'количестве товаров')"
   ]
  },
  {
   "cell_type": "markdown",
   "metadata": {},
   "source": [
    "**Вывод шага 4:**\n",
    "\n",
    "С помощью теста Манна-Уитни получены статистически значимые различия между группами клиентов. У не лояльных клиентов чек выше на 19 процентов, а количество товаров на 17 процентов. "
   ]
  },
  {
   "cell_type": "markdown",
   "metadata": {},
   "source": [
    "### Шаг 5. Вывод и рекомендации "
   ]
  },
  {
   "cell_type": "markdown",
   "metadata": {},
   "source": [
    "1. Были проанализированные данные о покупках в магазине строительных материалов. \n",
    "2. Данные оптимизированы, приведены к нужным типам, очищены от дубликатов.\n",
    "3. Проведён исследовательский анализ данных:\n",
    "    - удалены пропуски в столбце с айди клиента (их было достаточно много и все относились к не лояльным клиентам, так что повлияли бы на дальнейшие результаты)\n",
    "    - отфильтрованы аномальные значения \n",
    "    - для товаров со множеством цен оставлена максимальная (чтобы не искажать средний чек скидочными ценами)\n",
    "    - по графикам распределения выяснено, что по среднему чеку и количеству товаров в нём лояльные клиенты хуже\n",
    "        \n",
    "4. Сформулированы и проверены гипотезы с помощью теста Манна-Уитни:\n",
    "    - найдены статистически значимые различия между лояльными и обычными клиентами\n",
    "    - не лояльные клиенты лучше, более чем на 15%, по сравнению с лояльными\n",
    "    \n",
    "Клиенты с картой лояльности покупают на меньшие суммы и меньше товаров за раз, чем обычные. Если эти метрики важны, то стоит задуматься об изменениях в программе лояльности. Если важна частота покупок, то нужно провести дополнительное исследование."
   ]
  }
 ],
 "metadata": {
  "kernelspec": {
   "display_name": "Python 3",
   "language": "python",
   "name": "python3"
  },
  "language_info": {
   "codemirror_mode": {
    "name": "ipython",
    "version": 3
   },
   "file_extension": ".py",
   "mimetype": "text/x-python",
   "name": "python",
   "nbconvert_exporter": "python",
   "pygments_lexer": "ipython3",
   "version": "3.8.3"
  },
  "toc": {
   "base_numbering": 1,
   "nav_menu": {},
   "number_sections": true,
   "sideBar": true,
   "skip_h1_title": false,
   "title_cell": "Table of Contents",
   "title_sidebar": "Contents",
   "toc_cell": false,
   "toc_position": {},
   "toc_section_display": true,
   "toc_window_display": false
  }
 },
 "nbformat": 4,
 "nbformat_minor": 2
}
